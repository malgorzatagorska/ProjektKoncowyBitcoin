{
 "cells": [
  {
   "cell_type": "code",
   "execution_count": 2,
   "outputs": [],
   "source": [
    "import pandas as pd"
   ],
   "metadata": {
    "collapsed": false,
    "ExecuteTime": {
     "end_time": "2023-05-21T19:18:05.258987200Z",
     "start_time": "2023-05-21T19:17:55.486205100Z"
    }
   }
  },
  {
   "cell_type": "code",
   "execution_count": 6,
   "outputs": [],
   "source": [
    "usecols = ['timestamp', 'text']\n",
    "dtype_mapping = {\n",
    "    'timestamp': str,\n",
    "    'text': str\n",
    "}\n",
    "\n",
    "# Wczytaj dane z pliku, ale nie wczytuj wszystkich chunków na raz\n",
    "data = pd.read_csv('C:\\\\Users\\\\wcwik02\\\\Desktop\\\\SDA\\\\PROJEKT_KOŃCOWY\\\\datasets\\\\tweets.csv', sep=';', usecols=usecols, dtype=dtype_mapping, chunksize=100000, engine='python', parse_dates=['timestamp'])\n",
    "\n",
    "# Inicjalizuj pustą listę, która będzie przechowywać filtrowane chunki danych\n",
    "filtered_data = []\n",
    "\n",
    "# Iteruj przez chunki danych i wybierz tylko te z odpowiednim zakresem dat\n",
    "for chunk in data:\n",
    "    filtered_chunk = chunk[(chunk['timestamp'] >= '2014-09-17') & (chunk['timestamp'] <= '2019-05-27')]\n",
    "    filtered_data.append(filtered_chunk)\n",
    "\n",
    "# Po zakończeniu iteracji, połącz wszystkie filtrowane chunki w jedną ramkę danych\n",
    "df = pd.concat(filtered_data)"
   ],
   "metadata": {
    "collapsed": false,
    "ExecuteTime": {
     "end_time": "2023-05-21T19:45:57.246665Z",
     "start_time": "2023-05-21T19:36:30.185709700Z"
    }
   }
  },
  {
   "cell_type": "code",
   "execution_count": 7,
   "outputs": [
    {
     "name": "stdout",
     "output_type": "stream",
     "text": [
      "                                                 text        Date\n",
      "11  BTC IS STILL GOING STRONG!!\\n\\nThus, we are gi...  2019-05-21\n",
      "12  BestMixer has been seized by the Dutch Police ...  2019-05-22\n",
      "15                                              share  2019-05-10\n",
      "20  $HOT $HOT $HOT 🍀\\n\\n🚀🚀🚀🚀🚀\\n\\n🔥🔥🔥🔥🔥 https://t.c...  2019-05-26\n",
      "22  https://t.co/Ip0ph8uZYn\\n\\n#cryptocurrency #dr...  2019-05-02\n"
     ]
    }
   ],
   "source": [
    "df['timestamp'] = pd.to_datetime(df['timestamp'])\n",
    "df['Date'] = df['timestamp'].dt.strftime('%Y-%m-%d')\n",
    "df.drop(['timestamp'], axis=1, inplace=True)\n",
    "print(df.head())"
   ],
   "metadata": {
    "collapsed": false,
    "ExecuteTime": {
     "end_time": "2023-05-21T19:47:52.598091400Z",
     "start_time": "2023-05-21T19:47:15.033260600Z"
    }
   }
  },
  {
   "cell_type": "code",
   "execution_count": 8,
   "outputs": [],
   "source": [
    "# Czyszczenie duplikatów\n",
    "duplicates = df['text'].duplicated()\n",
    "df = df.drop_duplicates(subset=['text'])\n",
    "# Czyszczenie pustych wierszy\n",
    "df.dropna(subset=['text'], inplace=True)"
   ],
   "metadata": {
    "collapsed": false,
    "ExecuteTime": {
     "end_time": "2023-05-21T19:48:30.512539900Z",
     "start_time": "2023-05-21T19:48:21.109426300Z"
    }
   }
  },
  {
   "cell_type": "code",
   "execution_count": 9,
   "outputs": [],
   "source": [
    "#Wczytanie datasetu z ceną Bitcoina\n",
    "usecols_bitcoin = ['Date', 'Adj Close']\n",
    "df_2 = pd.read_csv('C:\\\\Users\\\\wcwik02\\\\Desktop\\\\SDA\\\\PROJEKT_KOŃCOWY\\\\datasets\\\\BTC-USD.csv', sep =',', usecols=usecols_bitcoin, encoding='utf-8')\n",
    "df_2.rename(columns={'Adj Close': 'bitcoin_price'}, inplace=True)"
   ],
   "metadata": {
    "collapsed": false,
    "ExecuteTime": {
     "end_time": "2023-05-21T19:48:38.636218300Z",
     "start_time": "2023-05-21T19:48:37.750803600Z"
    }
   }
  },
  {
   "cell_type": "code",
   "execution_count": 10,
   "outputs": [],
   "source": [
    "def get_trend(df):\n",
    "    df['bitcoin_trend'] = df['bitcoin_price'].shift(-1) - df['bitcoin_price']\n",
    "    df['bitcoin_trend'] = df['bitcoin_trend'].apply(lambda x: 1 if x > 0 else (-1 if x < 0 else 0))\n",
    "    return df"
   ],
   "metadata": {
    "collapsed": false,
    "ExecuteTime": {
     "end_time": "2023-05-21T19:48:38.637223300Z",
     "start_time": "2023-05-21T19:48:37.853886900Z"
    }
   }
  },
  {
   "cell_type": "code",
   "execution_count": 11,
   "outputs": [],
   "source": [
    "#dodanie bitcoin_trend i usunięcie wierszy z wartością 0\n",
    "get_trend(df_2)\n",
    "df_2 = df_2[df_2['bitcoin_trend'] != 0]"
   ],
   "metadata": {
    "collapsed": false,
    "ExecuteTime": {
     "end_time": "2023-05-21T19:48:38.637223300Z",
     "start_time": "2023-05-21T19:48:37.879375200Z"
    }
   }
  },
  {
   "cell_type": "code",
   "execution_count": 39,
   "outputs": [
    {
     "data": {
      "text/plain": "text    object\nDate    object\ndtype: object"
     },
     "execution_count": 39,
     "metadata": {},
     "output_type": "execute_result"
    }
   ],
   "source": [
    "df.dtypes"
   ],
   "metadata": {
    "collapsed": false,
    "ExecuteTime": {
     "end_time": "2023-05-21T20:12:22.091578100Z",
     "start_time": "2023-05-21T20:12:21.986657400Z"
    }
   }
  },
  {
   "cell_type": "code",
   "execution_count": 40,
   "outputs": [
    {
     "data": {
      "text/plain": "Date              object\nbitcoin_price    float64\nbitcoin_trend      int64\ndtype: object"
     },
     "execution_count": 40,
     "metadata": {},
     "output_type": "execute_result"
    }
   ],
   "source": [
    "df_2.dtypes"
   ],
   "metadata": {
    "collapsed": false,
    "ExecuteTime": {
     "end_time": "2023-05-21T20:12:31.809180200Z",
     "start_time": "2023-05-21T20:12:31.743351800Z"
    }
   }
  },
  {
   "cell_type": "code",
   "execution_count": 12,
   "outputs": [],
   "source": [
    "data = df.merge(df_2, on = 'Date', how = 'inner', left_index=False)"
   ],
   "metadata": {
    "collapsed": false,
    "ExecuteTime": {
     "end_time": "2023-05-21T19:48:40.389057900Z",
     "start_time": "2023-05-21T19:48:37.927540Z"
    }
   }
  },
  {
   "cell_type": "code",
   "execution_count": 38,
   "outputs": [
    {
     "data": {
      "text/plain": "text              object\nDate              object\nbitcoin_price    float64\nbitcoin_trend      int64\ndtype: object"
     },
     "execution_count": 38,
     "metadata": {},
     "output_type": "execute_result"
    }
   ],
   "source": [
    "data.dtypes"
   ],
   "metadata": {
    "collapsed": false,
    "ExecuteTime": {
     "end_time": "2023-05-21T20:12:06.267556500Z",
     "start_time": "2023-05-21T20:12:06.207536800Z"
    }
   }
  },
  {
   "cell_type": "code",
   "execution_count": 16,
   "outputs": [
    {
     "name": "stdout",
     "output_type": "stream",
     "text": [
      "start date: 2014-09-17\n",
      "end date: 2019-05-26\n"
     ]
    }
   ],
   "source": [
    "start_date = data['Date'].min()\n",
    "end_date = data['Date'].max()\n",
    "\n",
    "print(f'start date: {start_date}')\n",
    "print(f'end date: {end_date}')"
   ],
   "metadata": {
    "collapsed": false,
    "ExecuteTime": {
     "end_time": "2023-05-21T19:49:05.969563600Z",
     "start_time": "2023-05-21T19:49:04.608573300Z"
    }
   }
  },
  {
   "cell_type": "code",
   "execution_count": 14,
   "outputs": [
    {
     "name": "stdout",
     "output_type": "stream",
     "text": [
      "Liczba wartości 0 w kolumnie 'bitcoin_trend': 0\n",
      "Liczba wartości 1 kolumnie 'bitcoin_trend': 2116521\n",
      "Liczba wartości -1 w kolumnie 'bitcoin_trend': 1816087\n"
     ]
    }
   ],
   "source": [
    "zero_count = data['bitcoin_trend'].eq(0).sum()\n",
    "one_count = data['bitcoin_trend'].eq(1).sum()\n",
    "minus_one_count = data['bitcoin_trend'].eq(-1).sum()\n",
    "print(\"Liczba wartości 0 w kolumnie 'bitcoin_trend':\", zero_count)\n",
    "print(\"Liczba wartości 1 kolumnie 'bitcoin_trend':\", one_count)\n",
    "print(\"Liczba wartości -1 w kolumnie 'bitcoin_trend':\", minus_one_count)"
   ],
   "metadata": {
    "collapsed": false,
    "ExecuteTime": {
     "end_time": "2023-05-21T19:48:41.580329200Z",
     "start_time": "2023-05-21T19:48:41.418923900Z"
    }
   }
  },
  {
   "cell_type": "code",
   "execution_count": 17,
   "outputs": [],
   "source": [
    "import matplotlib.pyplot as plt"
   ],
   "metadata": {
    "collapsed": false,
    "ExecuteTime": {
     "end_time": "2023-05-21T20:01:53.568078Z",
     "start_time": "2023-05-21T20:01:50.476740Z"
    }
   }
  },
  {
   "cell_type": "code",
   "execution_count": 18,
   "outputs": [],
   "source": [
    "def tweets_per_day(data):\n",
    "    data['Date'] = pd.to_datetime(data['Date']).dt.date\n",
    "\n",
    "    tweets_count = data.groupby('Date').size()\n",
    "    plt.figure(figsize=(8, 4))\n",
    "    plt.plot(tweets_count.index, tweets_count.values, label='Liczba tweetów')\n",
    "    plt.xlabel('Data')\n",
    "    plt.ylabel('Liczba tweetów')\n",
    "    plt.title('Liczba tweetów na dany dzień')\n",
    "    plt.xticks(rotation=45)\n",
    "    plt.legend()\n",
    "    plt.show()"
   ],
   "metadata": {
    "collapsed": false,
    "ExecuteTime": {
     "end_time": "2023-05-21T20:02:03.838799100Z",
     "start_time": "2023-05-21T20:02:03.709125200Z"
    }
   }
  },
  {
   "cell_type": "code",
   "execution_count": 19,
   "outputs": [],
   "source": [
    "def visualize_bitcoin_price(data):\n",
    "    data['Date'] = pd.to_datetime(data['Date']).dt.date\n",
    "\n",
    "    plt.figure(figsize=(8, 4))\n",
    "    plt.plot(data['Date'], data['bitcoin_price'])\n",
    "    plt.xlabel('Data')\n",
    "    plt.ylabel('Cena bitcoina')\n",
    "    plt.title('Zmiana ceny bitcoina w czasie')\n",
    "    plt.xticks(rotation=45)\n",
    "    plt.show()"
   ],
   "metadata": {
    "collapsed": false,
    "ExecuteTime": {
     "end_time": "2023-05-21T20:02:11.561111600Z",
     "start_time": "2023-05-21T20:02:10.890768600Z"
    }
   }
  },
  {
   "cell_type": "code",
   "execution_count": 20,
   "outputs": [
    {
     "data": {
      "text/plain": "<Figure size 800x400 with 1 Axes>",
      "image/png": "[encoded data removed]"
     },
     "metadata": {},
     "output_type": "display_data"
    }
   ],
   "source": [
    "tweets_per_day(data)"
   ],
   "metadata": {
    "collapsed": false,
    "ExecuteTime": {
     "end_time": "2023-05-21T20:02:20.895871Z",
     "start_time": "2023-05-21T20:02:10.899419400Z"
    }
   }
  },
  {
   "cell_type": "code",
   "execution_count": 21,
   "outputs": [],
   "source": [
    "def visualize_bitcoin_price_scatter(data):\n",
    "    data['Date'] = pd.to_datetime(data['Date']).dt.date\n",
    "\n",
    "    plt.figure(figsize=(8, 4))\n",
    "    plt.scatter(data['Date'], data['bitcoin_price'])\n",
    "    plt.xlabel('Data')\n",
    "    plt.ylabel('Cena bitcoina')\n",
    "    plt.title('Zmiana ceny bitcoina w czasie')\n",
    "    plt.xticks(rotation=45)\n",
    "    plt.show()"
   ],
   "metadata": {
    "collapsed": false,
    "ExecuteTime": {
     "end_time": "2023-05-21T20:02:21.331137200Z",
     "start_time": "2023-05-21T20:02:20.904107600Z"
    }
   }
  },
  {
   "cell_type": "code",
   "execution_count": 22,
   "outputs": [
    {
     "data": {
      "text/plain": "<Figure size 800x400 with 1 Axes>",
      "image/png": "[encoded data removed]"
     },
     "metadata": {},
     "output_type": "display_data"
    }
   ],
   "source": [
    "visualize_bitcoin_price_scatter(data)"
   ],
   "metadata": {
    "collapsed": false,
    "ExecuteTime": {
     "end_time": "2023-05-21T20:02:44.450993600Z",
     "start_time": "2023-05-21T20:02:20.934948500Z"
    }
   }
  },
  {
   "cell_type": "code",
   "execution_count": 23,
   "outputs": [],
   "source": [
    "X = data['text']\n",
    "y = data['bitcoin_trend']"
   ],
   "metadata": {
    "collapsed": false,
    "ExecuteTime": {
     "end_time": "2023-05-21T20:02:44.754977Z",
     "start_time": "2023-05-21T20:02:44.455084100Z"
    }
   }
  },
  {
   "cell_type": "code",
   "execution_count": 29,
   "outputs": [],
   "source": [
    "import numpy as np\n",
    "from sklearn.feature_extraction.text import TfidfVectorizer\n",
    "from sklearn.linear_model import LogisticRegression\n",
    "from sklearn.metrics import accuracy_score, precision_score, recall_score, f1_score\n",
    "from sklearn.pipeline import Pipeline\n",
    "import nltk\n",
    "from sklearn.base import BaseEstimator, TransformerMixin\n",
    "from nltk.tokenize import word_tokenize"
   ],
   "metadata": {
    "collapsed": false,
    "ExecuteTime": {
     "end_time": "2023-05-21T20:08:06.457556300Z",
     "start_time": "2023-05-21T20:07:58.943281400Z"
    }
   }
  },
  {
   "cell_type": "code",
   "execution_count": 27,
   "outputs": [
    {
     "name": "stdout",
     "output_type": "stream",
     "text": [
      "Data dzieląca 80% i 20% danych: 2019-05-15\n"
     ]
    }
   ],
   "source": [
    "data = data.sort_values('Date')\n",
    "split_index = int(len(data) * 0.8)\n",
    "\n",
    "split_date = data.iloc[split_index]['Date']\n",
    "print(\"Data dzieląca 80% i 20% danych:\", split_date)"
   ],
   "metadata": {
    "collapsed": false,
    "ExecuteTime": {
     "end_time": "2023-05-21T20:07:30.954279500Z",
     "start_time": "2023-05-21T20:06:42.924294300Z"
    }
   }
  },
  {
   "cell_type": "code",
   "execution_count": 28,
   "outputs": [],
   "source": [
    "train_data = data[data['Date'] < split_date]\n",
    "test_data = data[data['Date'] >= split_date]\n",
    "\n",
    "# Podziel dane treningowe na cechy (X_train) i etykiety (y_train)\n",
    "X_train = train_data['text']\n",
    "y_train = train_data['bitcoin_trend']\n",
    "\n",
    "# Podziel dane testowe na cechy (X_test) i etykiety (y_test)\n",
    "X_test = test_data['text']\n",
    "y_test = test_data['bitcoin_trend']"
   ],
   "metadata": {
    "collapsed": false,
    "ExecuteTime": {
     "end_time": "2023-05-21T20:07:33.058050200Z",
     "start_time": "2023-05-21T20:07:30.946897400Z"
    }
   }
  },
  {
   "cell_type": "code",
   "execution_count": null,
   "outputs": [],
   "source": [
    "#from sklearn.model_selection import train_test_split"
   ],
   "metadata": {
    "collapsed": false,
    "ExecuteTime": {
     "start_time": "2023-05-21T20:02:44.770484600Z"
    }
   }
  },
  {
   "cell_type": "code",
   "execution_count": null,
   "outputs": [],
   "source": [
    "#X_train, X_test, y_train, y_test = train_test_split(data['text'], data['bitcoin_trend'], test_size=0.2)"
   ],
   "metadata": {
    "collapsed": false,
    "ExecuteTime": {
     "start_time": "2023-05-21T20:02:44.777365900Z"
    }
   }
  },
  {
   "cell_type": "code",
   "execution_count": 32,
   "outputs": [],
   "source": [
    "# Zamiana na DataFrame\n",
    "X_train = pd.DataFrame(X_train, columns=['text'])\n",
    "X_test = pd.DataFrame(X_test, columns=['text'])\n",
    "y_train = pd.DataFrame(y_train, columns=['bitcoin_trend'])\n",
    "y_test = pd.DataFrame(y_test, columns=['bitcoin_trend'])"
   ],
   "metadata": {
    "collapsed": false,
    "ExecuteTime": {
     "end_time": "2023-05-21T20:08:53.032481500Z",
     "start_time": "2023-05-21T20:08:50.874133400Z"
    }
   }
  },
  {
   "cell_type": "code",
   "execution_count": 33,
   "outputs": [
    {
     "data": {
      "text/plain": "2796052    $447.00 at 01:00 UTC [24h Range: $443.57 - $46...\n2795651    BTCe Prices\\nLAST: $444.00\\n BID: $444.00\\n AS...\n2795650    LIVE: Profit = $939.28 (0.55 %). BUY B382.20 @...\n2795649    $452.40 at 17:15 UTC [24h Range: $450.00 - $46...\n2795648    @KQED, enjoy this little gift! @xeniar sent yo...\n                                 ...                        \n1204852                                           🔥📈🔥📈🔥📈🔥🙂🚀🌌\n1204853    And...immutable in code.\\n\\nYou prefer the \"co...\n1204854    Satoshi Website’s Bitcoin Reveal Was Even Stup...\n1204845    @Selcoin hocam eth de BTC gibi sert düzeltme y...\n1139618    Make sure to update your wallets to the latest...\nName: text, Length: 3121628, dtype: object"
     },
     "execution_count": 33,
     "metadata": {},
     "output_type": "execute_result"
    }
   ],
   "source": [
    "X_train['text']"
   ],
   "metadata": {
    "collapsed": false,
    "ExecuteTime": {
     "end_time": "2023-05-21T20:08:55.395454200Z",
     "start_time": "2023-05-21T20:08:55.266352Z"
    }
   }
  },
  {
   "cell_type": "code",
   "execution_count": 36,
   "outputs": [
    {
     "data": {
      "text/plain": "text    object\ndtype: object"
     },
     "execution_count": 36,
     "metadata": {},
     "output_type": "execute_result"
    }
   ],
   "source": [
    "X_train.dtypes"
   ],
   "metadata": {
    "collapsed": false,
    "ExecuteTime": {
     "end_time": "2023-05-21T20:10:08.259279500Z",
     "start_time": "2023-05-21T20:10:08.170348100Z"
    }
   }
  },
  {
   "cell_type": "code",
   "execution_count": 41,
   "outputs": [
    {
     "name": "stdout",
     "output_type": "stream",
     "text": [
      "Index(['text'], dtype='object')\n"
     ]
    }
   ],
   "source": [
    "print(X_train.columns)"
   ],
   "metadata": {
    "collapsed": false,
    "ExecuteTime": {
     "end_time": "2023-05-21T20:14:44.547656700Z",
     "start_time": "2023-05-21T20:14:43.728243400Z"
    }
   }
  },
  {
   "cell_type": "code",
   "execution_count": 42,
   "outputs": [],
   "source": [
    "import string"
   ],
   "metadata": {
    "collapsed": false,
    "ExecuteTime": {
     "end_time": "2023-05-21T20:14:44.570934900Z",
     "start_time": "2023-05-21T20:14:43.745993200Z"
    }
   }
  },
  {
   "cell_type": "code",
   "execution_count": 43,
   "outputs": [],
   "source": [
    "def remove_punctuation(text):\n",
    "    cleaned = ''.join([word for word in text if word not in string.punctuation])\n",
    "    return cleaned"
   ],
   "metadata": {
    "collapsed": false,
    "ExecuteTime": {
     "end_time": "2023-05-21T20:14:44.571935800Z",
     "start_time": "2023-05-21T20:14:43.754010700Z"
    }
   }
  },
  {
   "cell_type": "code",
   "execution_count": 44,
   "outputs": [],
   "source": [
    "class RemovePunctuationTransformer(BaseEstimator, TransformerMixin):\n",
    "    def __init__(self, text_column):\n",
    "        self.text_column = text_column\n",
    "\n",
    "    def fit(self, X, y=None):\n",
    "        return self\n",
    "\n",
    "    def transform(self, X, y=None):\n",
    "        X_ = X.copy()\n",
    "        X_[self.text_column] = X_[self.text_column].apply(lambda x: remove_punctuation(x))\n",
    "        return X_"
   ],
   "metadata": {
    "collapsed": false,
    "ExecuteTime": {
     "end_time": "2023-05-21T20:14:44.575973200Z",
     "start_time": "2023-05-21T20:14:43.767801300Z"
    }
   }
  },
  {
   "cell_type": "code",
   "execution_count": 46,
   "outputs": [
    {
     "data": {
      "text/plain": "                                                      text\n2796052  44700 at 0100 UTC 24h Range 44357  46557 Volum...\n2795651  BTCe Prices\\nLAST 44400\\n BID 44400\\n ASK 4440...\n2795650  LIVE Profit  93928 055  BUY B38220  45019 BTCe...\n2795649  45240 at 1715 UTC 24h Range 45000  46940 Volum...\n2795648  KQED enjoy this little gift xeniar sent you a ...\n...                                                    ...\n1204852                                         🔥📈🔥📈🔥📈🔥🙂🚀🌌\n1204853  Andimmutable in code\\n\\nYou prefer the code of...\n1204854  Satoshi Website’s Bitcoin Reveal Was Even Stup...\n1204845  Selcoin hocam eth de BTC gibi sert düzeltme ya...\n1139618  Make sure to update your wallets to the latest...\n\n[3121628 rows x 1 columns]",
      "text/html": "<div>\n<style scoped>\n    .dataframe tbody tr th:only-of-type {\n        vertical-align: middle;\n    }\n\n    .dataframe tbody tr th {\n        vertical-align: top;\n    }\n\n    .dataframe thead th {\n        text-align: right;\n    }\n</style>\n<table border=\"1\" class=\"dataframe\">\n  <thead>\n    <tr style=\"text-align: right;\">\n      <th></th>\n      <th>text</th>\n    </tr>\n  </thead>\n  <tbody>\n    <tr>\n      <th>2796052</th>\n      <td>44700 at 0100 UTC 24h Range 44357  46557 Volum...</td>\n    </tr>\n    <tr>\n      <th>2795651</th>\n      <td>BTCe Prices\\nLAST 44400\\n BID 44400\\n ASK 4440...</td>\n    </tr>\n    <tr>\n      <th>2795650</th>\n      <td>LIVE Profit  93928 055  BUY B38220  45019 BTCe...</td>\n    </tr>\n    <tr>\n      <th>2795649</th>\n      <td>45240 at 1715 UTC 24h Range 45000  46940 Volum...</td>\n    </tr>\n    <tr>\n      <th>2795648</th>\n      <td>KQED enjoy this little gift xeniar sent you a ...</td>\n    </tr>\n    <tr>\n      <th>...</th>\n      <td>...</td>\n    </tr>\n    <tr>\n      <th>1204852</th>\n      <td>🔥📈🔥📈🔥📈🔥🙂🚀🌌</td>\n    </tr>\n    <tr>\n      <th>1204853</th>\n      <td>Andimmutable in code\\n\\nYou prefer the code of...</td>\n    </tr>\n    <tr>\n      <th>1204854</th>\n      <td>Satoshi Website’s Bitcoin Reveal Was Even Stup...</td>\n    </tr>\n    <tr>\n      <th>1204845</th>\n      <td>Selcoin hocam eth de BTC gibi sert düzeltme ya...</td>\n    </tr>\n    <tr>\n      <th>1139618</th>\n      <td>Make sure to update your wallets to the latest...</td>\n    </tr>\n  </tbody>\n</table>\n<p>3121628 rows × 1 columns</p>\n</div>"
     },
     "execution_count": 46,
     "metadata": {},
     "output_type": "execute_result"
    }
   ],
   "source": [
    "removed = RemovePunctuationTransformer('text')\n",
    "removed.fit_transform(X_train)"
   ],
   "metadata": {
    "collapsed": false,
    "ExecuteTime": {
     "end_time": "2023-05-21T20:16:59.483521300Z",
     "start_time": "2023-05-21T20:14:43.829776300Z"
    }
   }
  },
  {
   "cell_type": "code",
   "execution_count": 47,
   "outputs": [],
   "source": [
    "def tokenizer(text):\n",
    "    lower_text = text.lower()\n",
    "    tokenized_text = nltk.word_tokenize(lower_text)\n",
    "    return tokenized_text\n"
   ],
   "metadata": {
    "collapsed": false,
    "ExecuteTime": {
     "end_time": "2023-05-21T20:16:59.690232900Z",
     "start_time": "2023-05-21T20:16:59.502532900Z"
    }
   }
  },
  {
   "cell_type": "code",
   "execution_count": 48,
   "outputs": [],
   "source": [
    "class TokenizeTransformer(BaseEstimator, TransformerMixin):\n",
    "    def __init__(self, text_column):\n",
    "        self.text_column = text_column\n",
    "\n",
    "    def fit(self, X, y=None):\n",
    "        return self\n",
    "\n",
    "    def transform(self, X, y=None):\n",
    "        X_ = X.copy()\n",
    "        X_[self.text_column] = X_[self.text_column].apply(lambda x: tokenizer(x))\n",
    "        return X_\n"
   ],
   "metadata": {
    "collapsed": false,
    "ExecuteTime": {
     "end_time": "2023-05-21T20:16:59.980907300Z",
     "start_time": "2023-05-21T20:16:59.669146400Z"
    }
   }
  },
  {
   "cell_type": "code",
   "execution_count": 49,
   "outputs": [
    {
     "name": "stderr",
     "output_type": "stream",
     "text": [
      "[nltk_data] Downloading package stopwords to\n",
      "[nltk_data]     C:\\Users\\wcwik02\\AppData\\Roaming\\nltk_data...\n",
      "[nltk_data]   Unzipping corpora\\stopwords.zip.\n"
     ]
    },
    {
     "data": {
      "text/plain": "['i',\n 'me',\n 'my',\n 'myself',\n 'we',\n 'our',\n 'ours',\n 'ourselves',\n 'you',\n \"you're\",\n \"you've\",\n \"you'll\",\n \"you'd\",\n 'your',\n 'yours',\n 'yourself',\n 'yourselves',\n 'he',\n 'him',\n 'his',\n 'himself',\n 'she',\n \"she's\",\n 'her',\n 'hers',\n 'herself',\n 'it',\n \"it's\",\n 'its',\n 'itself',\n 'they',\n 'them',\n 'their',\n 'theirs',\n 'themselves',\n 'what',\n 'which',\n 'who',\n 'whom',\n 'this',\n 'that',\n \"that'll\",\n 'these',\n 'those',\n 'am',\n 'is',\n 'are',\n 'was',\n 'were',\n 'be',\n 'been',\n 'being',\n 'have',\n 'has',\n 'had',\n 'having',\n 'do',\n 'does',\n 'did',\n 'doing',\n 'a',\n 'an',\n 'the',\n 'and',\n 'but',\n 'if',\n 'or',\n 'because',\n 'as',\n 'until',\n 'while',\n 'of',\n 'at',\n 'by',\n 'for',\n 'with',\n 'about',\n 'against',\n 'between',\n 'into',\n 'through',\n 'during',\n 'before',\n 'after',\n 'above',\n 'below',\n 'to',\n 'from',\n 'up',\n 'down',\n 'in',\n 'out',\n 'on',\n 'off',\n 'over',\n 'under',\n 'again',\n 'further',\n 'then',\n 'once',\n 'here',\n 'there',\n 'when',\n 'where',\n 'why',\n 'how',\n 'all',\n 'any',\n 'both',\n 'each',\n 'few',\n 'more',\n 'most',\n 'other',\n 'some',\n 'such',\n 'no',\n 'nor',\n 'not',\n 'only',\n 'own',\n 'same',\n 'so',\n 'than',\n 'too',\n 'very',\n 's',\n 't',\n 'can',\n 'will',\n 'just',\n 'don',\n \"don't\",\n 'should',\n \"should've\",\n 'now',\n 'd',\n 'll',\n 'm',\n 'o',\n 're',\n 've',\n 'y',\n 'ain',\n 'aren',\n \"aren't\",\n 'couldn',\n \"couldn't\",\n 'didn',\n \"didn't\",\n 'doesn',\n \"doesn't\",\n 'hadn',\n \"hadn't\",\n 'hasn',\n \"hasn't\",\n 'haven',\n \"haven't\",\n 'isn',\n \"isn't\",\n 'ma',\n 'mightn',\n \"mightn't\",\n 'mustn',\n \"mustn't\",\n 'needn',\n \"needn't\",\n 'shan',\n \"shan't\",\n 'shouldn',\n \"shouldn't\",\n 'wasn',\n \"wasn't\",\n 'weren',\n \"weren't\",\n 'won',\n \"won't\",\n 'wouldn',\n \"wouldn't\"]"
     },
     "execution_count": 49,
     "metadata": {},
     "output_type": "execute_result"
    }
   ],
   "source": [
    "nltk.download('stopwords')\n",
    "stopwords = nltk.corpus.stopwords.words('english')\n",
    "stopwords"
   ],
   "metadata": {
    "collapsed": false,
    "ExecuteTime": {
     "end_time": "2023-05-21T20:17:01.178384500Z",
     "start_time": "2023-05-21T20:16:59.691272500Z"
    }
   }
  },
  {
   "cell_type": "code",
   "execution_count": 50,
   "outputs": [],
   "source": [
    "def remove_stopwords(text):\n",
    "    without_stopwords = [word for word in text if word not in stopwords]\n",
    "    return without_stopwords\n"
   ],
   "metadata": {
    "collapsed": false,
    "ExecuteTime": {
     "end_time": "2023-05-21T20:17:01.258164800Z",
     "start_time": "2023-05-21T20:17:01.173956400Z"
    }
   }
  },
  {
   "cell_type": "code",
   "execution_count": 51,
   "outputs": [],
   "source": [
    "class RemoveStopwordsTransformer(BaseEstimator, TransformerMixin):\n",
    "    def __init__(self, text_column):\n",
    "        self.text_column = text_column\n",
    "\n",
    "    def fit(self, X, y=None):\n",
    "        return self\n",
    "\n",
    "    def transform(self, X, y=None):\n",
    "        X_ = X.copy()\n",
    "        X_[self.text_column] = X_[self.text_column].apply(lambda x: remove_stopwords(x))\n",
    "        return X_"
   ],
   "metadata": {
    "collapsed": false,
    "ExecuteTime": {
     "end_time": "2023-05-21T20:17:01.458698700Z",
     "start_time": "2023-05-21T20:17:01.200268900Z"
    }
   }
  },
  {
   "cell_type": "code",
   "execution_count": 52,
   "outputs": [],
   "source": [
    "def remove_short_tokens(text):\n",
    "    without_shorts = [word for word in text if len(word) > 2]\n",
    "    return without_shorts\n"
   ],
   "metadata": {
    "collapsed": false,
    "ExecuteTime": {
     "end_time": "2023-05-21T20:17:01.559597100Z",
     "start_time": "2023-05-21T20:17:01.220159400Z"
    }
   }
  },
  {
   "cell_type": "code",
   "execution_count": 53,
   "outputs": [],
   "source": [
    "class RemoveShortTokensTransformer(BaseEstimator, TransformerMixin):\n",
    "    def __init__(self, text_column):\n",
    "        self.text_column = text_column\n",
    "\n",
    "    def fit(self, X, y=None):\n",
    "        return self\n",
    "\n",
    "    def transform(self, X, y=None):\n",
    "        X_ = X.copy()\n",
    "        X_[self.text_column] = X_[self.text_column].apply(lambda x: remove_short_tokens(x))\n",
    "        return X_\n"
   ],
   "metadata": {
    "collapsed": false,
    "ExecuteTime": {
     "end_time": "2023-05-21T20:17:01.562316700Z",
     "start_time": "2023-05-21T20:17:01.249435500Z"
    }
   }
  },
  {
   "cell_type": "code",
   "execution_count": 54,
   "outputs": [],
   "source": [
    "from nltk import PorterStemmer\n",
    "\n",
    "stemmer = PorterStemmer()\n"
   ],
   "metadata": {
    "collapsed": false,
    "ExecuteTime": {
     "end_time": "2023-05-21T20:17:01.562316700Z",
     "start_time": "2023-05-21T20:17:01.286666600Z"
    }
   }
  },
  {
   "cell_type": "code",
   "execution_count": 55,
   "outputs": [],
   "source": [
    "def stemming(text):\n",
    "    stemmed_words = [stemmer.stem(word) for word in text]\n",
    "    return stemmed_words\n"
   ],
   "metadata": {
    "collapsed": false,
    "ExecuteTime": {
     "end_time": "2023-05-21T20:17:01.563316400Z",
     "start_time": "2023-05-21T20:17:01.299110100Z"
    }
   }
  },
  {
   "cell_type": "code",
   "execution_count": 56,
   "outputs": [],
   "source": [
    "class StemTransformer(BaseEstimator, TransformerMixin):\n",
    "    def __init__(self, text_column):\n",
    "        self.text_column = text_column\n",
    "\n",
    "    def fit(self, X, y=None):\n",
    "        return self\n",
    "\n",
    "    def transform(self, X, y=None):\n",
    "        X_ = X.copy()\n",
    "        X_[self.text_column] = X_[self.text_column].apply(lambda x: stemming(x))\n",
    "        return X_"
   ],
   "metadata": {
    "collapsed": false,
    "ExecuteTime": {
     "end_time": "2023-05-21T20:17:01.614371400Z",
     "start_time": "2023-05-21T20:17:01.327137300Z"
    }
   }
  },
  {
   "cell_type": "code",
   "execution_count": 57,
   "outputs": [
    {
     "data": {
      "text/plain": "2796052    $447.00 at 01:00 UTC [24h Range: $443.57 - $46...\n2795651    BTCe Prices\\nLAST: $444.00\\n BID: $444.00\\n AS...\n2795650    LIVE: Profit = $939.28 (0.55 %). BUY B382.20 @...\n2795649    $452.40 at 17:15 UTC [24h Range: $450.00 - $46...\n2795648    @KQED, enjoy this little gift! @xeniar sent yo...\nName: text, dtype: object"
     },
     "execution_count": 57,
     "metadata": {},
     "output_type": "execute_result"
    }
   ],
   "source": [
    "data['text'].head()"
   ],
   "metadata": {
    "collapsed": false,
    "ExecuteTime": {
     "end_time": "2023-05-21T20:17:01.617264Z",
     "start_time": "2023-05-21T20:17:01.363192100Z"
    }
   }
  },
  {
   "cell_type": "code",
   "execution_count": 59,
   "outputs": [
    {
     "name": "stdout",
     "output_type": "stream",
     "text": [
      "<class 'pandas.core.frame.DataFrame'>\n",
      "Index: 3121628 entries, 2796052 to 1139618\n",
      "Data columns (total 1 columns):\n",
      " #   Column  Dtype \n",
      "---  ------  ----- \n",
      " 0   text    object\n",
      "dtypes: object(1)\n",
      "memory usage: 47.6+ MB\n"
     ]
    }
   ],
   "source": [
    "X_train.info()"
   ],
   "metadata": {
    "collapsed": false,
    "ExecuteTime": {
     "end_time": "2023-05-21T20:17:01.879186700Z",
     "start_time": "2023-05-21T20:17:01.468212300Z"
    }
   }
  },
  {
   "cell_type": "code",
   "execution_count": 60,
   "outputs": [
    {
     "ename": "KeyboardInterrupt",
     "evalue": "",
     "output_type": "error",
     "traceback": [
      "\u001B[1;31m---------------------------------------------------------------------------\u001B[0m",
      "\u001B[1;31mKeyboardInterrupt\u001B[0m                         Traceback (most recent call last)",
      "Cell \u001B[1;32mIn[60], line 6\u001B[0m\n\u001B[0;32m      1\u001B[0m test_pipe_1 \u001B[38;5;241m=\u001B[39m Pipeline(steps\u001B[38;5;241m=\u001B[39m[\n\u001B[0;32m      2\u001B[0m     (\u001B[38;5;124m'\u001B[39m\u001B[38;5;124mremove_punctuation\u001B[39m\u001B[38;5;124m'\u001B[39m, RemovePunctuationTransformer(text_column\u001B[38;5;241m=\u001B[39m\u001B[38;5;124m'\u001B[39m\u001B[38;5;124mtext\u001B[39m\u001B[38;5;124m'\u001B[39m)),\n\u001B[0;32m      3\u001B[0m     (\u001B[38;5;124m'\u001B[39m\u001B[38;5;124mtfidf_vectorizer\u001B[39m\u001B[38;5;124m'\u001B[39m, TfidfVectorizer()),\n\u001B[0;32m      4\u001B[0m     (\u001B[38;5;124m'\u001B[39m\u001B[38;5;124mmodel\u001B[39m\u001B[38;5;124m'\u001B[39m, LogisticRegression())])\n\u001B[1;32m----> 6\u001B[0m \u001B[43mtest_pipe_1\u001B[49m\u001B[38;5;241;43m.\u001B[39;49m\u001B[43mfit\u001B[49m\u001B[43m(\u001B[49m\u001B[43mX_train\u001B[49m\u001B[43m,\u001B[49m\u001B[43m \u001B[49m\u001B[43my_train\u001B[49m\u001B[43m)\u001B[49m\n",
      "File \u001B[1;32m~\\Desktop\\SDA\\PROJEKT_KOŃCOWY\\venv\\lib\\site-packages\\sklearn\\pipeline.py:401\u001B[0m, in \u001B[0;36mPipeline.fit\u001B[1;34m(self, X, y, **fit_params)\u001B[0m\n\u001B[0;32m    375\u001B[0m \u001B[38;5;250m\u001B[39m\u001B[38;5;124;03m\"\"\"Fit the model.\u001B[39;00m\n\u001B[0;32m    376\u001B[0m \n\u001B[0;32m    377\u001B[0m \u001B[38;5;124;03mFit all the transformers one after the other and transform the\u001B[39;00m\n\u001B[1;32m   (...)\u001B[0m\n\u001B[0;32m    398\u001B[0m \u001B[38;5;124;03m    Pipeline with fitted steps.\u001B[39;00m\n\u001B[0;32m    399\u001B[0m \u001B[38;5;124;03m\"\"\"\u001B[39;00m\n\u001B[0;32m    400\u001B[0m fit_params_steps \u001B[38;5;241m=\u001B[39m \u001B[38;5;28mself\u001B[39m\u001B[38;5;241m.\u001B[39m_check_fit_params(\u001B[38;5;241m*\u001B[39m\u001B[38;5;241m*\u001B[39mfit_params)\n\u001B[1;32m--> 401\u001B[0m Xt \u001B[38;5;241m=\u001B[39m \u001B[38;5;28mself\u001B[39m\u001B[38;5;241m.\u001B[39m_fit(X, y, \u001B[38;5;241m*\u001B[39m\u001B[38;5;241m*\u001B[39mfit_params_steps)\n\u001B[0;32m    402\u001B[0m \u001B[38;5;28;01mwith\u001B[39;00m _print_elapsed_time(\u001B[38;5;124m\"\u001B[39m\u001B[38;5;124mPipeline\u001B[39m\u001B[38;5;124m\"\u001B[39m, \u001B[38;5;28mself\u001B[39m\u001B[38;5;241m.\u001B[39m_log_message(\u001B[38;5;28mlen\u001B[39m(\u001B[38;5;28mself\u001B[39m\u001B[38;5;241m.\u001B[39msteps) \u001B[38;5;241m-\u001B[39m \u001B[38;5;241m1\u001B[39m)):\n\u001B[0;32m    403\u001B[0m     \u001B[38;5;28;01mif\u001B[39;00m \u001B[38;5;28mself\u001B[39m\u001B[38;5;241m.\u001B[39m_final_estimator \u001B[38;5;241m!=\u001B[39m \u001B[38;5;124m\"\u001B[39m\u001B[38;5;124mpassthrough\u001B[39m\u001B[38;5;124m\"\u001B[39m:\n",
      "File \u001B[1;32m~\\Desktop\\SDA\\PROJEKT_KOŃCOWY\\venv\\lib\\site-packages\\sklearn\\pipeline.py:359\u001B[0m, in \u001B[0;36mPipeline._fit\u001B[1;34m(self, X, y, **fit_params_steps)\u001B[0m\n\u001B[0;32m    357\u001B[0m     cloned_transformer \u001B[38;5;241m=\u001B[39m clone(transformer)\n\u001B[0;32m    358\u001B[0m \u001B[38;5;66;03m# Fit or load from cache the current transformer\u001B[39;00m\n\u001B[1;32m--> 359\u001B[0m X, fitted_transformer \u001B[38;5;241m=\u001B[39m fit_transform_one_cached(\n\u001B[0;32m    360\u001B[0m     cloned_transformer,\n\u001B[0;32m    361\u001B[0m     X,\n\u001B[0;32m    362\u001B[0m     y,\n\u001B[0;32m    363\u001B[0m     \u001B[38;5;28;01mNone\u001B[39;00m,\n\u001B[0;32m    364\u001B[0m     message_clsname\u001B[38;5;241m=\u001B[39m\u001B[38;5;124m\"\u001B[39m\u001B[38;5;124mPipeline\u001B[39m\u001B[38;5;124m\"\u001B[39m,\n\u001B[0;32m    365\u001B[0m     message\u001B[38;5;241m=\u001B[39m\u001B[38;5;28mself\u001B[39m\u001B[38;5;241m.\u001B[39m_log_message(step_idx),\n\u001B[0;32m    366\u001B[0m     \u001B[38;5;241m*\u001B[39m\u001B[38;5;241m*\u001B[39mfit_params_steps[name],\n\u001B[0;32m    367\u001B[0m )\n\u001B[0;32m    368\u001B[0m \u001B[38;5;66;03m# Replace the transformer of the step with the fitted\u001B[39;00m\n\u001B[0;32m    369\u001B[0m \u001B[38;5;66;03m# transformer. This is necessary when loading the transformer\u001B[39;00m\n\u001B[0;32m    370\u001B[0m \u001B[38;5;66;03m# from the cache.\u001B[39;00m\n\u001B[0;32m    371\u001B[0m \u001B[38;5;28mself\u001B[39m\u001B[38;5;241m.\u001B[39msteps[step_idx] \u001B[38;5;241m=\u001B[39m (name, fitted_transformer)\n",
      "File \u001B[1;32m~\\Desktop\\SDA\\PROJEKT_KOŃCOWY\\venv\\lib\\site-packages\\joblib\\memory.py:349\u001B[0m, in \u001B[0;36mNotMemorizedFunc.__call__\u001B[1;34m(self, *args, **kwargs)\u001B[0m\n\u001B[0;32m    348\u001B[0m \u001B[38;5;28;01mdef\u001B[39;00m \u001B[38;5;21m__call__\u001B[39m(\u001B[38;5;28mself\u001B[39m, \u001B[38;5;241m*\u001B[39margs, \u001B[38;5;241m*\u001B[39m\u001B[38;5;241m*\u001B[39mkwargs):\n\u001B[1;32m--> 349\u001B[0m     \u001B[38;5;28;01mreturn\u001B[39;00m \u001B[38;5;28mself\u001B[39m\u001B[38;5;241m.\u001B[39mfunc(\u001B[38;5;241m*\u001B[39margs, \u001B[38;5;241m*\u001B[39m\u001B[38;5;241m*\u001B[39mkwargs)\n",
      "File \u001B[1;32m~\\Desktop\\SDA\\PROJEKT_KOŃCOWY\\venv\\lib\\site-packages\\sklearn\\pipeline.py:893\u001B[0m, in \u001B[0;36m_fit_transform_one\u001B[1;34m(transformer, X, y, weight, message_clsname, message, **fit_params)\u001B[0m\n\u001B[0;32m    891\u001B[0m \u001B[38;5;28;01mwith\u001B[39;00m _print_elapsed_time(message_clsname, message):\n\u001B[0;32m    892\u001B[0m     \u001B[38;5;28;01mif\u001B[39;00m \u001B[38;5;28mhasattr\u001B[39m(transformer, \u001B[38;5;124m\"\u001B[39m\u001B[38;5;124mfit_transform\u001B[39m\u001B[38;5;124m\"\u001B[39m):\n\u001B[1;32m--> 893\u001B[0m         res \u001B[38;5;241m=\u001B[39m transformer\u001B[38;5;241m.\u001B[39mfit_transform(X, y, \u001B[38;5;241m*\u001B[39m\u001B[38;5;241m*\u001B[39mfit_params)\n\u001B[0;32m    894\u001B[0m     \u001B[38;5;28;01melse\u001B[39;00m:\n\u001B[0;32m    895\u001B[0m         res \u001B[38;5;241m=\u001B[39m transformer\u001B[38;5;241m.\u001B[39mfit(X, y, \u001B[38;5;241m*\u001B[39m\u001B[38;5;241m*\u001B[39mfit_params)\u001B[38;5;241m.\u001B[39mtransform(X)\n",
      "File \u001B[1;32m~\\Desktop\\SDA\\PROJEKT_KOŃCOWY\\venv\\lib\\site-packages\\sklearn\\utils\\_set_output.py:140\u001B[0m, in \u001B[0;36m_wrap_method_output.<locals>.wrapped\u001B[1;34m(self, X, *args, **kwargs)\u001B[0m\n\u001B[0;32m    138\u001B[0m \u001B[38;5;129m@wraps\u001B[39m(f)\n\u001B[0;32m    139\u001B[0m \u001B[38;5;28;01mdef\u001B[39;00m \u001B[38;5;21mwrapped\u001B[39m(\u001B[38;5;28mself\u001B[39m, X, \u001B[38;5;241m*\u001B[39margs, \u001B[38;5;241m*\u001B[39m\u001B[38;5;241m*\u001B[39mkwargs):\n\u001B[1;32m--> 140\u001B[0m     data_to_wrap \u001B[38;5;241m=\u001B[39m f(\u001B[38;5;28mself\u001B[39m, X, \u001B[38;5;241m*\u001B[39margs, \u001B[38;5;241m*\u001B[39m\u001B[38;5;241m*\u001B[39mkwargs)\n\u001B[0;32m    141\u001B[0m     \u001B[38;5;28;01mif\u001B[39;00m \u001B[38;5;28misinstance\u001B[39m(data_to_wrap, \u001B[38;5;28mtuple\u001B[39m):\n\u001B[0;32m    142\u001B[0m         \u001B[38;5;66;03m# only wrap the first output for cross decomposition\u001B[39;00m\n\u001B[0;32m    143\u001B[0m         \u001B[38;5;28;01mreturn\u001B[39;00m (\n\u001B[0;32m    144\u001B[0m             _wrap_data_with_container(method, data_to_wrap[\u001B[38;5;241m0\u001B[39m], X, \u001B[38;5;28mself\u001B[39m),\n\u001B[0;32m    145\u001B[0m             \u001B[38;5;241m*\u001B[39mdata_to_wrap[\u001B[38;5;241m1\u001B[39m:],\n\u001B[0;32m    146\u001B[0m         )\n",
      "File \u001B[1;32m~\\Desktop\\SDA\\PROJEKT_KOŃCOWY\\venv\\lib\\site-packages\\sklearn\\base.py:881\u001B[0m, in \u001B[0;36mTransformerMixin.fit_transform\u001B[1;34m(self, X, y, **fit_params)\u001B[0m\n\u001B[0;32m    878\u001B[0m     \u001B[38;5;28;01mreturn\u001B[39;00m \u001B[38;5;28mself\u001B[39m\u001B[38;5;241m.\u001B[39mfit(X, \u001B[38;5;241m*\u001B[39m\u001B[38;5;241m*\u001B[39mfit_params)\u001B[38;5;241m.\u001B[39mtransform(X)\n\u001B[0;32m    879\u001B[0m \u001B[38;5;28;01melse\u001B[39;00m:\n\u001B[0;32m    880\u001B[0m     \u001B[38;5;66;03m# fit method of arity 2 (supervised transformation)\u001B[39;00m\n\u001B[1;32m--> 881\u001B[0m     \u001B[38;5;28;01mreturn\u001B[39;00m \u001B[38;5;28;43mself\u001B[39;49m\u001B[38;5;241;43m.\u001B[39;49m\u001B[43mfit\u001B[49m\u001B[43m(\u001B[49m\u001B[43mX\u001B[49m\u001B[43m,\u001B[49m\u001B[43m \u001B[49m\u001B[43my\u001B[49m\u001B[43m,\u001B[49m\u001B[43m \u001B[49m\u001B[38;5;241;43m*\u001B[39;49m\u001B[38;5;241;43m*\u001B[39;49m\u001B[43mfit_params\u001B[49m\u001B[43m)\u001B[49m\u001B[38;5;241;43m.\u001B[39;49m\u001B[43mtransform\u001B[49m\u001B[43m(\u001B[49m\u001B[43mX\u001B[49m\u001B[43m)\u001B[49m\n",
      "File \u001B[1;32m~\\Desktop\\SDA\\PROJEKT_KOŃCOWY\\venv\\lib\\site-packages\\sklearn\\utils\\_set_output.py:140\u001B[0m, in \u001B[0;36m_wrap_method_output.<locals>.wrapped\u001B[1;34m(self, X, *args, **kwargs)\u001B[0m\n\u001B[0;32m    138\u001B[0m \u001B[38;5;129m@wraps\u001B[39m(f)\n\u001B[0;32m    139\u001B[0m \u001B[38;5;28;01mdef\u001B[39;00m \u001B[38;5;21mwrapped\u001B[39m(\u001B[38;5;28mself\u001B[39m, X, \u001B[38;5;241m*\u001B[39margs, \u001B[38;5;241m*\u001B[39m\u001B[38;5;241m*\u001B[39mkwargs):\n\u001B[1;32m--> 140\u001B[0m     data_to_wrap \u001B[38;5;241m=\u001B[39m f(\u001B[38;5;28mself\u001B[39m, X, \u001B[38;5;241m*\u001B[39margs, \u001B[38;5;241m*\u001B[39m\u001B[38;5;241m*\u001B[39mkwargs)\n\u001B[0;32m    141\u001B[0m     \u001B[38;5;28;01mif\u001B[39;00m \u001B[38;5;28misinstance\u001B[39m(data_to_wrap, \u001B[38;5;28mtuple\u001B[39m):\n\u001B[0;32m    142\u001B[0m         \u001B[38;5;66;03m# only wrap the first output for cross decomposition\u001B[39;00m\n\u001B[0;32m    143\u001B[0m         \u001B[38;5;28;01mreturn\u001B[39;00m (\n\u001B[0;32m    144\u001B[0m             _wrap_data_with_container(method, data_to_wrap[\u001B[38;5;241m0\u001B[39m], X, \u001B[38;5;28mself\u001B[39m),\n\u001B[0;32m    145\u001B[0m             \u001B[38;5;241m*\u001B[39mdata_to_wrap[\u001B[38;5;241m1\u001B[39m:],\n\u001B[0;32m    146\u001B[0m         )\n",
      "Cell \u001B[1;32mIn[44], line 10\u001B[0m, in \u001B[0;36mRemovePunctuationTransformer.transform\u001B[1;34m(self, X, y)\u001B[0m\n\u001B[0;32m      8\u001B[0m \u001B[38;5;28;01mdef\u001B[39;00m \u001B[38;5;21mtransform\u001B[39m(\u001B[38;5;28mself\u001B[39m, X, y\u001B[38;5;241m=\u001B[39m\u001B[38;5;28;01mNone\u001B[39;00m):\n\u001B[0;32m      9\u001B[0m     X_ \u001B[38;5;241m=\u001B[39m X\u001B[38;5;241m.\u001B[39mcopy()\n\u001B[1;32m---> 10\u001B[0m     X_[\u001B[38;5;28mself\u001B[39m\u001B[38;5;241m.\u001B[39mtext_column] \u001B[38;5;241m=\u001B[39m \u001B[43mX_\u001B[49m\u001B[43m[\u001B[49m\u001B[38;5;28;43mself\u001B[39;49m\u001B[38;5;241;43m.\u001B[39;49m\u001B[43mtext_column\u001B[49m\u001B[43m]\u001B[49m\u001B[38;5;241;43m.\u001B[39;49m\u001B[43mapply\u001B[49m\u001B[43m(\u001B[49m\u001B[38;5;28;43;01mlambda\u001B[39;49;00m\u001B[43m \u001B[49m\u001B[43mx\u001B[49m\u001B[43m:\u001B[49m\u001B[43m \u001B[49m\u001B[43mremove_punctuation\u001B[49m\u001B[43m(\u001B[49m\u001B[43mx\u001B[49m\u001B[43m)\u001B[49m\u001B[43m)\u001B[49m\n\u001B[0;32m     11\u001B[0m     \u001B[38;5;28;01mreturn\u001B[39;00m X_\n",
      "File \u001B[1;32m~\\Desktop\\SDA\\PROJEKT_KOŃCOWY\\venv\\lib\\site-packages\\pandas\\core\\series.py:4626\u001B[0m, in \u001B[0;36mSeries.apply\u001B[1;34m(self, func, convert_dtype, args, **kwargs)\u001B[0m\n\u001B[0;32m   4516\u001B[0m \u001B[38;5;28;01mdef\u001B[39;00m \u001B[38;5;21mapply\u001B[39m(\n\u001B[0;32m   4517\u001B[0m     \u001B[38;5;28mself\u001B[39m,\n\u001B[0;32m   4518\u001B[0m     func: AggFuncType,\n\u001B[1;32m   (...)\u001B[0m\n\u001B[0;32m   4521\u001B[0m     \u001B[38;5;241m*\u001B[39m\u001B[38;5;241m*\u001B[39mkwargs,\n\u001B[0;32m   4522\u001B[0m ) \u001B[38;5;241m-\u001B[39m\u001B[38;5;241m>\u001B[39m DataFrame \u001B[38;5;241m|\u001B[39m Series:\n\u001B[0;32m   4523\u001B[0m \u001B[38;5;250m    \u001B[39m\u001B[38;5;124;03m\"\"\"\u001B[39;00m\n\u001B[0;32m   4524\u001B[0m \u001B[38;5;124;03m    Invoke function on values of Series.\u001B[39;00m\n\u001B[0;32m   4525\u001B[0m \n\u001B[1;32m   (...)\u001B[0m\n\u001B[0;32m   4624\u001B[0m \u001B[38;5;124;03m    dtype: float64\u001B[39;00m\n\u001B[0;32m   4625\u001B[0m \u001B[38;5;124;03m    \"\"\"\u001B[39;00m\n\u001B[1;32m-> 4626\u001B[0m     \u001B[38;5;28;01mreturn\u001B[39;00m \u001B[43mSeriesApply\u001B[49m\u001B[43m(\u001B[49m\u001B[38;5;28;43mself\u001B[39;49m\u001B[43m,\u001B[49m\u001B[43m \u001B[49m\u001B[43mfunc\u001B[49m\u001B[43m,\u001B[49m\u001B[43m \u001B[49m\u001B[43mconvert_dtype\u001B[49m\u001B[43m,\u001B[49m\u001B[43m \u001B[49m\u001B[43margs\u001B[49m\u001B[43m,\u001B[49m\u001B[43m \u001B[49m\u001B[43mkwargs\u001B[49m\u001B[43m)\u001B[49m\u001B[38;5;241;43m.\u001B[39;49m\u001B[43mapply\u001B[49m\u001B[43m(\u001B[49m\u001B[43m)\u001B[49m\n",
      "File \u001B[1;32m~\\Desktop\\SDA\\PROJEKT_KOŃCOWY\\venv\\lib\\site-packages\\pandas\\core\\apply.py:1025\u001B[0m, in \u001B[0;36mSeriesApply.apply\u001B[1;34m(self)\u001B[0m\n\u001B[0;32m   1022\u001B[0m     \u001B[38;5;28;01mreturn\u001B[39;00m \u001B[38;5;28mself\u001B[39m\u001B[38;5;241m.\u001B[39mapply_str()\n\u001B[0;32m   1024\u001B[0m \u001B[38;5;66;03m# self.f is Callable\u001B[39;00m\n\u001B[1;32m-> 1025\u001B[0m \u001B[38;5;28;01mreturn\u001B[39;00m \u001B[38;5;28;43mself\u001B[39;49m\u001B[38;5;241;43m.\u001B[39;49m\u001B[43mapply_standard\u001B[49m\u001B[43m(\u001B[49m\u001B[43m)\u001B[49m\n",
      "File \u001B[1;32m~\\Desktop\\SDA\\PROJEKT_KOŃCOWY\\venv\\lib\\site-packages\\pandas\\core\\apply.py:1076\u001B[0m, in \u001B[0;36mSeriesApply.apply_standard\u001B[1;34m(self)\u001B[0m\n\u001B[0;32m   1074\u001B[0m     \u001B[38;5;28;01melse\u001B[39;00m:\n\u001B[0;32m   1075\u001B[0m         values \u001B[38;5;241m=\u001B[39m obj\u001B[38;5;241m.\u001B[39mastype(\u001B[38;5;28mobject\u001B[39m)\u001B[38;5;241m.\u001B[39m_values\n\u001B[1;32m-> 1076\u001B[0m         mapped \u001B[38;5;241m=\u001B[39m \u001B[43mlib\u001B[49m\u001B[38;5;241;43m.\u001B[39;49m\u001B[43mmap_infer\u001B[49m\u001B[43m(\u001B[49m\n\u001B[0;32m   1077\u001B[0m \u001B[43m            \u001B[49m\u001B[43mvalues\u001B[49m\u001B[43m,\u001B[49m\n\u001B[0;32m   1078\u001B[0m \u001B[43m            \u001B[49m\u001B[43mf\u001B[49m\u001B[43m,\u001B[49m\n\u001B[0;32m   1079\u001B[0m \u001B[43m            \u001B[49m\u001B[43mconvert\u001B[49m\u001B[38;5;241;43m=\u001B[39;49m\u001B[38;5;28;43mself\u001B[39;49m\u001B[38;5;241;43m.\u001B[39;49m\u001B[43mconvert_dtype\u001B[49m\u001B[43m,\u001B[49m\n\u001B[0;32m   1080\u001B[0m \u001B[43m        \u001B[49m\u001B[43m)\u001B[49m\n\u001B[0;32m   1082\u001B[0m \u001B[38;5;28;01mif\u001B[39;00m \u001B[38;5;28mlen\u001B[39m(mapped) \u001B[38;5;129;01mand\u001B[39;00m \u001B[38;5;28misinstance\u001B[39m(mapped[\u001B[38;5;241m0\u001B[39m], ABCSeries):\n\u001B[0;32m   1083\u001B[0m     \u001B[38;5;66;03m# GH#43986 Need to do list(mapped) in order to get treated as nested\u001B[39;00m\n\u001B[0;32m   1084\u001B[0m     \u001B[38;5;66;03m#  See also GH#25959 regarding EA support\u001B[39;00m\n\u001B[0;32m   1085\u001B[0m     \u001B[38;5;28;01mreturn\u001B[39;00m obj\u001B[38;5;241m.\u001B[39m_constructor_expanddim(\u001B[38;5;28mlist\u001B[39m(mapped), index\u001B[38;5;241m=\u001B[39mobj\u001B[38;5;241m.\u001B[39mindex)\n",
      "File \u001B[1;32m~\\Desktop\\SDA\\PROJEKT_KOŃCOWY\\venv\\lib\\site-packages\\pandas\\_libs\\lib.pyx:2834\u001B[0m, in \u001B[0;36mpandas._libs.lib.map_infer\u001B[1;34m()\u001B[0m\n",
      "Cell \u001B[1;32mIn[44], line 10\u001B[0m, in \u001B[0;36mRemovePunctuationTransformer.transform.<locals>.<lambda>\u001B[1;34m(x)\u001B[0m\n\u001B[0;32m      8\u001B[0m \u001B[38;5;28;01mdef\u001B[39;00m \u001B[38;5;21mtransform\u001B[39m(\u001B[38;5;28mself\u001B[39m, X, y\u001B[38;5;241m=\u001B[39m\u001B[38;5;28;01mNone\u001B[39;00m):\n\u001B[0;32m      9\u001B[0m     X_ \u001B[38;5;241m=\u001B[39m X\u001B[38;5;241m.\u001B[39mcopy()\n\u001B[1;32m---> 10\u001B[0m     X_[\u001B[38;5;28mself\u001B[39m\u001B[38;5;241m.\u001B[39mtext_column] \u001B[38;5;241m=\u001B[39m X_[\u001B[38;5;28mself\u001B[39m\u001B[38;5;241m.\u001B[39mtext_column]\u001B[38;5;241m.\u001B[39mapply(\u001B[38;5;28;01mlambda\u001B[39;00m x: \u001B[43mremove_punctuation\u001B[49m\u001B[43m(\u001B[49m\u001B[43mx\u001B[49m\u001B[43m)\u001B[49m)\n\u001B[0;32m     11\u001B[0m     \u001B[38;5;28;01mreturn\u001B[39;00m X_\n",
      "\u001B[1;31mKeyboardInterrupt\u001B[0m: "
     ]
    }
   ],
   "source": [
    "#test_pipe_1 = Pipeline(steps=[\n",
    "#    ('remove_punctuation', RemovePunctuationTransformer(text_column='text')),\n",
    "#    ('tfidf_vectorizer', TfidfVectorizer()),\n",
    "#    ('model', LogisticRegression())])\n",
    "\n",
    "#test_pipe_1.fit(X_train, y_train)"
   ],
   "metadata": {
    "collapsed": false,
    "ExecuteTime": {
     "end_time": "2023-05-21T20:18:14.701087300Z",
     "start_time": "2023-05-21T20:17:01.631627800Z"
    }
   }
  },
  {
   "cell_type": "code",
   "execution_count": null,
   "outputs": [],
   "source": [
    "#test_pipe_2 = Pipeline(steps=[\n",
    "#    ('tokenizer', TokenizeTransformer(text_column='text')),\n",
    "#    ('tfidf_vectorizer', TfidfVectorizer()),\n",
    "#    ('model', LogisticRegression())])"
   ],
   "metadata": {
    "collapsed": false
   }
  },
  {
   "cell_type": "code",
   "execution_count": null,
   "outputs": [],
   "source": [
    "#test_pipe_2.fit(X_train)"
   ],
   "metadata": {
    "collapsed": false
   }
  },
  {
   "cell_type": "code",
   "execution_count": null,
   "outputs": [],
   "source": [
    "#test_pipe_3 = Pipeline(steps=[\n",
    "#    ('remove_stop_words', RemoveStopwordsTransformer(text_column='text')),\n",
    "#    ('tfidf_vectorizer', TfidfVectorizer()),\n",
    "#    ('model', LogisticRegression())])"
   ],
   "metadata": {
    "collapsed": false
   }
  },
  {
   "cell_type": "code",
   "execution_count": 61,
   "outputs": [],
   "source": [
    "test_pipe= Pipeline(steps=[\n",
    "    ('remove_punctuation', RemovePunctuationTransformer(text_column='text')),\n",
    "    ('tokenizer', TokenizeTransformer(text_column='text')),\n",
    "    ('remove_stop_words', RemoveStopwordsTransformer(text_column='text')),\n",
    "    ('remove_short_tokens', RemoveShortTokensTransformer(text_column='text')),\n",
    "    ('stemmer', StemTransformer(text_column='text')),\n",
    "    ('tfidf_vectorizer', TfidfVectorizer()),\n",
    "    ('model', LogisticRegression()),\n",
    "])"
   ],
   "metadata": {
    "collapsed": false,
    "ExecuteTime": {
     "end_time": "2023-05-21T20:23:31.898648400Z",
     "start_time": "2023-05-21T20:23:31.794722700Z"
    }
   }
  },
  {
   "cell_type": "code",
   "execution_count": 63,
   "outputs": [
    {
     "name": "stdout",
     "output_type": "stream",
     "text": [
      "Index(['text', 'Date', 'bitcoin_price', 'bitcoin_trend'], dtype='object')\n",
      "Index(['text'], dtype='object')\n",
      "Kolumna 'text' istnieje w danych\n",
      "Kolumna 'text' istnieje w X_train\n"
     ]
    }
   ],
   "source": [
    "print(data.columns)  # Wyświetlanie nazw kolumn w danych\n",
    "print(X_train.columns)  # Wyświetlanie nazw kolumn w X_train\n",
    "\n",
    "# Sprawdzenie, czy kolumna 'text' istnieje w danych\n",
    "if 'text' in data.columns:\n",
    "    print(\"Kolumna 'text' istnieje w danych\")\n",
    "else:\n",
    "    print(\"Kolumna 'text' nie istnieje w danych\")\n",
    "\n",
    "# Sprawdzenie, czy kolumna 'text' istnieje w X_train\n",
    "if 'text' in X_train.columns:\n",
    "    print(\"Kolumna 'text' istnieje w X_train\")\n",
    "else:\n",
    "    print(\"Kolumna 'text' nie istnieje w X_train\")"
   ],
   "metadata": {
    "collapsed": false,
    "ExecuteTime": {
     "end_time": "2023-05-21T20:34:17.129461600Z",
     "start_time": "2023-05-21T20:34:16.872837200Z"
    }
   }
  },
  {
   "cell_type": "code",
   "execution_count": 62,
   "outputs": [
    {
     "ename": "ValueError",
     "evalue": "\nAll the 405 fits failed.\nIt is very likely that your model is misconfigured.\nYou can try to debug the error by setting error_score='raise'.\n\nBelow are more details about the failures:\n--------------------------------------------------------------------------------\n405 fits failed with the following error:\nTraceback (most recent call last):\n  File \"C:\\Users\\wcwik02\\Desktop\\SDA\\PROJEKT_KOŃCOWY\\venv\\lib\\site-packages\\pandas\\core\\indexes\\base.py\", line 3652, in get_loc\n    return self._engine.get_loc(casted_key)\n  File \"pandas\\_libs\\index.pyx\", line 147, in pandas._libs.index.IndexEngine.get_loc\n  File \"pandas\\_libs\\index.pyx\", line 155, in pandas._libs.index.IndexEngine.get_loc\n  File \"pandas\\_libs\\index_class_helper.pxi\", line 70, in pandas._libs.index.Int64Engine._check_type\nKeyError: 'text'\n\nThe above exception was the direct cause of the following exception:\n\nTraceback (most recent call last):\n  File \"C:\\Users\\wcwik02\\Desktop\\SDA\\PROJEKT_KOŃCOWY\\venv\\lib\\site-packages\\sklearn\\model_selection\\_validation.py\", line 686, in _fit_and_score\n    estimator.fit(X_train, y_train, **fit_params)\n  File \"C:\\Users\\wcwik02\\Desktop\\SDA\\PROJEKT_KOŃCOWY\\venv\\lib\\site-packages\\sklearn\\pipeline.py\", line 401, in fit\n    Xt = self._fit(X, y, **fit_params_steps)\n  File \"C:\\Users\\wcwik02\\Desktop\\SDA\\PROJEKT_KOŃCOWY\\venv\\lib\\site-packages\\sklearn\\pipeline.py\", line 359, in _fit\n    X, fitted_transformer = fit_transform_one_cached(\n  File \"C:\\Users\\wcwik02\\Desktop\\SDA\\PROJEKT_KOŃCOWY\\venv\\lib\\site-packages\\joblib\\memory.py\", line 349, in __call__\n    return self.func(*args, **kwargs)\n  File \"C:\\Users\\wcwik02\\Desktop\\SDA\\PROJEKT_KOŃCOWY\\venv\\lib\\site-packages\\sklearn\\pipeline.py\", line 893, in _fit_transform_one\n    res = transformer.fit_transform(X, y, **fit_params)\n  File \"C:\\Users\\wcwik02\\Desktop\\SDA\\PROJEKT_KOŃCOWY\\venv\\lib\\site-packages\\sklearn\\utils\\_set_output.py\", line 140, in wrapped\n    data_to_wrap = f(self, X, *args, **kwargs)\n  File \"C:\\Users\\wcwik02\\Desktop\\SDA\\PROJEKT_KOŃCOWY\\venv\\lib\\site-packages\\sklearn\\base.py\", line 881, in fit_transform\n    return self.fit(X, y, **fit_params).transform(X)\n  File \"C:\\Users\\wcwik02\\Desktop\\SDA\\PROJEKT_KOŃCOWY\\venv\\lib\\site-packages\\sklearn\\utils\\_set_output.py\", line 140, in wrapped\n    data_to_wrap = f(self, X, *args, **kwargs)\n  File \"C:\\Users\\wcwik02\\AppData\\Local\\Temp\\ipykernel_2208\\311783383.py\", line 10, in transform\n    X_[self.text_column] = X_[self.text_column].apply(lambda x: remove_punctuation(x))\n  File \"C:\\Users\\wcwik02\\Desktop\\SDA\\PROJEKT_KOŃCOWY\\venv\\lib\\site-packages\\pandas\\core\\series.py\", line 1007, in __getitem__\n    return self._get_value(key)\n  File \"C:\\Users\\wcwik02\\Desktop\\SDA\\PROJEKT_KOŃCOWY\\venv\\lib\\site-packages\\pandas\\core\\series.py\", line 1116, in _get_value\n    loc = self.index.get_loc(label)\n  File \"C:\\Users\\wcwik02\\Desktop\\SDA\\PROJEKT_KOŃCOWY\\venv\\lib\\site-packages\\pandas\\core\\indexes\\base.py\", line 3654, in get_loc\n    raise KeyError(key) from err\nKeyError: 'text'\n",
     "output_type": "error",
     "traceback": [
      "\u001B[1;31m---------------------------------------------------------------------------\u001B[0m",
      "\u001B[1;31mValueError\u001B[0m                                Traceback (most recent call last)",
      "Cell \u001B[1;32mIn[62], line 15\u001B[0m\n\u001B[0;32m     12\u001B[0m grid_search \u001B[38;5;241m=\u001B[39m GridSearchCV(estimator\u001B[38;5;241m=\u001B[39mtest_pipe, param_grid\u001B[38;5;241m=\u001B[39mparameters, cv\u001B[38;5;241m=\u001B[39m\u001B[38;5;241m5\u001B[39m)\n\u001B[0;32m     14\u001B[0m \u001B[38;5;66;03m# Dopasowanie modelu grid search do danych\u001B[39;00m\n\u001B[1;32m---> 15\u001B[0m \u001B[43mgrid_search\u001B[49m\u001B[38;5;241;43m.\u001B[39;49m\u001B[43mfit\u001B[49m\u001B[43m(\u001B[49m\u001B[43mX_train\u001B[49m\u001B[43m[\u001B[49m\u001B[38;5;124;43m'\u001B[39;49m\u001B[38;5;124;43mtext\u001B[39;49m\u001B[38;5;124;43m'\u001B[39;49m\u001B[43m]\u001B[49m\u001B[43m,\u001B[49m\u001B[43m \u001B[49m\u001B[43my_train\u001B[49m\u001B[43m[\u001B[49m\u001B[38;5;124;43m'\u001B[39;49m\u001B[38;5;124;43mbitcoin_trend\u001B[39;49m\u001B[38;5;124;43m'\u001B[39;49m\u001B[43m]\u001B[49m\u001B[43m)\u001B[49m\n\u001B[0;32m     17\u001B[0m \u001B[38;5;66;03m# Najlepsze parametry i wynik\u001B[39;00m\n\u001B[0;32m     18\u001B[0m \u001B[38;5;28mprint\u001B[39m(\u001B[38;5;124m\"\u001B[39m\u001B[38;5;124mNajlepsze parametry: \u001B[39m\u001B[38;5;124m\"\u001B[39m, grid_search\u001B[38;5;241m.\u001B[39mbest_params_)\n",
      "File \u001B[1;32m~\\Desktop\\SDA\\PROJEKT_KOŃCOWY\\venv\\lib\\site-packages\\sklearn\\model_selection\\_search.py:874\u001B[0m, in \u001B[0;36mBaseSearchCV.fit\u001B[1;34m(self, X, y, groups, **fit_params)\u001B[0m\n\u001B[0;32m    868\u001B[0m     results \u001B[38;5;241m=\u001B[39m \u001B[38;5;28mself\u001B[39m\u001B[38;5;241m.\u001B[39m_format_results(\n\u001B[0;32m    869\u001B[0m         all_candidate_params, n_splits, all_out, all_more_results\n\u001B[0;32m    870\u001B[0m     )\n\u001B[0;32m    872\u001B[0m     \u001B[38;5;28;01mreturn\u001B[39;00m results\n\u001B[1;32m--> 874\u001B[0m \u001B[38;5;28;43mself\u001B[39;49m\u001B[38;5;241;43m.\u001B[39;49m\u001B[43m_run_search\u001B[49m\u001B[43m(\u001B[49m\u001B[43mevaluate_candidates\u001B[49m\u001B[43m)\u001B[49m\n\u001B[0;32m    876\u001B[0m \u001B[38;5;66;03m# multimetric is determined here because in the case of a callable\u001B[39;00m\n\u001B[0;32m    877\u001B[0m \u001B[38;5;66;03m# self.scoring the return type is only known after calling\u001B[39;00m\n\u001B[0;32m    878\u001B[0m first_test_score \u001B[38;5;241m=\u001B[39m all_out[\u001B[38;5;241m0\u001B[39m][\u001B[38;5;124m\"\u001B[39m\u001B[38;5;124mtest_scores\u001B[39m\u001B[38;5;124m\"\u001B[39m]\n",
      "File \u001B[1;32m~\\Desktop\\SDA\\PROJEKT_KOŃCOWY\\venv\\lib\\site-packages\\sklearn\\model_selection\\_search.py:1388\u001B[0m, in \u001B[0;36mGridSearchCV._run_search\u001B[1;34m(self, evaluate_candidates)\u001B[0m\n\u001B[0;32m   1386\u001B[0m \u001B[38;5;28;01mdef\u001B[39;00m \u001B[38;5;21m_run_search\u001B[39m(\u001B[38;5;28mself\u001B[39m, evaluate_candidates):\n\u001B[0;32m   1387\u001B[0m \u001B[38;5;250m    \u001B[39m\u001B[38;5;124;03m\"\"\"Search all candidates in param_grid\"\"\"\u001B[39;00m\n\u001B[1;32m-> 1388\u001B[0m     \u001B[43mevaluate_candidates\u001B[49m\u001B[43m(\u001B[49m\u001B[43mParameterGrid\u001B[49m\u001B[43m(\u001B[49m\u001B[38;5;28;43mself\u001B[39;49m\u001B[38;5;241;43m.\u001B[39;49m\u001B[43mparam_grid\u001B[49m\u001B[43m)\u001B[49m\u001B[43m)\u001B[49m\n",
      "File \u001B[1;32m~\\Desktop\\SDA\\PROJEKT_KOŃCOWY\\venv\\lib\\site-packages\\sklearn\\model_selection\\_search.py:851\u001B[0m, in \u001B[0;36mBaseSearchCV.fit.<locals>.evaluate_candidates\u001B[1;34m(candidate_params, cv, more_results)\u001B[0m\n\u001B[0;32m    844\u001B[0m \u001B[38;5;28;01melif\u001B[39;00m \u001B[38;5;28mlen\u001B[39m(out) \u001B[38;5;241m!=\u001B[39m n_candidates \u001B[38;5;241m*\u001B[39m n_splits:\n\u001B[0;32m    845\u001B[0m     \u001B[38;5;28;01mraise\u001B[39;00m \u001B[38;5;167;01mValueError\u001B[39;00m(\n\u001B[0;32m    846\u001B[0m         \u001B[38;5;124m\"\u001B[39m\u001B[38;5;124mcv.split and cv.get_n_splits returned \u001B[39m\u001B[38;5;124m\"\u001B[39m\n\u001B[0;32m    847\u001B[0m         \u001B[38;5;124m\"\u001B[39m\u001B[38;5;124minconsistent results. Expected \u001B[39m\u001B[38;5;132;01m{}\u001B[39;00m\u001B[38;5;124m \u001B[39m\u001B[38;5;124m\"\u001B[39m\n\u001B[0;32m    848\u001B[0m         \u001B[38;5;124m\"\u001B[39m\u001B[38;5;124msplits, got \u001B[39m\u001B[38;5;132;01m{}\u001B[39;00m\u001B[38;5;124m\"\u001B[39m\u001B[38;5;241m.\u001B[39mformat(n_splits, \u001B[38;5;28mlen\u001B[39m(out) \u001B[38;5;241m/\u001B[39m\u001B[38;5;241m/\u001B[39m n_candidates)\n\u001B[0;32m    849\u001B[0m     )\n\u001B[1;32m--> 851\u001B[0m \u001B[43m_warn_or_raise_about_fit_failures\u001B[49m\u001B[43m(\u001B[49m\u001B[43mout\u001B[49m\u001B[43m,\u001B[49m\u001B[43m \u001B[49m\u001B[38;5;28;43mself\u001B[39;49m\u001B[38;5;241;43m.\u001B[39;49m\u001B[43merror_score\u001B[49m\u001B[43m)\u001B[49m\n\u001B[0;32m    853\u001B[0m \u001B[38;5;66;03m# For callable self.scoring, the return type is only know after\u001B[39;00m\n\u001B[0;32m    854\u001B[0m \u001B[38;5;66;03m# calling. If the return type is a dictionary, the error scores\u001B[39;00m\n\u001B[0;32m    855\u001B[0m \u001B[38;5;66;03m# can now be inserted with the correct key. The type checking\u001B[39;00m\n\u001B[0;32m    856\u001B[0m \u001B[38;5;66;03m# of out will be done in `_insert_error_scores`.\u001B[39;00m\n\u001B[0;32m    857\u001B[0m \u001B[38;5;28;01mif\u001B[39;00m \u001B[38;5;28mcallable\u001B[39m(\u001B[38;5;28mself\u001B[39m\u001B[38;5;241m.\u001B[39mscoring):\n",
      "File \u001B[1;32m~\\Desktop\\SDA\\PROJEKT_KOŃCOWY\\venv\\lib\\site-packages\\sklearn\\model_selection\\_validation.py:367\u001B[0m, in \u001B[0;36m_warn_or_raise_about_fit_failures\u001B[1;34m(results, error_score)\u001B[0m\n\u001B[0;32m    360\u001B[0m \u001B[38;5;28;01mif\u001B[39;00m num_failed_fits \u001B[38;5;241m==\u001B[39m num_fits:\n\u001B[0;32m    361\u001B[0m     all_fits_failed_message \u001B[38;5;241m=\u001B[39m (\n\u001B[0;32m    362\u001B[0m         \u001B[38;5;124mf\u001B[39m\u001B[38;5;124m\"\u001B[39m\u001B[38;5;130;01m\\n\u001B[39;00m\u001B[38;5;124mAll the \u001B[39m\u001B[38;5;132;01m{\u001B[39;00mnum_fits\u001B[38;5;132;01m}\u001B[39;00m\u001B[38;5;124m fits failed.\u001B[39m\u001B[38;5;130;01m\\n\u001B[39;00m\u001B[38;5;124m\"\u001B[39m\n\u001B[0;32m    363\u001B[0m         \u001B[38;5;124m\"\u001B[39m\u001B[38;5;124mIt is very likely that your model is misconfigured.\u001B[39m\u001B[38;5;130;01m\\n\u001B[39;00m\u001B[38;5;124m\"\u001B[39m\n\u001B[0;32m    364\u001B[0m         \u001B[38;5;124m\"\u001B[39m\u001B[38;5;124mYou can try to debug the error by setting error_score=\u001B[39m\u001B[38;5;124m'\u001B[39m\u001B[38;5;124mraise\u001B[39m\u001B[38;5;124m'\u001B[39m\u001B[38;5;124m.\u001B[39m\u001B[38;5;130;01m\\n\u001B[39;00m\u001B[38;5;130;01m\\n\u001B[39;00m\u001B[38;5;124m\"\u001B[39m\n\u001B[0;32m    365\u001B[0m         \u001B[38;5;124mf\u001B[39m\u001B[38;5;124m\"\u001B[39m\u001B[38;5;124mBelow are more details about the failures:\u001B[39m\u001B[38;5;130;01m\\n\u001B[39;00m\u001B[38;5;132;01m{\u001B[39;00mfit_errors_summary\u001B[38;5;132;01m}\u001B[39;00m\u001B[38;5;124m\"\u001B[39m\n\u001B[0;32m    366\u001B[0m     )\n\u001B[1;32m--> 367\u001B[0m     \u001B[38;5;28;01mraise\u001B[39;00m \u001B[38;5;167;01mValueError\u001B[39;00m(all_fits_failed_message)\n\u001B[0;32m    369\u001B[0m \u001B[38;5;28;01melse\u001B[39;00m:\n\u001B[0;32m    370\u001B[0m     some_fits_failed_message \u001B[38;5;241m=\u001B[39m (\n\u001B[0;32m    371\u001B[0m         \u001B[38;5;124mf\u001B[39m\u001B[38;5;124m\"\u001B[39m\u001B[38;5;130;01m\\n\u001B[39;00m\u001B[38;5;132;01m{\u001B[39;00mnum_failed_fits\u001B[38;5;132;01m}\u001B[39;00m\u001B[38;5;124m fits failed out of a total of \u001B[39m\u001B[38;5;132;01m{\u001B[39;00mnum_fits\u001B[38;5;132;01m}\u001B[39;00m\u001B[38;5;124m.\u001B[39m\u001B[38;5;130;01m\\n\u001B[39;00m\u001B[38;5;124m\"\u001B[39m\n\u001B[0;32m    372\u001B[0m         \u001B[38;5;124m\"\u001B[39m\u001B[38;5;124mThe score on these train-test partitions for these parameters\u001B[39m\u001B[38;5;124m\"\u001B[39m\n\u001B[1;32m   (...)\u001B[0m\n\u001B[0;32m    376\u001B[0m         \u001B[38;5;124mf\u001B[39m\u001B[38;5;124m\"\u001B[39m\u001B[38;5;124mBelow are more details about the failures:\u001B[39m\u001B[38;5;130;01m\\n\u001B[39;00m\u001B[38;5;132;01m{\u001B[39;00mfit_errors_summary\u001B[38;5;132;01m}\u001B[39;00m\u001B[38;5;124m\"\u001B[39m\n\u001B[0;32m    377\u001B[0m     )\n",
      "\u001B[1;31mValueError\u001B[0m: \nAll the 405 fits failed.\nIt is very likely that your model is misconfigured.\nYou can try to debug the error by setting error_score='raise'.\n\nBelow are more details about the failures:\n--------------------------------------------------------------------------------\n405 fits failed with the following error:\nTraceback (most recent call last):\n  File \"C:\\Users\\wcwik02\\Desktop\\SDA\\PROJEKT_KOŃCOWY\\venv\\lib\\site-packages\\pandas\\core\\indexes\\base.py\", line 3652, in get_loc\n    return self._engine.get_loc(casted_key)\n  File \"pandas\\_libs\\index.pyx\", line 147, in pandas._libs.index.IndexEngine.get_loc\n  File \"pandas\\_libs\\index.pyx\", line 155, in pandas._libs.index.IndexEngine.get_loc\n  File \"pandas\\_libs\\index_class_helper.pxi\", line 70, in pandas._libs.index.Int64Engine._check_type\nKeyError: 'text'\n\nThe above exception was the direct cause of the following exception:\n\nTraceback (most recent call last):\n  File \"C:\\Users\\wcwik02\\Desktop\\SDA\\PROJEKT_KOŃCOWY\\venv\\lib\\site-packages\\sklearn\\model_selection\\_validation.py\", line 686, in _fit_and_score\n    estimator.fit(X_train, y_train, **fit_params)\n  File \"C:\\Users\\wcwik02\\Desktop\\SDA\\PROJEKT_KOŃCOWY\\venv\\lib\\site-packages\\sklearn\\pipeline.py\", line 401, in fit\n    Xt = self._fit(X, y, **fit_params_steps)\n  File \"C:\\Users\\wcwik02\\Desktop\\SDA\\PROJEKT_KOŃCOWY\\venv\\lib\\site-packages\\sklearn\\pipeline.py\", line 359, in _fit\n    X, fitted_transformer = fit_transform_one_cached(\n  File \"C:\\Users\\wcwik02\\Desktop\\SDA\\PROJEKT_KOŃCOWY\\venv\\lib\\site-packages\\joblib\\memory.py\", line 349, in __call__\n    return self.func(*args, **kwargs)\n  File \"C:\\Users\\wcwik02\\Desktop\\SDA\\PROJEKT_KOŃCOWY\\venv\\lib\\site-packages\\sklearn\\pipeline.py\", line 893, in _fit_transform_one\n    res = transformer.fit_transform(X, y, **fit_params)\n  File \"C:\\Users\\wcwik02\\Desktop\\SDA\\PROJEKT_KOŃCOWY\\venv\\lib\\site-packages\\sklearn\\utils\\_set_output.py\", line 140, in wrapped\n    data_to_wrap = f(self, X, *args, **kwargs)\n  File \"C:\\Users\\wcwik02\\Desktop\\SDA\\PROJEKT_KOŃCOWY\\venv\\lib\\site-packages\\sklearn\\base.py\", line 881, in fit_transform\n    return self.fit(X, y, **fit_params).transform(X)\n  File \"C:\\Users\\wcwik02\\Desktop\\SDA\\PROJEKT_KOŃCOWY\\venv\\lib\\site-packages\\sklearn\\utils\\_set_output.py\", line 140, in wrapped\n    data_to_wrap = f(self, X, *args, **kwargs)\n  File \"C:\\Users\\wcwik02\\AppData\\Local\\Temp\\ipykernel_2208\\311783383.py\", line 10, in transform\n    X_[self.text_column] = X_[self.text_column].apply(lambda x: remove_punctuation(x))\n  File \"C:\\Users\\wcwik02\\Desktop\\SDA\\PROJEKT_KOŃCOWY\\venv\\lib\\site-packages\\pandas\\core\\series.py\", line 1007, in __getitem__\n    return self._get_value(key)\n  File \"C:\\Users\\wcwik02\\Desktop\\SDA\\PROJEKT_KOŃCOWY\\venv\\lib\\site-packages\\pandas\\core\\series.py\", line 1116, in _get_value\n    loc = self.index.get_loc(label)\n  File \"C:\\Users\\wcwik02\\Desktop\\SDA\\PROJEKT_KOŃCOWY\\venv\\lib\\site-packages\\pandas\\core\\indexes\\base.py\", line 3654, in get_loc\n    raise KeyError(key) from err\nKeyError: 'text'\n"
     ]
    }
   ],
   "source": [
    "from sklearn.model_selection import GridSearchCV\n",
    "\n",
    "# Parametry do przetestowania w grid search\n",
    "parameters = {\n",
    "    'tfidf_vectorizer__ngram_range': [(1, 1), (1, 2), (2, 2)],\n",
    "    'tfidf_vectorizer__min_df': [1, 2, 3],\n",
    "    'tfidf_vectorizer__max_df': [0.5, 0.75, 1.0],\n",
    "    'model__C': [0.1, 1, 10]\n",
    "}\n",
    "\n",
    "# Utworzenie obiektu GridSearchCV\n",
    "grid_search = GridSearchCV(estimator=test_pipe, param_grid=parameters, cv=5)\n",
    "\n",
    "# Dopasowanie modelu grid search do danych\n",
    "grid_search.fit(X_train['text'], y_train['bitcoin_trend'])\n",
    "\n",
    "# Najlepsze parametry i wynik\n",
    "print(\"Najlepsze parametry: \", grid_search.best_params_)\n",
    "print(\"Najlepszy wynik: \", grid_search.best_score_)"
   ],
   "metadata": {
    "collapsed": false,
    "ExecuteTime": {
     "end_time": "2023-05-21T20:28:20.273453200Z",
     "start_time": "2023-05-21T20:25:18.948845500Z"
    }
   }
  },
  {
   "cell_type": "code",
   "execution_count": 65,
   "outputs": [
    {
     "name": "stderr",
     "output_type": "stream",
     "text": [
      "[nltk_data] Downloading package punkt to\n",
      "[nltk_data]     C:\\Users\\wcwik02\\AppData\\Roaming\\nltk_data...\n",
      "[nltk_data]   Unzipping tokenizers\\punkt.zip.\n"
     ]
    },
    {
     "data": {
      "text/plain": "True"
     },
     "execution_count": 65,
     "metadata": {},
     "output_type": "execute_result"
    }
   ],
   "source": [
    "import nltk\n",
    "nltk.download('punkt')"
   ],
   "metadata": {
    "collapsed": false,
    "ExecuteTime": {
     "end_time": "2023-05-21T20:46:59.043460500Z",
     "start_time": "2023-05-21T20:46:53.646047200Z"
    }
   }
  },
  {
   "cell_type": "code",
   "execution_count": null,
   "outputs": [],
   "source": [
    "test_pipe.fit(X_train,y_train)"
   ],
   "metadata": {
    "collapsed": false,
    "is_executing": true,
    "ExecuteTime": {
     "start_time": "2023-05-21T20:47:04.725632300Z"
    }
   }
  },
  {
   "cell_type": "code",
   "execution_count": null,
   "outputs": [],
   "source": [
    "test_pipe.prediction(X_test)"
   ],
   "metadata": {
    "collapsed": false,
    "is_executing": true
   }
  },
  {
   "cell_type": "code",
   "execution_count": null,
   "outputs": [],
   "source": [
    "y_pred = pipe_lg.predict(X_test)\n",
    "# Evaluate the model\n",
    "accuracy = accuracy_score(y_test, y_pred)\n",
    "precision = precision_score(y_test, y_pred)\n",
    "recall =recall_score(y_test, y_pred)\n",
    "f1 = f1_score(y_test, y_pred)"
   ],
   "metadata": {
    "collapsed": false,
    "is_executing": true
   }
  },
  {
   "cell_type": "code",
   "execution_count": null,
   "outputs": [],
   "source": [
    "print(\"Accuracy: {:.2f}\".format(accuracy))\n",
    "print(\"Precision: {:.2f}\".format(precision))\n",
    "print('Recall:{:.2f'.format(recall))\n",
    "print(\"F1: {:.2f}\".format(f1))"
   ],
   "metadata": {
    "collapsed": false,
    "is_executing": true
   }
  },
  {
   "cell_type": "code",
   "execution_count": null,
   "outputs": [],
   "source": [],
   "metadata": {
    "collapsed": false,
    "is_executing": true
   }
  }
 ],
 "metadata": {
  "kernelspec": {
   "display_name": "Python 3",
   "language": "python",
   "name": "python3"
  },
  "language_info": {
   "codemirror_mode": {
    "name": "ipython",
    "version": 2
   },
   "file_extension": ".py",
   "mimetype": "text/x-python",
   "name": "python",
   "nbconvert_exporter": "python",
   "pygments_lexer": "ipython2",
   "version": "2.7.6"
  }
 },
 "nbformat": 4,
 "nbformat_minor": 0
}
