{
 "cells": [
  {
   "cell_type": "markdown",
   "source": [
    "4. Klasyfikacja"
   ],
   "metadata": {
    "collapsed": false
   }
  },
  {
   "cell_type": "code",
   "execution_count": 28,
   "outputs": [],
   "source": [
    "import pandas as pd\n",
    "import joblib\n",
    "from sklearn.metrics import accuracy_score, precision_score, recall_score, f1_score\n",
    "from sklearn.pipeline import Pipeline\n",
    "from sklearn.feature_extraction.text import CountVectorizer\n",
    "from sklearn.linear_model import LogisticRegression\n",
    "from matplotlib import pyplot as plt\n",
    "from sklearn.feature_selection import SelectFromModel\n",
    "from sklearn.model_selection import GridSearchCV, TimeSeriesSplit\n",
    "from sklearn.feature_extraction.text import TfidfVectorizer\n",
    "from sklearn.linear_model import LogisticRegression\n",
    "from sklearn.pipeline import Pipeline"
   ],
   "metadata": {
    "collapsed": false,
    "ExecuteTime": {
     "end_time": "2023-05-25T10:09:21.827546Z",
     "start_time": "2023-05-25T10:09:21.754590400Z"
    }
   }
  },
  {
   "cell_type": "markdown",
   "source": [
    "4.1. Wczytanie przygotowanych danych z pliku"
   ],
   "metadata": {
    "collapsed": false
   }
  },
  {
   "cell_type": "code",
   "execution_count": 2,
   "metadata": {
    "collapsed": true,
    "ExecuteTime": {
     "end_time": "2023-05-25T09:49:49.179826400Z",
     "start_time": "2023-05-25T09:49:35.079677100Z"
    }
   },
   "outputs": [],
   "source": [
    "X_train_file = 'X_train.csv'\n",
    "X_test_file = 'X_test.csv'\n",
    "y_train_file = 'y_train.csv'\n",
    "y_test_file = 'y_test.csv'\n",
    "dates_file = 'dates.csv'\n",
    "\n",
    "X_train = pd.read_csv(X_train_file)\n",
    "X_test = pd.read_csv(X_test_file)\n",
    "y_train = pd.read_csv(y_train_file)\n",
    "y_test = pd.read_csv(y_test_file)\n",
    "dates = pd.read_csv(dates_file)"
   ]
  },
  {
   "cell_type": "code",
   "execution_count": 3,
   "outputs": [],
   "source": [
    "y_train = y_train['bitcoin_trend']\n",
    "y_test = y_test['bitcoin_trend']"
   ],
   "metadata": {
    "collapsed": false,
    "ExecuteTime": {
     "end_time": "2023-05-25T09:49:50.329562Z",
     "start_time": "2023-05-25T09:49:50.253429Z"
    }
   }
  },
  {
   "cell_type": "code",
   "execution_count": 4,
   "outputs": [
    {
     "name": "stdout",
     "output_type": "stream",
     "text": [
      "Type of X_train: <class 'pandas.core.frame.DataFrame'>\n",
      "Type of y_train: <class 'pandas.core.series.Series'>\n",
      "Type of X_test: <class 'pandas.core.frame.DataFrame'>\n",
      "Type of y_test: <class 'pandas.core.series.Series'>\n"
     ]
    }
   ],
   "source": [
    "print(f'Type of X_train: {type(X_train)}')\n",
    "print(f'Type of y_train: {type(y_train)}')\n",
    "print(f'Type of X_test: {type(X_test)}')\n",
    "print(f'Type of y_test: {type(y_test)}')"
   ],
   "metadata": {
    "collapsed": false,
    "ExecuteTime": {
     "end_time": "2023-05-25T09:49:54.864022500Z",
     "start_time": "2023-05-25T09:49:54.816976300Z"
    }
   }
  },
  {
   "cell_type": "code",
   "execution_count": 6,
   "outputs": [
    {
     "name": "stdout",
     "output_type": "stream",
     "text": [
      "<class 'pandas.core.frame.DataFrame'>\n",
      "RangeIndex: 3121628 entries, 0 to 3121627\n",
      "Data columns (total 1 columns):\n",
      " #   Column  Dtype \n",
      "---  ------  ----- \n",
      " 0   text    object\n",
      "dtypes: object(1)\n",
      "memory usage: 23.8+ MB\n"
     ]
    }
   ],
   "source": [
    "X_train.info()"
   ],
   "metadata": {
    "collapsed": false,
    "ExecuteTime": {
     "end_time": "2023-05-25T09:50:32.595127400Z",
     "start_time": "2023-05-25T09:50:32.512910500Z"
    }
   }
  },
  {
   "cell_type": "markdown",
   "source": [
    "W X_train pojawiły się nulle, czyszczenie"
   ],
   "metadata": {
    "collapsed": false
   }
  },
  {
   "cell_type": "code",
   "execution_count": 7,
   "outputs": [
    {
     "name": "stdout",
     "output_type": "stream",
     "text": [
      "Nulle w X_train: 4998\n",
      "Nulle w y_train: 0\n",
      "(3116630, 1)\n",
      "(3116630,)\n",
      "Nulle w X_train: 0\n",
      "Nulle w y_train: 0\n"
     ]
    }
   ],
   "source": [
    "print(f'Nulle w X_train: {X_train.text.isna().sum()}')\n",
    "print(f'Nulle w y_train: {y_train.isna().sum()}')\n",
    "null_indexes_X_train = X_train[X_train['text'].isna()].index\n",
    "X_train = X_train.drop(null_indexes_X_train)\n",
    "y_train = y_train.drop(null_indexes_X_train)\n",
    "print(X_train.shape)\n",
    "print(y_train.shape)\n",
    "print(f'Nulle w X_train: {X_train.text.isna().sum()}')\n",
    "print(f'Nulle w y_train: {y_train.isna().sum()}')"
   ],
   "metadata": {
    "collapsed": false,
    "ExecuteTime": {
     "end_time": "2023-05-25T09:50:41.812949500Z",
     "start_time": "2023-05-25T09:50:40.482212800Z"
    }
   }
  },
  {
   "cell_type": "markdown",
   "source": [
    "Klasyfikator 1: model baselinowy (losowanie wartości)"
   ],
   "metadata": {
    "collapsed": false
   }
  },
  {
   "cell_type": "code",
   "execution_count": 8,
   "outputs": [
    {
     "data": {
      "text/plain": "0.4996553565241195"
     },
     "execution_count": 8,
     "metadata": {},
     "output_type": "execute_result"
    }
   ],
   "source": [
    "# Model baselinowy\n",
    "from sklearn.dummy import DummyClassifier\n",
    "\n",
    "# Klasyfikator losujący wartości z jednakowym prawdopodobieństwem\n",
    "baseline_model = DummyClassifier(strategy='uniform', random_state=42)\n",
    "baseline_model.fit(X_train, y_train)\n",
    "baseline_model.score(X_test, y_test)"
   ],
   "metadata": {
    "collapsed": false,
    "ExecuteTime": {
     "end_time": "2023-05-25T09:50:46.779543900Z",
     "start_time": "2023-05-25T09:50:46.386311200Z"
    }
   }
  },
  {
   "cell_type": "code",
   "execution_count": 9,
   "outputs": [
    {
     "name": "stdout",
     "output_type": "stream",
     "text": [
      "Accuracy: 0.50\n",
      "Precision: 0.47\n",
      "Recall:0.50\n",
      "F1: 0.49\n"
     ]
    }
   ],
   "source": [
    "# Ewaluacja modelu baselinowego\n",
    "y_pred = baseline_model.predict(X_test)\n",
    "\n",
    "accuracy = accuracy_score(y_test, y_pred)\n",
    "precision = precision_score(y_test, y_pred)\n",
    "recall =recall_score(y_test, y_pred)\n",
    "f1 = f1_score(y_test, y_pred)\n",
    "print(\"Accuracy: {:.2f}\".format(accuracy))\n",
    "print(\"Precision: {:.2f}\".format(precision))\n",
    "print('Recall:{:.2f}'.format(recall))\n",
    "print(\"F1: {:.2f}\".format(f1))"
   ],
   "metadata": {
    "collapsed": false,
    "ExecuteTime": {
     "end_time": "2023-05-25T09:50:49.912704500Z",
     "start_time": "2023-05-25T09:50:48.062737200Z"
    }
   }
  },
  {
   "cell_type": "code",
   "execution_count": 10,
   "outputs": [
    {
     "data": {
      "text/plain": "['baseline_model.sav']"
     },
     "execution_count": 10,
     "metadata": {},
     "output_type": "execute_result"
    }
   ],
   "source": [
    "# Zapisanie modelu do pliku\n",
    "filename = 'baseline_model.sav'\n",
    "joblib.dump(baseline_model, filename)"
   ],
   "metadata": {
    "collapsed": false,
    "ExecuteTime": {
     "end_time": "2023-05-25T09:50:51.896361700Z",
     "start_time": "2023-05-25T09:50:51.833924700Z"
    }
   }
  },
  {
   "cell_type": "markdown",
   "source": [
    "Wizualizacja modelu"
   ],
   "metadata": {
    "collapsed": false
   }
  },
  {
   "cell_type": "code",
   "execution_count": 83,
   "outputs": [
    {
     "data": {
      "text/plain": "               Date\n0        2014-09-17\n1        2014-09-17\n2        2014-09-17\n3        2014-09-17\n4        2014-09-17\n...             ...\n3121623  2019-05-14\n3121624  2019-05-14\n3121625  2019-05-14\n3121626  2019-05-14\n3121627  2019-05-14\n\n[3121628 rows x 1 columns]",
      "text/html": "<div>\n<style scoped>\n    .dataframe tbody tr th:only-of-type {\n        vertical-align: middle;\n    }\n\n    .dataframe tbody tr th {\n        vertical-align: top;\n    }\n\n    .dataframe thead th {\n        text-align: right;\n    }\n</style>\n<table border=\"1\" class=\"dataframe\">\n  <thead>\n    <tr style=\"text-align: right;\">\n      <th></th>\n      <th>Date</th>\n    </tr>\n  </thead>\n  <tbody>\n    <tr>\n      <th>0</th>\n      <td>2014-09-17</td>\n    </tr>\n    <tr>\n      <th>1</th>\n      <td>2014-09-17</td>\n    </tr>\n    <tr>\n      <th>2</th>\n      <td>2014-09-17</td>\n    </tr>\n    <tr>\n      <th>3</th>\n      <td>2014-09-17</td>\n    </tr>\n    <tr>\n      <th>4</th>\n      <td>2014-09-17</td>\n    </tr>\n    <tr>\n      <th>...</th>\n      <td>...</td>\n    </tr>\n    <tr>\n      <th>3121623</th>\n      <td>2019-05-14</td>\n    </tr>\n    <tr>\n      <th>3121624</th>\n      <td>2019-05-14</td>\n    </tr>\n    <tr>\n      <th>3121625</th>\n      <td>2019-05-14</td>\n    </tr>\n    <tr>\n      <th>3121626</th>\n      <td>2019-05-14</td>\n    </tr>\n    <tr>\n      <th>3121627</th>\n      <td>2019-05-14</td>\n    </tr>\n  </tbody>\n</table>\n<p>3121628 rows × 1 columns</p>\n</div>"
     },
     "execution_count": 83,
     "metadata": {},
     "output_type": "execute_result"
    }
   ],
   "source": [
    "a"
   ],
   "metadata": {
    "collapsed": false,
    "ExecuteTime": {
     "end_time": "2023-05-25T15:55:34.479615100Z",
     "start_time": "2023-05-25T15:55:34.429397900Z"
    }
   }
  },
  {
   "cell_type": "code",
   "execution_count": 108,
   "outputs": [
    {
     "data": {
      "text/plain": "RangeIndex(start=0, stop=810983, step=1)"
     },
     "execution_count": 108,
     "metadata": {},
     "output_type": "execute_result"
    }
   ],
   "source": [
    "c.index"
   ],
   "metadata": {
    "collapsed": false,
    "ExecuteTime": {
     "end_time": "2023-05-25T16:08:16.528455800Z",
     "start_time": "2023-05-25T16:08:16.412984800Z"
    }
   }
  },
  {
   "cell_type": "code",
   "execution_count": 138,
   "outputs": [
    {
     "data": {
      "text/plain": "array([[-1.        ],\n       [-1.        ],\n       [-1.        ],\n       [-1.        ],\n       [-1.        ],\n       [-1.        ],\n       [-1.        ],\n       [-0.4081005 ],\n       [ 1.        ],\n       [ 0.42160062],\n       [-1.        ],\n       [-1.        ],\n       [-1.        ],\n       [-1.        ],\n       [-1.        ],\n       [-1.        ],\n       [-1.        ],\n       [-1.        ],\n       [-1.        ],\n       [-1.        ],\n       [-1.        ],\n       [-1.        ],\n       [-1.        ],\n       [-1.        ],\n       [-1.        ],\n       [-1.        ],\n       [-1.        ],\n       [-1.        ],\n       [-1.        ],\n       [-1.        ],\n       [-1.        ],\n       [-1.        ],\n       [-1.        ],\n       [-1.        ],\n       [-1.        ],\n       [-1.        ],\n       [-1.        ],\n       [-1.        ],\n       [-1.        ],\n       [-1.        ],\n       [-1.        ],\n       [-1.        ],\n       [-1.        ],\n       [-1.        ],\n       [-1.        ],\n       [-1.        ],\n       [-1.        ],\n       [-1.        ],\n       [-1.        ],\n       [-1.        ],\n       [-1.        ],\n       [-1.        ],\n       [-1.        ],\n       [-1.        ],\n       [-1.        ],\n       [-1.        ],\n       [-1.        ],\n       [-1.        ],\n       [-1.        ],\n       [-1.        ],\n       [-1.        ],\n       [-1.        ],\n       [-1.        ],\n       [-1.        ],\n       [-1.        ],\n       [-1.        ],\n       [-1.        ],\n       [-1.        ],\n       [-1.        ],\n       [-1.        ],\n       [-1.        ],\n       [-1.        ],\n       [-1.        ],\n       [-1.        ],\n       [-1.        ],\n       [-1.        ],\n       [-1.        ],\n       [-1.        ],\n       [-1.        ],\n       [-1.        ],\n       [-1.        ],\n       [-1.        ],\n       [-1.        ],\n       [-1.        ],\n       [-1.        ],\n       [-1.        ],\n       [-1.        ],\n       [-1.        ],\n       [-1.        ],\n       [-1.        ],\n       [-1.        ],\n       [-1.        ],\n       [-1.        ],\n       [-1.        ],\n       [-1.        ],\n       [-1.        ],\n       [-1.        ],\n       [-1.        ],\n       [-1.        ],\n       [-1.        ],\n       [-1.        ],\n       [-1.        ],\n       [-1.        ],\n       [-1.        ],\n       [-1.        ],\n       [-1.        ],\n       [-1.        ],\n       [-1.        ],\n       [-1.        ],\n       [-1.        ],\n       [-1.        ],\n       [-1.        ],\n       [-1.        ],\n       [ 0.27555922],\n       [ 1.        ],\n       [ 1.        ],\n       [ 0.99993868]])"
     },
     "execution_count": 138,
     "metadata": {},
     "output_type": "execute_result"
    }
   ],
   "source": [],
   "metadata": {
    "collapsed": false,
    "ExecuteTime": {
     "end_time": "2023-05-25T16:34:32.546216800Z",
     "start_time": "2023-05-25T16:34:32.479652300Z"
    }
   }
  },
  {
   "cell_type": "code",
   "execution_count": 158,
   "outputs": [
    {
     "data": {
      "text/plain": "array([[-1.        ],\n       [-1.        ],\n       [-1.        ],\n       [-1.        ],\n       [-1.        ],\n       [-1.        ],\n       [-1.        ],\n       [-0.4081005 ],\n       [ 1.        ],\n       [ 0.42160062],\n       [-1.        ],\n       [-1.        ],\n       [-1.        ],\n       [-1.        ],\n       [-1.        ],\n       [-1.        ],\n       [-1.        ],\n       [-1.        ],\n       [-1.        ],\n       [-1.        ],\n       [-1.        ],\n       [-1.        ],\n       [-1.        ],\n       [-1.        ],\n       [-1.        ],\n       [-1.        ],\n       [-1.        ],\n       [-1.        ],\n       [-1.        ],\n       [-1.        ],\n       [-1.        ],\n       [-1.        ],\n       [-1.        ],\n       [-1.        ],\n       [-1.        ],\n       [-1.        ],\n       [-1.        ],\n       [-1.        ],\n       [-1.        ],\n       [-1.        ],\n       [-1.        ],\n       [-1.        ],\n       [-1.        ],\n       [-1.        ],\n       [-1.        ],\n       [-1.        ],\n       [-1.        ],\n       [-1.        ],\n       [-1.        ],\n       [-1.        ],\n       [-1.        ],\n       [-1.        ],\n       [-1.        ],\n       [-1.        ],\n       [-1.        ],\n       [-1.        ],\n       [-1.        ],\n       [-1.        ],\n       [-1.        ],\n       [-1.        ],\n       [-1.        ],\n       [-1.        ],\n       [-1.        ],\n       [-1.        ],\n       [-1.        ],\n       [-1.        ],\n       [-1.        ],\n       [-1.        ],\n       [-1.        ],\n       [-1.        ],\n       [-1.        ],\n       [-1.        ],\n       [-1.        ],\n       [-1.        ],\n       [-1.        ],\n       [-1.        ],\n       [-1.        ],\n       [-1.        ],\n       [-1.        ],\n       [-1.        ],\n       [-1.        ],\n       [-1.        ],\n       [-1.        ],\n       [-1.        ],\n       [-1.        ],\n       [-1.        ],\n       [-1.        ],\n       [-1.        ],\n       [-1.        ],\n       [-1.        ],\n       [-1.        ],\n       [-1.        ],\n       [-1.        ],\n       [-1.        ],\n       [-1.        ],\n       [-1.        ],\n       [-1.        ],\n       [-1.        ],\n       [-1.        ],\n       [-1.        ],\n       [-1.        ],\n       [-1.        ],\n       [-1.        ],\n       [-1.        ],\n       [-1.        ],\n       [-1.        ],\n       [-1.        ],\n       [-1.        ],\n       [-1.        ],\n       [-1.        ],\n       [-1.        ],\n       [-1.        ],\n       [-1.        ],\n       [ 0.27555922],\n       [ 1.        ],\n       [ 1.        ],\n       [ 0.99993868]])"
     },
     "execution_count": 158,
     "metadata": {},
     "output_type": "execute_result"
    }
   ],
   "source": [
    "g[[1]].values"
   ],
   "metadata": {
    "collapsed": false,
    "ExecuteTime": {
     "end_time": "2023-05-25T16:46:05.163171900Z",
     "start_time": "2023-05-25T16:46:05.112743700Z"
    }
   }
  },
  {
   "cell_type": "code",
   "execution_count": 161,
   "outputs": [
    {
     "ename": "ConversionError",
     "evalue": "Failed to convert value(s) to axis units: array([[ 0.00045732],\n       [-0.0052415 ],\n       [ 0.01198305],\n       [ 0.00232427],\n       [-0.00250746],\n       [-0.00422605],\n       [-0.00099779],\n       [ 0.00469453],\n       [ 0.00470109],\n       [ 0.0002331 ],\n       [-0.01231803],\n       [ 0.03174603],\n       [ 0.03649635],\n       [-0.01001112],\n       [ 0.03397028],\n       [ 0.04017372],\n       [-0.00455581],\n       [ 0.0375    ],\n       [ 0.02505219],\n       [ 0.048     ],\n       [ 0.04670913],\n       [ 0.06995885],\n       [ 0.03299204],\n       [ 0.01098901],\n       [ 0.06264501],\n       [-0.00404858],\n       [-0.03232534],\n       [ 0.06559031],\n       [-0.00429185],\n       [-0.01304864],\n       [-0.03884573],\n       [-0.03703704],\n       [-0.01935484],\n       [ 0.03289474],\n       [-0.02106319],\n       [ 0.03671706],\n       [ 0.04365482],\n       [ 0.        ],\n       [-0.02557856],\n       [ 0.01060071],\n       [-0.00340522],\n       [ 0.01193317],\n       [ 0.018226  ],\n       [ 0.00816803],\n       [-0.00603136],\n       [ 0.00228311],\n       [-0.05077263],\n       [-0.02819957],\n       [-0.09777778],\n       [-0.00572435],\n       [-0.03720406],\n       [-0.03404792],\n       [-0.03622393],\n       [ 0.02542373],\n       [ 0.02356902],\n       [-0.01997897],\n       [ 0.00311526],\n       [-0.01439646],\n       [ 0.04849885],\n       [ 0.01684211],\n       [-0.00110497],\n       [ 0.04303279],\n       [ 0.01372756],\n       [-0.01420765],\n       [-0.00587544],\n       [-0.01182654],\n       [ 0.01149425],\n       [-0.02606882],\n       [ 0.01791359],\n       [ 0.02840746],\n       [-0.02962206],\n       [-0.0150289 ],\n       [-0.03982301],\n       [ 0.0091001 ],\n       [-0.01020408],\n       [ 0.00524476],\n       [-0.00520291],\n       [-0.01308411],\n       [ 0.02963776],\n       [-0.00326442],\n       [-0.00720721],\n       [-0.01438159],\n       [ 0.03923445],\n       [-0.02666667],\n       [-0.00998004],\n       [-0.04365904],\n       [ 0.0106383 ],\n       [ 0.        ],\n       [-0.00188324],\n       [-0.0020202 ],\n       [ 0.06614018],\n       [-0.06286837],\n       [-0.03448276],\n       [-0.05687204],\n       [-0.01642512],\n       [ 0.00974314],\n       [ 0.00462535],\n       [-0.02380952],\n       [-0.02883721],\n       [ 0.003003  ],\n       [-0.02827225],\n       [-0.02599653],\n       [ 0.00518135],\n       [ 0.06217617],\n       [ 0.03220339],\n       [-0.01120239],\n       [ 0.01923077],\n       [-0.00431406],\n       [ 0.00679245],\n       [-0.03089888],\n       [-0.03464474],\n       [-0.01433692],\n       [ 0.00140677],\n       [-0.00480307],\n       [-0.00259124],\n       [-0.00106946],\n       [-0.00098115]])",
     "output_type": "error",
     "traceback": [
      "\u001B[1;31m---------------------------------------------------------------------------\u001B[0m",
      "\u001B[1;31mTypeError\u001B[0m                                 Traceback (most recent call last)",
      "File \u001B[1;32m~\\.conda\\envs\\newConda\\lib\\site-packages\\matplotlib\\axis.py:1732\u001B[0m, in \u001B[0;36mAxis.convert_units\u001B[1;34m(self, x)\u001B[0m\n\u001B[0;32m   1731\u001B[0m \u001B[38;5;28;01mtry\u001B[39;00m:\n\u001B[1;32m-> 1732\u001B[0m     ret \u001B[38;5;241m=\u001B[39m \u001B[38;5;28;43mself\u001B[39;49m\u001B[38;5;241;43m.\u001B[39;49m\u001B[43mconverter\u001B[49m\u001B[38;5;241;43m.\u001B[39;49m\u001B[43mconvert\u001B[49m\u001B[43m(\u001B[49m\u001B[43mx\u001B[49m\u001B[43m,\u001B[49m\u001B[43m \u001B[49m\u001B[38;5;28;43mself\u001B[39;49m\u001B[38;5;241;43m.\u001B[39;49m\u001B[43munits\u001B[49m\u001B[43m,\u001B[49m\u001B[43m \u001B[49m\u001B[38;5;28;43mself\u001B[39;49m\u001B[43m)\u001B[49m\n\u001B[0;32m   1733\u001B[0m \u001B[38;5;28;01mexcept\u001B[39;00m \u001B[38;5;167;01mException\u001B[39;00m \u001B[38;5;28;01mas\u001B[39;00m e:\n",
      "File \u001B[1;32m~\\.conda\\envs\\newConda\\lib\\site-packages\\matplotlib\\category.py:57\u001B[0m, in \u001B[0;36mStrCategoryConverter.convert\u001B[1;34m(value, unit, axis)\u001B[0m\n\u001B[0;32m     56\u001B[0m \u001B[38;5;66;03m# force an update so it also does type checking\u001B[39;00m\n\u001B[1;32m---> 57\u001B[0m \u001B[43munit\u001B[49m\u001B[38;5;241;43m.\u001B[39;49m\u001B[43mupdate\u001B[49m\u001B[43m(\u001B[49m\u001B[43mvalues\u001B[49m\u001B[43m)\u001B[49m\n\u001B[0;32m     58\u001B[0m \u001B[38;5;28;01mreturn\u001B[39;00m np\u001B[38;5;241m.\u001B[39mvectorize(unit\u001B[38;5;241m.\u001B[39m_mapping\u001B[38;5;241m.\u001B[39m\u001B[38;5;21m__getitem__\u001B[39m, otypes\u001B[38;5;241m=\u001B[39m[\u001B[38;5;28mfloat\u001B[39m])(values)\n",
      "File \u001B[1;32m~\\.conda\\envs\\newConda\\lib\\site-packages\\matplotlib\\category.py:214\u001B[0m, in \u001B[0;36mUnitData.update\u001B[1;34m(self, data)\u001B[0m\n\u001B[0;32m    213\u001B[0m convertible \u001B[38;5;241m=\u001B[39m \u001B[38;5;28;01mTrue\u001B[39;00m\n\u001B[1;32m--> 214\u001B[0m \u001B[38;5;28;01mfor\u001B[39;00m val \u001B[38;5;129;01min\u001B[39;00m \u001B[43mOrderedDict\u001B[49m\u001B[38;5;241;43m.\u001B[39;49m\u001B[43mfromkeys\u001B[49m\u001B[43m(\u001B[49m\u001B[43mdata\u001B[49m\u001B[43m)\u001B[49m:\n\u001B[0;32m    215\u001B[0m     \u001B[38;5;66;03m# OrderedDict just iterates over unique values in data.\u001B[39;00m\n\u001B[0;32m    216\u001B[0m     _api\u001B[38;5;241m.\u001B[39mcheck_isinstance((\u001B[38;5;28mstr\u001B[39m, \u001B[38;5;28mbytes\u001B[39m), value\u001B[38;5;241m=\u001B[39mval)\n",
      "\u001B[1;31mTypeError\u001B[0m: unhashable type: 'numpy.ndarray'",
      "\nThe above exception was the direct cause of the following exception:\n",
      "\u001B[1;31mConversionError\u001B[0m                           Traceback (most recent call last)",
      "Cell \u001B[1;32mIn[161], line 29\u001B[0m\n\u001B[0;32m     26\u001B[0m     plt\u001B[38;5;241m.\u001B[39mshow()\n\u001B[0;32m     28\u001B[0m dates_pred \u001B[38;5;241m=\u001B[39m dates[\u001B[38;5;28mlen\u001B[39m(dates)\u001B[38;5;241m-\u001B[39m\u001B[38;5;28mlen\u001B[39m(y_pred):]\n\u001B[1;32m---> 29\u001B[0m \u001B[43mvisualization_of_pred\u001B[49m\u001B[43m(\u001B[49m\u001B[43mdates_pred\u001B[49m\u001B[43m[\u001B[49m\u001B[38;5;124;43m'\u001B[39;49m\u001B[38;5;124;43mDate\u001B[39;49m\u001B[38;5;124;43m'\u001B[39;49m\u001B[43m]\u001B[49m\u001B[43m,\u001B[49m\u001B[43m \u001B[49m\u001B[43my_pred\u001B[49m\u001B[43m,\u001B[49m\u001B[43m \u001B[49m\u001B[43my_test\u001B[49m\u001B[43m)\u001B[49m\n",
      "Cell \u001B[1;32mIn[161], line 22\u001B[0m, in \u001B[0;36mvisualization_of_pred\u001B[1;34m(dates, y_pred, y_test)\u001B[0m\n\u001B[0;32m     20\u001B[0m dates_plot, y_pred_plot, y_test_plot \u001B[38;5;241m=\u001B[39m prepare_plot_data(dates, y_pred, y_test)\n\u001B[0;32m     21\u001B[0m fig, ax \u001B[38;5;241m=\u001B[39m plt\u001B[38;5;241m.\u001B[39msubplots(figsize\u001B[38;5;241m=\u001B[39m(\u001B[38;5;241m12\u001B[39m, \u001B[38;5;241m3\u001B[39m))\n\u001B[1;32m---> 22\u001B[0m \u001B[43max\u001B[49m\u001B[38;5;241;43m.\u001B[39;49m\u001B[43mhist\u001B[49m\u001B[43m(\u001B[49m\u001B[43mdates_plot\u001B[49m\u001B[43m,\u001B[49m\u001B[43m \u001B[49m\u001B[43my_pred_plot\u001B[49m\u001B[43m,\u001B[49m\u001B[43m \u001B[49m\u001B[43mcumulative\u001B[49m\u001B[38;5;241;43m=\u001B[39;49m\u001B[38;5;28;43;01mTrue\u001B[39;49;00m\u001B[43m,\u001B[49m\u001B[43m \u001B[49m\u001B[43mlinewidth\u001B[49m\u001B[38;5;241;43m=\u001B[39;49m\u001B[38;5;241;43m2\u001B[39;49m\u001B[43m,\u001B[49m\u001B[43m \u001B[49m\u001B[43mlabel\u001B[49m\u001B[38;5;241;43m=\u001B[39;49m\u001B[38;5;124;43m'\u001B[39;49m\u001B[38;5;124;43mPredicted Trend\u001B[39;49m\u001B[38;5;124;43m'\u001B[39;49m\u001B[43m,\u001B[49m\u001B[43m \u001B[49m\u001B[43mcolor\u001B[49m\u001B[38;5;241;43m=\u001B[39;49m\u001B[43m \u001B[49m\u001B[38;5;124;43m'\u001B[39;49m\u001B[38;5;124;43mpink\u001B[39;49m\u001B[38;5;124;43m'\u001B[39;49m\u001B[43m)\u001B[49m\n\u001B[0;32m     23\u001B[0m ax\u001B[38;5;241m.\u001B[39mhist(dates_plot, y_test_plot, cumulative\u001B[38;5;241m=\u001B[39m\u001B[38;5;28;01mTrue\u001B[39;00m, linewidth\u001B[38;5;241m=\u001B[39m\u001B[38;5;241m2\u001B[39m, label\u001B[38;5;241m=\u001B[39m\u001B[38;5;124m'\u001B[39m\u001B[38;5;124mReal Trend\u001B[39m\u001B[38;5;124m'\u001B[39m, color \u001B[38;5;241m=\u001B[39m \u001B[38;5;124m'\u001B[39m\u001B[38;5;124mnavy\u001B[39m\u001B[38;5;124m'\u001B[39m)\n\u001B[0;32m     24\u001B[0m plt\u001B[38;5;241m.\u001B[39mtitle(\u001B[38;5;124m'\u001B[39m\u001B[38;5;124mReal and Predicted Trends of Price\u001B[39m\u001B[38;5;124m'\u001B[39m)\n",
      "File \u001B[1;32m~\\.conda\\envs\\newConda\\lib\\site-packages\\matplotlib\\__init__.py:1472\u001B[0m, in \u001B[0;36m_preprocess_data.<locals>.inner\u001B[1;34m(ax, data, *args, **kwargs)\u001B[0m\n\u001B[0;32m   1469\u001B[0m \u001B[38;5;129m@functools\u001B[39m\u001B[38;5;241m.\u001B[39mwraps(func)\n\u001B[0;32m   1470\u001B[0m \u001B[38;5;28;01mdef\u001B[39;00m \u001B[38;5;21minner\u001B[39m(ax, \u001B[38;5;241m*\u001B[39margs, data\u001B[38;5;241m=\u001B[39m\u001B[38;5;28;01mNone\u001B[39;00m, \u001B[38;5;241m*\u001B[39m\u001B[38;5;241m*\u001B[39mkwargs):\n\u001B[0;32m   1471\u001B[0m     \u001B[38;5;28;01mif\u001B[39;00m data \u001B[38;5;129;01mis\u001B[39;00m \u001B[38;5;28;01mNone\u001B[39;00m:\n\u001B[1;32m-> 1472\u001B[0m         \u001B[38;5;28;01mreturn\u001B[39;00m \u001B[43mfunc\u001B[49m\u001B[43m(\u001B[49m\u001B[43max\u001B[49m\u001B[43m,\u001B[49m\u001B[43m \u001B[49m\u001B[38;5;241;43m*\u001B[39;49m\u001B[38;5;28;43mmap\u001B[39;49m\u001B[43m(\u001B[49m\u001B[43msanitize_sequence\u001B[49m\u001B[43m,\u001B[49m\u001B[43m \u001B[49m\u001B[43margs\u001B[49m\u001B[43m)\u001B[49m\u001B[43m,\u001B[49m\u001B[43m \u001B[49m\u001B[38;5;241;43m*\u001B[39;49m\u001B[38;5;241;43m*\u001B[39;49m\u001B[43mkwargs\u001B[49m\u001B[43m)\u001B[49m\n\u001B[0;32m   1474\u001B[0m     bound \u001B[38;5;241m=\u001B[39m new_sig\u001B[38;5;241m.\u001B[39mbind(ax, \u001B[38;5;241m*\u001B[39margs, \u001B[38;5;241m*\u001B[39m\u001B[38;5;241m*\u001B[39mkwargs)\n\u001B[0;32m   1475\u001B[0m     auto_label \u001B[38;5;241m=\u001B[39m (bound\u001B[38;5;241m.\u001B[39marguments\u001B[38;5;241m.\u001B[39mget(label_namer)\n\u001B[0;32m   1476\u001B[0m                   \u001B[38;5;129;01mor\u001B[39;00m bound\u001B[38;5;241m.\u001B[39mkwargs\u001B[38;5;241m.\u001B[39mget(label_namer))\n",
      "File \u001B[1;32m~\\.conda\\envs\\newConda\\lib\\site-packages\\matplotlib\\axes\\_axes.py:6722\u001B[0m, in \u001B[0;36mAxes.hist\u001B[1;34m(self, x, bins, range, density, weights, cumulative, bottom, histtype, align, orientation, rwidth, log, color, label, stacked, **kwargs)\u001B[0m\n\u001B[0;32m   6719\u001B[0m     bin_range \u001B[38;5;241m=\u001B[39m convert_units(bin_range)\n\u001B[0;32m   6721\u001B[0m \u001B[38;5;28;01mif\u001B[39;00m \u001B[38;5;129;01mnot\u001B[39;00m cbook\u001B[38;5;241m.\u001B[39mis_scalar_or_string(bins):\n\u001B[1;32m-> 6722\u001B[0m     bins \u001B[38;5;241m=\u001B[39m \u001B[43mconvert_units\u001B[49m\u001B[43m(\u001B[49m\u001B[43mbins\u001B[49m\u001B[43m)\u001B[49m\n\u001B[0;32m   6724\u001B[0m \u001B[38;5;66;03m# We need to do to 'weights' what was done to 'x'\u001B[39;00m\n\u001B[0;32m   6725\u001B[0m \u001B[38;5;28;01mif\u001B[39;00m weights \u001B[38;5;129;01mis\u001B[39;00m \u001B[38;5;129;01mnot\u001B[39;00m \u001B[38;5;28;01mNone\u001B[39;00m:\n",
      "File \u001B[1;32m~\\.conda\\envs\\newConda\\lib\\site-packages\\matplotlib\\artist.py:281\u001B[0m, in \u001B[0;36mArtist.convert_xunits\u001B[1;34m(self, x)\u001B[0m\n\u001B[0;32m    279\u001B[0m \u001B[38;5;28;01mif\u001B[39;00m ax \u001B[38;5;129;01mis\u001B[39;00m \u001B[38;5;28;01mNone\u001B[39;00m \u001B[38;5;129;01mor\u001B[39;00m ax\u001B[38;5;241m.\u001B[39mxaxis \u001B[38;5;129;01mis\u001B[39;00m \u001B[38;5;28;01mNone\u001B[39;00m:\n\u001B[0;32m    280\u001B[0m     \u001B[38;5;28;01mreturn\u001B[39;00m x\n\u001B[1;32m--> 281\u001B[0m \u001B[38;5;28;01mreturn\u001B[39;00m \u001B[43max\u001B[49m\u001B[38;5;241;43m.\u001B[39;49m\u001B[43mxaxis\u001B[49m\u001B[38;5;241;43m.\u001B[39;49m\u001B[43mconvert_units\u001B[49m\u001B[43m(\u001B[49m\u001B[43mx\u001B[49m\u001B[43m)\u001B[49m\n",
      "File \u001B[1;32m~\\.conda\\envs\\newConda\\lib\\site-packages\\matplotlib\\axis.py:1734\u001B[0m, in \u001B[0;36mAxis.convert_units\u001B[1;34m(self, x)\u001B[0m\n\u001B[0;32m   1732\u001B[0m     ret \u001B[38;5;241m=\u001B[39m \u001B[38;5;28mself\u001B[39m\u001B[38;5;241m.\u001B[39mconverter\u001B[38;5;241m.\u001B[39mconvert(x, \u001B[38;5;28mself\u001B[39m\u001B[38;5;241m.\u001B[39munits, \u001B[38;5;28mself\u001B[39m)\n\u001B[0;32m   1733\u001B[0m \u001B[38;5;28;01mexcept\u001B[39;00m \u001B[38;5;167;01mException\u001B[39;00m \u001B[38;5;28;01mas\u001B[39;00m e:\n\u001B[1;32m-> 1734\u001B[0m     \u001B[38;5;28;01mraise\u001B[39;00m munits\u001B[38;5;241m.\u001B[39mConversionError(\u001B[38;5;124m'\u001B[39m\u001B[38;5;124mFailed to convert value(s) to axis \u001B[39m\u001B[38;5;124m'\u001B[39m\n\u001B[0;32m   1735\u001B[0m                                  \u001B[38;5;124mf\u001B[39m\u001B[38;5;124m'\u001B[39m\u001B[38;5;124munits: \u001B[39m\u001B[38;5;132;01m{\u001B[39;00mx\u001B[38;5;132;01m!r}\u001B[39;00m\u001B[38;5;124m'\u001B[39m) \u001B[38;5;28;01mfrom\u001B[39;00m \u001B[38;5;21;01me\u001B[39;00m\n\u001B[0;32m   1736\u001B[0m \u001B[38;5;28;01mreturn\u001B[39;00m ret\n",
      "\u001B[1;31mConversionError\u001B[0m: Failed to convert value(s) to axis units: array([[ 0.00045732],\n       [-0.0052415 ],\n       [ 0.01198305],\n       [ 0.00232427],\n       [-0.00250746],\n       [-0.00422605],\n       [-0.00099779],\n       [ 0.00469453],\n       [ 0.00470109],\n       [ 0.0002331 ],\n       [-0.01231803],\n       [ 0.03174603],\n       [ 0.03649635],\n       [-0.01001112],\n       [ 0.03397028],\n       [ 0.04017372],\n       [-0.00455581],\n       [ 0.0375    ],\n       [ 0.02505219],\n       [ 0.048     ],\n       [ 0.04670913],\n       [ 0.06995885],\n       [ 0.03299204],\n       [ 0.01098901],\n       [ 0.06264501],\n       [-0.00404858],\n       [-0.03232534],\n       [ 0.06559031],\n       [-0.00429185],\n       [-0.01304864],\n       [-0.03884573],\n       [-0.03703704],\n       [-0.01935484],\n       [ 0.03289474],\n       [-0.02106319],\n       [ 0.03671706],\n       [ 0.04365482],\n       [ 0.        ],\n       [-0.02557856],\n       [ 0.01060071],\n       [-0.00340522],\n       [ 0.01193317],\n       [ 0.018226  ],\n       [ 0.00816803],\n       [-0.00603136],\n       [ 0.00228311],\n       [-0.05077263],\n       [-0.02819957],\n       [-0.09777778],\n       [-0.00572435],\n       [-0.03720406],\n       [-0.03404792],\n       [-0.03622393],\n       [ 0.02542373],\n       [ 0.02356902],\n       [-0.01997897],\n       [ 0.00311526],\n       [-0.01439646],\n       [ 0.04849885],\n       [ 0.01684211],\n       [-0.00110497],\n       [ 0.04303279],\n       [ 0.01372756],\n       [-0.01420765],\n       [-0.00587544],\n       [-0.01182654],\n       [ 0.01149425],\n       [-0.02606882],\n       [ 0.01791359],\n       [ 0.02840746],\n       [-0.02962206],\n       [-0.0150289 ],\n       [-0.03982301],\n       [ 0.0091001 ],\n       [-0.01020408],\n       [ 0.00524476],\n       [-0.00520291],\n       [-0.01308411],\n       [ 0.02963776],\n       [-0.00326442],\n       [-0.00720721],\n       [-0.01438159],\n       [ 0.03923445],\n       [-0.02666667],\n       [-0.00998004],\n       [-0.04365904],\n       [ 0.0106383 ],\n       [ 0.        ],\n       [-0.00188324],\n       [-0.0020202 ],\n       [ 0.06614018],\n       [-0.06286837],\n       [-0.03448276],\n       [-0.05687204],\n       [-0.01642512],\n       [ 0.00974314],\n       [ 0.00462535],\n       [-0.02380952],\n       [-0.02883721],\n       [ 0.003003  ],\n       [-0.02827225],\n       [-0.02599653],\n       [ 0.00518135],\n       [ 0.06217617],\n       [ 0.03220339],\n       [-0.01120239],\n       [ 0.01923077],\n       [-0.00431406],\n       [ 0.00679245],\n       [-0.03089888],\n       [-0.03464474],\n       [-0.01433692],\n       [ 0.00140677],\n       [-0.00480307],\n       [-0.00259124],\n       [-0.00106946],\n       [-0.00098115]])"
     ]
    },
    {
     "data": {
      "text/plain": "<Figure size 1200x300 with 1 Axes>",
      "image/png": "[encoded data removed]"
     },
     "metadata": {},
     "output_type": "display_data"
    }
   ],
   "source": [
    "def prepare_plot_data(dates, y_pred, y_test):\n",
    "    a = dates[len(dates)-len(y_pred):]\n",
    "    b = pd.Series(y_pred)\n",
    "    c = pd.Series(y_test)\n",
    "    a.reset_index(drop=True, inplace=True)\n",
    "    b.reset_index(drop=True, inplace=True)\n",
    "    c.reset_index(drop=True, inplace=True)\n",
    "    d = pd.concat([a,b],axis=1,ignore_index=True)\n",
    "    e = pd.concat([a,c],axis=1,ignore_index=True)\n",
    "    f = d.groupby([0]).mean()\n",
    "    g = e.groupby([0]).mean()\n",
    "    y_pred_plot = f[[1]].values\n",
    "    y_test_plot = g[[1]].values\n",
    "    dates_plot = f.index\n",
    "\n",
    "    return dates_plot, y_pred_plot, y_test_plot\n",
    "\n",
    "\n",
    "def visualization_of_pred(dates, y_pred, y_test):\n",
    "    dates_plot, y_pred_plot, y_test_plot = prepare_plot_data(dates, y_pred, y_test)\n",
    "    fig, ax = plt.subplots(figsize=(12, 3))\n",
    "    ax.plot(dates_plot, y_pred_plot, linewidth=2, label='Predicted Trend', color= 'pink')\n",
    "    ax.plot(dates_plot, y_test_plot, linewidth=2, label='Real Trend', color = 'navy')\n",
    "    plt.title('Real and Predicted Trends of Price')\n",
    "    plt.legend()\n",
    "    plt.show()\n",
    "\n",
    "dates_pred = dates[len(dates)-len(y_pred):]\n",
    "visualization_of_pred(dates_pred['Date'], y_pred, y_test)"
   ],
   "metadata": {
    "collapsed": false,
    "ExecuteTime": {
     "end_time": "2023-05-25T17:39:52.729713300Z",
     "start_time": "2023-05-25T17:39:50.579578500Z"
    }
   }
  },
  {
   "cell_type": "markdown",
   "source": [
    "Klasyfikator 2: regresja logistyczna"
   ],
   "metadata": {
    "collapsed": false
   }
  },
  {
   "cell_type": "code",
   "execution_count": 56,
   "outputs": [],
   "source": [
    "logistic_regression_pipeline = Pipeline(steps=[\n",
    "    ('count_vectorizer', CountVectorizer(lowercase=False)),\n",
    "    ('selection_features', SelectFromModel(estimator=LogisticRegression(random_state=2023, class_weight='balanced')))\n",
    "])"
   ],
   "metadata": {
    "collapsed": false,
    "ExecuteTime": {
     "end_time": "2023-05-25T10:33:17.298070700Z",
     "start_time": "2023-05-25T10:33:17.247103400Z"
    }
   }
  },
  {
   "cell_type": "code",
   "execution_count": 57,
   "outputs": [
    {
     "ename": "TypeError",
     "evalue": "expected string or bytes-like object",
     "output_type": "error",
     "traceback": [
      "\u001B[1;31m---------------------------------------------------------------------------\u001B[0m",
      "\u001B[1;31mTypeError\u001B[0m                                 Traceback (most recent call last)",
      "Cell \u001B[1;32mIn[57], line 1\u001B[0m\n\u001B[1;32m----> 1\u001B[0m \u001B[43mlogistic_regression_pipeline\u001B[49m\u001B[38;5;241;43m.\u001B[39;49m\u001B[43mfit_transform\u001B[49m\u001B[43m(\u001B[49m\u001B[43mX_train\u001B[49m\u001B[38;5;241;43m.\u001B[39;49m\u001B[43mtranspose\u001B[49m\u001B[43m(\u001B[49m\u001B[43m)\u001B[49m\u001B[43m,\u001B[49m\u001B[43m \u001B[49m\u001B[43my_train\u001B[49m\u001B[43m)\u001B[49m\n",
      "File \u001B[1;32m~\\.conda\\envs\\newConda\\lib\\site-packages\\sklearn\\pipeline.py:437\u001B[0m, in \u001B[0;36mPipeline.fit_transform\u001B[1;34m(self, X, y, **fit_params)\u001B[0m\n\u001B[0;32m    410\u001B[0m \u001B[38;5;250m\u001B[39m\u001B[38;5;124;03m\"\"\"Fit the model and transform with the final estimator.\u001B[39;00m\n\u001B[0;32m    411\u001B[0m \n\u001B[0;32m    412\u001B[0m \u001B[38;5;124;03mFits all the transformers one after the other and transform the\u001B[39;00m\n\u001B[1;32m   (...)\u001B[0m\n\u001B[0;32m    434\u001B[0m \u001B[38;5;124;03m    Transformed samples.\u001B[39;00m\n\u001B[0;32m    435\u001B[0m \u001B[38;5;124;03m\"\"\"\u001B[39;00m\n\u001B[0;32m    436\u001B[0m fit_params_steps \u001B[38;5;241m=\u001B[39m \u001B[38;5;28mself\u001B[39m\u001B[38;5;241m.\u001B[39m_check_fit_params(\u001B[38;5;241m*\u001B[39m\u001B[38;5;241m*\u001B[39mfit_params)\n\u001B[1;32m--> 437\u001B[0m Xt \u001B[38;5;241m=\u001B[39m \u001B[38;5;28;43mself\u001B[39;49m\u001B[38;5;241;43m.\u001B[39;49m\u001B[43m_fit\u001B[49m\u001B[43m(\u001B[49m\u001B[43mX\u001B[49m\u001B[43m,\u001B[49m\u001B[43m \u001B[49m\u001B[43my\u001B[49m\u001B[43m,\u001B[49m\u001B[43m \u001B[49m\u001B[38;5;241;43m*\u001B[39;49m\u001B[38;5;241;43m*\u001B[39;49m\u001B[43mfit_params_steps\u001B[49m\u001B[43m)\u001B[49m\n\u001B[0;32m    439\u001B[0m last_step \u001B[38;5;241m=\u001B[39m \u001B[38;5;28mself\u001B[39m\u001B[38;5;241m.\u001B[39m_final_estimator\n\u001B[0;32m    440\u001B[0m \u001B[38;5;28;01mwith\u001B[39;00m _print_elapsed_time(\u001B[38;5;124m\"\u001B[39m\u001B[38;5;124mPipeline\u001B[39m\u001B[38;5;124m\"\u001B[39m, \u001B[38;5;28mself\u001B[39m\u001B[38;5;241m.\u001B[39m_log_message(\u001B[38;5;28mlen\u001B[39m(\u001B[38;5;28mself\u001B[39m\u001B[38;5;241m.\u001B[39msteps) \u001B[38;5;241m-\u001B[39m \u001B[38;5;241m1\u001B[39m)):\n",
      "File \u001B[1;32m~\\.conda\\envs\\newConda\\lib\\site-packages\\sklearn\\pipeline.py:359\u001B[0m, in \u001B[0;36mPipeline._fit\u001B[1;34m(self, X, y, **fit_params_steps)\u001B[0m\n\u001B[0;32m    357\u001B[0m     cloned_transformer \u001B[38;5;241m=\u001B[39m clone(transformer)\n\u001B[0;32m    358\u001B[0m \u001B[38;5;66;03m# Fit or load from cache the current transformer\u001B[39;00m\n\u001B[1;32m--> 359\u001B[0m X, fitted_transformer \u001B[38;5;241m=\u001B[39m \u001B[43mfit_transform_one_cached\u001B[49m\u001B[43m(\u001B[49m\n\u001B[0;32m    360\u001B[0m \u001B[43m    \u001B[49m\u001B[43mcloned_transformer\u001B[49m\u001B[43m,\u001B[49m\n\u001B[0;32m    361\u001B[0m \u001B[43m    \u001B[49m\u001B[43mX\u001B[49m\u001B[43m,\u001B[49m\n\u001B[0;32m    362\u001B[0m \u001B[43m    \u001B[49m\u001B[43my\u001B[49m\u001B[43m,\u001B[49m\n\u001B[0;32m    363\u001B[0m \u001B[43m    \u001B[49m\u001B[38;5;28;43;01mNone\u001B[39;49;00m\u001B[43m,\u001B[49m\n\u001B[0;32m    364\u001B[0m \u001B[43m    \u001B[49m\u001B[43mmessage_clsname\u001B[49m\u001B[38;5;241;43m=\u001B[39;49m\u001B[38;5;124;43m\"\u001B[39;49m\u001B[38;5;124;43mPipeline\u001B[39;49m\u001B[38;5;124;43m\"\u001B[39;49m\u001B[43m,\u001B[49m\n\u001B[0;32m    365\u001B[0m \u001B[43m    \u001B[49m\u001B[43mmessage\u001B[49m\u001B[38;5;241;43m=\u001B[39;49m\u001B[38;5;28;43mself\u001B[39;49m\u001B[38;5;241;43m.\u001B[39;49m\u001B[43m_log_message\u001B[49m\u001B[43m(\u001B[49m\u001B[43mstep_idx\u001B[49m\u001B[43m)\u001B[49m\u001B[43m,\u001B[49m\n\u001B[0;32m    366\u001B[0m \u001B[43m    \u001B[49m\u001B[38;5;241;43m*\u001B[39;49m\u001B[38;5;241;43m*\u001B[39;49m\u001B[43mfit_params_steps\u001B[49m\u001B[43m[\u001B[49m\u001B[43mname\u001B[49m\u001B[43m]\u001B[49m\u001B[43m,\u001B[49m\n\u001B[0;32m    367\u001B[0m \u001B[43m\u001B[49m\u001B[43m)\u001B[49m\n\u001B[0;32m    368\u001B[0m \u001B[38;5;66;03m# Replace the transformer of the step with the fitted\u001B[39;00m\n\u001B[0;32m    369\u001B[0m \u001B[38;5;66;03m# transformer. This is necessary when loading the transformer\u001B[39;00m\n\u001B[0;32m    370\u001B[0m \u001B[38;5;66;03m# from the cache.\u001B[39;00m\n\u001B[0;32m    371\u001B[0m \u001B[38;5;28mself\u001B[39m\u001B[38;5;241m.\u001B[39msteps[step_idx] \u001B[38;5;241m=\u001B[39m (name, fitted_transformer)\n",
      "File \u001B[1;32m~\\.conda\\envs\\newConda\\lib\\site-packages\\joblib\\memory.py:349\u001B[0m, in \u001B[0;36mNotMemorizedFunc.__call__\u001B[1;34m(self, *args, **kwargs)\u001B[0m\n\u001B[0;32m    348\u001B[0m \u001B[38;5;28;01mdef\u001B[39;00m \u001B[38;5;21m__call__\u001B[39m(\u001B[38;5;28mself\u001B[39m, \u001B[38;5;241m*\u001B[39margs, \u001B[38;5;241m*\u001B[39m\u001B[38;5;241m*\u001B[39mkwargs):\n\u001B[1;32m--> 349\u001B[0m     \u001B[38;5;28;01mreturn\u001B[39;00m \u001B[38;5;28;43mself\u001B[39;49m\u001B[38;5;241;43m.\u001B[39;49m\u001B[43mfunc\u001B[49m\u001B[43m(\u001B[49m\u001B[38;5;241;43m*\u001B[39;49m\u001B[43margs\u001B[49m\u001B[43m,\u001B[49m\u001B[43m \u001B[49m\u001B[38;5;241;43m*\u001B[39;49m\u001B[38;5;241;43m*\u001B[39;49m\u001B[43mkwargs\u001B[49m\u001B[43m)\u001B[49m\n",
      "File \u001B[1;32m~\\.conda\\envs\\newConda\\lib\\site-packages\\sklearn\\pipeline.py:893\u001B[0m, in \u001B[0;36m_fit_transform_one\u001B[1;34m(transformer, X, y, weight, message_clsname, message, **fit_params)\u001B[0m\n\u001B[0;32m    891\u001B[0m \u001B[38;5;28;01mwith\u001B[39;00m _print_elapsed_time(message_clsname, message):\n\u001B[0;32m    892\u001B[0m     \u001B[38;5;28;01mif\u001B[39;00m \u001B[38;5;28mhasattr\u001B[39m(transformer, \u001B[38;5;124m\"\u001B[39m\u001B[38;5;124mfit_transform\u001B[39m\u001B[38;5;124m\"\u001B[39m):\n\u001B[1;32m--> 893\u001B[0m         res \u001B[38;5;241m=\u001B[39m \u001B[43mtransformer\u001B[49m\u001B[38;5;241;43m.\u001B[39;49m\u001B[43mfit_transform\u001B[49m\u001B[43m(\u001B[49m\u001B[43mX\u001B[49m\u001B[43m,\u001B[49m\u001B[43m \u001B[49m\u001B[43my\u001B[49m\u001B[43m,\u001B[49m\u001B[43m \u001B[49m\u001B[38;5;241;43m*\u001B[39;49m\u001B[38;5;241;43m*\u001B[39;49m\u001B[43mfit_params\u001B[49m\u001B[43m)\u001B[49m\n\u001B[0;32m    894\u001B[0m     \u001B[38;5;28;01melse\u001B[39;00m:\n\u001B[0;32m    895\u001B[0m         res \u001B[38;5;241m=\u001B[39m transformer\u001B[38;5;241m.\u001B[39mfit(X, y, \u001B[38;5;241m*\u001B[39m\u001B[38;5;241m*\u001B[39mfit_params)\u001B[38;5;241m.\u001B[39mtransform(X)\n",
      "File \u001B[1;32m~\\.conda\\envs\\newConda\\lib\\site-packages\\sklearn\\feature_extraction\\text.py:1388\u001B[0m, in \u001B[0;36mCountVectorizer.fit_transform\u001B[1;34m(self, raw_documents, y)\u001B[0m\n\u001B[0;32m   1380\u001B[0m             warnings\u001B[38;5;241m.\u001B[39mwarn(\n\u001B[0;32m   1381\u001B[0m                 \u001B[38;5;124m\"\u001B[39m\u001B[38;5;124mUpper case characters found in\u001B[39m\u001B[38;5;124m\"\u001B[39m\n\u001B[0;32m   1382\u001B[0m                 \u001B[38;5;124m\"\u001B[39m\u001B[38;5;124m vocabulary while \u001B[39m\u001B[38;5;124m'\u001B[39m\u001B[38;5;124mlowercase\u001B[39m\u001B[38;5;124m'\u001B[39m\u001B[38;5;124m\"\u001B[39m\n\u001B[0;32m   1383\u001B[0m                 \u001B[38;5;124m\"\u001B[39m\u001B[38;5;124m is True. These entries will not\u001B[39m\u001B[38;5;124m\"\u001B[39m\n\u001B[0;32m   1384\u001B[0m                 \u001B[38;5;124m\"\u001B[39m\u001B[38;5;124m be matched with any documents\u001B[39m\u001B[38;5;124m\"\u001B[39m\n\u001B[0;32m   1385\u001B[0m             )\n\u001B[0;32m   1386\u001B[0m             \u001B[38;5;28;01mbreak\u001B[39;00m\n\u001B[1;32m-> 1388\u001B[0m vocabulary, X \u001B[38;5;241m=\u001B[39m \u001B[38;5;28;43mself\u001B[39;49m\u001B[38;5;241;43m.\u001B[39;49m\u001B[43m_count_vocab\u001B[49m\u001B[43m(\u001B[49m\u001B[43mraw_documents\u001B[49m\u001B[43m,\u001B[49m\u001B[43m \u001B[49m\u001B[38;5;28;43mself\u001B[39;49m\u001B[38;5;241;43m.\u001B[39;49m\u001B[43mfixed_vocabulary_\u001B[49m\u001B[43m)\u001B[49m\n\u001B[0;32m   1390\u001B[0m \u001B[38;5;28;01mif\u001B[39;00m \u001B[38;5;28mself\u001B[39m\u001B[38;5;241m.\u001B[39mbinary:\n\u001B[0;32m   1391\u001B[0m     X\u001B[38;5;241m.\u001B[39mdata\u001B[38;5;241m.\u001B[39mfill(\u001B[38;5;241m1\u001B[39m)\n",
      "File \u001B[1;32m~\\.conda\\envs\\newConda\\lib\\site-packages\\sklearn\\feature_extraction\\text.py:1275\u001B[0m, in \u001B[0;36mCountVectorizer._count_vocab\u001B[1;34m(self, raw_documents, fixed_vocab)\u001B[0m\n\u001B[0;32m   1273\u001B[0m \u001B[38;5;28;01mfor\u001B[39;00m doc \u001B[38;5;129;01min\u001B[39;00m raw_documents:\n\u001B[0;32m   1274\u001B[0m     feature_counter \u001B[38;5;241m=\u001B[39m {}\n\u001B[1;32m-> 1275\u001B[0m     \u001B[38;5;28;01mfor\u001B[39;00m feature \u001B[38;5;129;01min\u001B[39;00m \u001B[43manalyze\u001B[49m\u001B[43m(\u001B[49m\u001B[43mdoc\u001B[49m\u001B[43m)\u001B[49m:\n\u001B[0;32m   1276\u001B[0m         \u001B[38;5;28;01mtry\u001B[39;00m:\n\u001B[0;32m   1277\u001B[0m             feature_idx \u001B[38;5;241m=\u001B[39m vocabulary[feature]\n",
      "File \u001B[1;32m~\\.conda\\envs\\newConda\\lib\\site-packages\\sklearn\\feature_extraction\\text.py:113\u001B[0m, in \u001B[0;36m_analyze\u001B[1;34m(doc, analyzer, tokenizer, ngrams, preprocessor, decoder, stop_words)\u001B[0m\n\u001B[0;32m    111\u001B[0m     doc \u001B[38;5;241m=\u001B[39m preprocessor(doc)\n\u001B[0;32m    112\u001B[0m \u001B[38;5;28;01mif\u001B[39;00m tokenizer \u001B[38;5;129;01mis\u001B[39;00m \u001B[38;5;129;01mnot\u001B[39;00m \u001B[38;5;28;01mNone\u001B[39;00m:\n\u001B[1;32m--> 113\u001B[0m     doc \u001B[38;5;241m=\u001B[39m \u001B[43mtokenizer\u001B[49m\u001B[43m(\u001B[49m\u001B[43mdoc\u001B[49m\u001B[43m)\u001B[49m\n\u001B[0;32m    114\u001B[0m \u001B[38;5;28;01mif\u001B[39;00m ngrams \u001B[38;5;129;01mis\u001B[39;00m \u001B[38;5;129;01mnot\u001B[39;00m \u001B[38;5;28;01mNone\u001B[39;00m:\n\u001B[0;32m    115\u001B[0m     \u001B[38;5;28;01mif\u001B[39;00m stop_words \u001B[38;5;129;01mis\u001B[39;00m \u001B[38;5;129;01mnot\u001B[39;00m \u001B[38;5;28;01mNone\u001B[39;00m:\n",
      "\u001B[1;31mTypeError\u001B[0m: expected string or bytes-like object"
     ]
    }
   ],
   "source": [
    "logistic_regression_pipeline.fit_transform(X_train.transpose(), y_train)"
   ],
   "metadata": {
    "collapsed": false,
    "ExecuteTime": {
     "end_time": "2023-05-25T10:34:47.822647800Z",
     "start_time": "2023-05-25T10:33:18.034652600Z"
    }
   }
  },
  {
   "cell_type": "code",
   "execution_count": 58,
   "outputs": [
    {
     "name": "stdout",
     "output_type": "stream",
     "text": [
      "(3116630, 1)\n",
      "(3116630,)\n"
     ]
    }
   ],
   "source": [
    "print(X_train.shape)\n",
    "print(y_train.shape)"
   ],
   "metadata": {
    "collapsed": false,
    "ExecuteTime": {
     "end_time": "2023-05-25T10:35:07.777874800Z",
     "start_time": "2023-05-25T10:35:07.700921700Z"
    }
   }
  },
  {
   "cell_type": "code",
   "execution_count": 59,
   "outputs": [
    {
     "data": {
      "text/plain": "                                                      text\n0        44700 0100 utc 24h rang 44357 46557 volum 1275...\n1        btce price last 44400 bid 44400 ask 44400 vol ...\n2        live profit 93928 055 buy b38220 45019 btce se...\n3        45240 1715 utc 24h rang 45000 46940 volum 1045...\n4        kqed enjoy littl gift xeniar sent bitcoin tip ...\n...                                                    ...\n3121623                                         🔥📈🔥📈🔥📈🔥🙂🚀🌌\n3121624  andimmut code prefer code natur suppli code ar...\n3121625  satoshi websit bitcoin reveal even stupid imag...\n3121626  selcoin hocam eth btc gibi sert düzeltm yapmalimi\n3121627  make sure updat wallet latest version v01605 e...\n\n[3116630 rows x 1 columns]",
      "text/html": "<div>\n<style scoped>\n    .dataframe tbody tr th:only-of-type {\n        vertical-align: middle;\n    }\n\n    .dataframe tbody tr th {\n        vertical-align: top;\n    }\n\n    .dataframe thead th {\n        text-align: right;\n    }\n</style>\n<table border=\"1\" class=\"dataframe\">\n  <thead>\n    <tr style=\"text-align: right;\">\n      <th></th>\n      <th>text</th>\n    </tr>\n  </thead>\n  <tbody>\n    <tr>\n      <th>0</th>\n      <td>44700 0100 utc 24h rang 44357 46557 volum 1275...</td>\n    </tr>\n    <tr>\n      <th>1</th>\n      <td>btce price last 44400 bid 44400 ask 44400 vol ...</td>\n    </tr>\n    <tr>\n      <th>2</th>\n      <td>live profit 93928 055 buy b38220 45019 btce se...</td>\n    </tr>\n    <tr>\n      <th>3</th>\n      <td>45240 1715 utc 24h rang 45000 46940 volum 1045...</td>\n    </tr>\n    <tr>\n      <th>4</th>\n      <td>kqed enjoy littl gift xeniar sent bitcoin tip ...</td>\n    </tr>\n    <tr>\n      <th>...</th>\n      <td>...</td>\n    </tr>\n    <tr>\n      <th>3121623</th>\n      <td>🔥📈🔥📈🔥📈🔥🙂🚀🌌</td>\n    </tr>\n    <tr>\n      <th>3121624</th>\n      <td>andimmut code prefer code natur suppli code ar...</td>\n    </tr>\n    <tr>\n      <th>3121625</th>\n      <td>satoshi websit bitcoin reveal even stupid imag...</td>\n    </tr>\n    <tr>\n      <th>3121626</th>\n      <td>selcoin hocam eth btc gibi sert düzeltm yapmalimi</td>\n    </tr>\n    <tr>\n      <th>3121627</th>\n      <td>make sure updat wallet latest version v01605 e...</td>\n    </tr>\n  </tbody>\n</table>\n<p>3116630 rows × 1 columns</p>\n</div>"
     },
     "execution_count": 59,
     "metadata": {},
     "output_type": "execute_result"
    }
   ],
   "source": [
    "X_train"
   ],
   "metadata": {
    "collapsed": false,
    "ExecuteTime": {
     "end_time": "2023-05-25T10:35:11.169828500Z",
     "start_time": "2023-05-25T10:35:11.046898900Z"
    }
   }
  },
  {
   "cell_type": "markdown",
   "source": [
    "Grid search"
   ],
   "metadata": {
    "collapsed": false
   }
  },
  {
   "cell_type": "code",
   "execution_count": 60,
   "outputs": [
    {
     "ename": "ValueError",
     "evalue": "\nAll the 30 fits failed.\nIt is very likely that your model is misconfigured.\nYou can try to debug the error by setting error_score='raise'.\n\nBelow are more details about the failures:\n--------------------------------------------------------------------------------\n6 fits failed with the following error:\nTraceback (most recent call last):\n  File \"C:\\Users\\atago\\.conda\\envs\\newConda\\lib\\site-packages\\sklearn\\model_selection\\_validation.py\", line 686, in _fit_and_score\n    estimator.fit(X_train, y_train, **fit_params)\n  File \"C:\\Users\\atago\\.conda\\envs\\newConda\\lib\\site-packages\\sklearn\\pipeline.py\", line 405, in fit\n    self._final_estimator.fit(Xt, y, **fit_params_last_step)\n  File \"C:\\Users\\atago\\.conda\\envs\\newConda\\lib\\site-packages\\sklearn\\linear_model\\_logistic.py\", line 1196, in fit\n    X, y = self._validate_data(\n  File \"C:\\Users\\atago\\.conda\\envs\\newConda\\lib\\site-packages\\sklearn\\base.py\", line 584, in _validate_data\n    X, y = check_X_y(X, y, **check_params)\n  File \"C:\\Users\\atago\\.conda\\envs\\newConda\\lib\\site-packages\\sklearn\\utils\\validation.py\", line 1124, in check_X_y\n    check_consistent_length(X, y)\n  File \"C:\\Users\\atago\\.conda\\envs\\newConda\\lib\\site-packages\\sklearn\\utils\\validation.py\", line 397, in check_consistent_length\n    raise ValueError(\nValueError: Found input variables with inconsistent numbers of samples: [1, 519440]\n\n--------------------------------------------------------------------------------\n6 fits failed with the following error:\nTraceback (most recent call last):\n  File \"C:\\Users\\atago\\.conda\\envs\\newConda\\lib\\site-packages\\sklearn\\model_selection\\_validation.py\", line 686, in _fit_and_score\n    estimator.fit(X_train, y_train, **fit_params)\n  File \"C:\\Users\\atago\\.conda\\envs\\newConda\\lib\\site-packages\\sklearn\\pipeline.py\", line 405, in fit\n    self._final_estimator.fit(Xt, y, **fit_params_last_step)\n  File \"C:\\Users\\atago\\.conda\\envs\\newConda\\lib\\site-packages\\sklearn\\linear_model\\_logistic.py\", line 1196, in fit\n    X, y = self._validate_data(\n  File \"C:\\Users\\atago\\.conda\\envs\\newConda\\lib\\site-packages\\sklearn\\base.py\", line 584, in _validate_data\n    X, y = check_X_y(X, y, **check_params)\n  File \"C:\\Users\\atago\\.conda\\envs\\newConda\\lib\\site-packages\\sklearn\\utils\\validation.py\", line 1124, in check_X_y\n    check_consistent_length(X, y)\n  File \"C:\\Users\\atago\\.conda\\envs\\newConda\\lib\\site-packages\\sklearn\\utils\\validation.py\", line 397, in check_consistent_length\n    raise ValueError(\nValueError: Found input variables with inconsistent numbers of samples: [1, 1038878]\n\n--------------------------------------------------------------------------------\n6 fits failed with the following error:\nTraceback (most recent call last):\n  File \"C:\\Users\\atago\\.conda\\envs\\newConda\\lib\\site-packages\\sklearn\\model_selection\\_validation.py\", line 686, in _fit_and_score\n    estimator.fit(X_train, y_train, **fit_params)\n  File \"C:\\Users\\atago\\.conda\\envs\\newConda\\lib\\site-packages\\sklearn\\pipeline.py\", line 405, in fit\n    self._final_estimator.fit(Xt, y, **fit_params_last_step)\n  File \"C:\\Users\\atago\\.conda\\envs\\newConda\\lib\\site-packages\\sklearn\\linear_model\\_logistic.py\", line 1196, in fit\n    X, y = self._validate_data(\n  File \"C:\\Users\\atago\\.conda\\envs\\newConda\\lib\\site-packages\\sklearn\\base.py\", line 584, in _validate_data\n    X, y = check_X_y(X, y, **check_params)\n  File \"C:\\Users\\atago\\.conda\\envs\\newConda\\lib\\site-packages\\sklearn\\utils\\validation.py\", line 1124, in check_X_y\n    check_consistent_length(X, y)\n  File \"C:\\Users\\atago\\.conda\\envs\\newConda\\lib\\site-packages\\sklearn\\utils\\validation.py\", line 397, in check_consistent_length\n    raise ValueError(\nValueError: Found input variables with inconsistent numbers of samples: [1, 1558316]\n\n--------------------------------------------------------------------------------\n6 fits failed with the following error:\nTraceback (most recent call last):\n  File \"C:\\Users\\atago\\.conda\\envs\\newConda\\lib\\site-packages\\sklearn\\model_selection\\_validation.py\", line 686, in _fit_and_score\n    estimator.fit(X_train, y_train, **fit_params)\n  File \"C:\\Users\\atago\\.conda\\envs\\newConda\\lib\\site-packages\\sklearn\\pipeline.py\", line 405, in fit\n    self._final_estimator.fit(Xt, y, **fit_params_last_step)\n  File \"C:\\Users\\atago\\.conda\\envs\\newConda\\lib\\site-packages\\sklearn\\linear_model\\_logistic.py\", line 1196, in fit\n    X, y = self._validate_data(\n  File \"C:\\Users\\atago\\.conda\\envs\\newConda\\lib\\site-packages\\sklearn\\base.py\", line 584, in _validate_data\n    X, y = check_X_y(X, y, **check_params)\n  File \"C:\\Users\\atago\\.conda\\envs\\newConda\\lib\\site-packages\\sklearn\\utils\\validation.py\", line 1124, in check_X_y\n    check_consistent_length(X, y)\n  File \"C:\\Users\\atago\\.conda\\envs\\newConda\\lib\\site-packages\\sklearn\\utils\\validation.py\", line 397, in check_consistent_length\n    raise ValueError(\nValueError: Found input variables with inconsistent numbers of samples: [1, 2077754]\n\n--------------------------------------------------------------------------------\n6 fits failed with the following error:\nTraceback (most recent call last):\n  File \"C:\\Users\\atago\\.conda\\envs\\newConda\\lib\\site-packages\\sklearn\\model_selection\\_validation.py\", line 686, in _fit_and_score\n    estimator.fit(X_train, y_train, **fit_params)\n  File \"C:\\Users\\atago\\.conda\\envs\\newConda\\lib\\site-packages\\sklearn\\pipeline.py\", line 405, in fit\n    self._final_estimator.fit(Xt, y, **fit_params_last_step)\n  File \"C:\\Users\\atago\\.conda\\envs\\newConda\\lib\\site-packages\\sklearn\\linear_model\\_logistic.py\", line 1196, in fit\n    X, y = self._validate_data(\n  File \"C:\\Users\\atago\\.conda\\envs\\newConda\\lib\\site-packages\\sklearn\\base.py\", line 584, in _validate_data\n    X, y = check_X_y(X, y, **check_params)\n  File \"C:\\Users\\atago\\.conda\\envs\\newConda\\lib\\site-packages\\sklearn\\utils\\validation.py\", line 1124, in check_X_y\n    check_consistent_length(X, y)\n  File \"C:\\Users\\atago\\.conda\\envs\\newConda\\lib\\site-packages\\sklearn\\utils\\validation.py\", line 397, in check_consistent_length\n    raise ValueError(\nValueError: Found input variables with inconsistent numbers of samples: [1, 2597192]\n",
     "output_type": "error",
     "traceback": [
      "\u001B[1;31m---------------------------------------------------------------------------\u001B[0m",
      "\u001B[1;31mValueError\u001B[0m                                Traceback (most recent call last)",
      "Cell \u001B[1;32mIn[60], line 21\u001B[0m\n\u001B[0;32m     14\u001B[0m grid_search \u001B[38;5;241m=\u001B[39m GridSearchCV(\n\u001B[0;32m     15\u001B[0m     gridsearch_pipeline,\n\u001B[0;32m     16\u001B[0m     parameters,\n\u001B[0;32m     17\u001B[0m     cv\u001B[38;5;241m=\u001B[39mTimeSeriesSplit(n_splits\u001B[38;5;241m=\u001B[39m\u001B[38;5;241m5\u001B[39m)\n\u001B[0;32m     18\u001B[0m )\n\u001B[0;32m     20\u001B[0m \u001B[38;5;66;03m# Dopasowanie modelu GridSearchCV do danych treningowych\u001B[39;00m\n\u001B[1;32m---> 21\u001B[0m \u001B[43mgrid_search\u001B[49m\u001B[38;5;241;43m.\u001B[39;49m\u001B[43mfit\u001B[49m\u001B[43m(\u001B[49m\u001B[43mX_train\u001B[49m\u001B[43m,\u001B[49m\u001B[43m \u001B[49m\u001B[43my_train\u001B[49m\u001B[43m)\u001B[49m\n\u001B[0;32m     23\u001B[0m \u001B[38;5;66;03m# Najlepsze znalezione parametry\u001B[39;00m\n\u001B[0;32m     24\u001B[0m best_params \u001B[38;5;241m=\u001B[39m grid_search\u001B[38;5;241m.\u001B[39mbest_params_\n",
      "File \u001B[1;32m~\\.conda\\envs\\newConda\\lib\\site-packages\\sklearn\\model_selection\\_search.py:874\u001B[0m, in \u001B[0;36mBaseSearchCV.fit\u001B[1;34m(self, X, y, groups, **fit_params)\u001B[0m\n\u001B[0;32m    868\u001B[0m     results \u001B[38;5;241m=\u001B[39m \u001B[38;5;28mself\u001B[39m\u001B[38;5;241m.\u001B[39m_format_results(\n\u001B[0;32m    869\u001B[0m         all_candidate_params, n_splits, all_out, all_more_results\n\u001B[0;32m    870\u001B[0m     )\n\u001B[0;32m    872\u001B[0m     \u001B[38;5;28;01mreturn\u001B[39;00m results\n\u001B[1;32m--> 874\u001B[0m \u001B[38;5;28;43mself\u001B[39;49m\u001B[38;5;241;43m.\u001B[39;49m\u001B[43m_run_search\u001B[49m\u001B[43m(\u001B[49m\u001B[43mevaluate_candidates\u001B[49m\u001B[43m)\u001B[49m\n\u001B[0;32m    876\u001B[0m \u001B[38;5;66;03m# multimetric is determined here because in the case of a callable\u001B[39;00m\n\u001B[0;32m    877\u001B[0m \u001B[38;5;66;03m# self.scoring the return type is only known after calling\u001B[39;00m\n\u001B[0;32m    878\u001B[0m first_test_score \u001B[38;5;241m=\u001B[39m all_out[\u001B[38;5;241m0\u001B[39m][\u001B[38;5;124m\"\u001B[39m\u001B[38;5;124mtest_scores\u001B[39m\u001B[38;5;124m\"\u001B[39m]\n",
      "File \u001B[1;32m~\\.conda\\envs\\newConda\\lib\\site-packages\\sklearn\\model_selection\\_search.py:1388\u001B[0m, in \u001B[0;36mGridSearchCV._run_search\u001B[1;34m(self, evaluate_candidates)\u001B[0m\n\u001B[0;32m   1386\u001B[0m \u001B[38;5;28;01mdef\u001B[39;00m \u001B[38;5;21m_run_search\u001B[39m(\u001B[38;5;28mself\u001B[39m, evaluate_candidates):\n\u001B[0;32m   1387\u001B[0m \u001B[38;5;250m    \u001B[39m\u001B[38;5;124;03m\"\"\"Search all candidates in param_grid\"\"\"\u001B[39;00m\n\u001B[1;32m-> 1388\u001B[0m     \u001B[43mevaluate_candidates\u001B[49m\u001B[43m(\u001B[49m\u001B[43mParameterGrid\u001B[49m\u001B[43m(\u001B[49m\u001B[38;5;28;43mself\u001B[39;49m\u001B[38;5;241;43m.\u001B[39;49m\u001B[43mparam_grid\u001B[49m\u001B[43m)\u001B[49m\u001B[43m)\u001B[49m\n",
      "File \u001B[1;32m~\\.conda\\envs\\newConda\\lib\\site-packages\\sklearn\\model_selection\\_search.py:851\u001B[0m, in \u001B[0;36mBaseSearchCV.fit.<locals>.evaluate_candidates\u001B[1;34m(candidate_params, cv, more_results)\u001B[0m\n\u001B[0;32m    844\u001B[0m \u001B[38;5;28;01melif\u001B[39;00m \u001B[38;5;28mlen\u001B[39m(out) \u001B[38;5;241m!=\u001B[39m n_candidates \u001B[38;5;241m*\u001B[39m n_splits:\n\u001B[0;32m    845\u001B[0m     \u001B[38;5;28;01mraise\u001B[39;00m \u001B[38;5;167;01mValueError\u001B[39;00m(\n\u001B[0;32m    846\u001B[0m         \u001B[38;5;124m\"\u001B[39m\u001B[38;5;124mcv.split and cv.get_n_splits returned \u001B[39m\u001B[38;5;124m\"\u001B[39m\n\u001B[0;32m    847\u001B[0m         \u001B[38;5;124m\"\u001B[39m\u001B[38;5;124minconsistent results. Expected \u001B[39m\u001B[38;5;132;01m{}\u001B[39;00m\u001B[38;5;124m \u001B[39m\u001B[38;5;124m\"\u001B[39m\n\u001B[0;32m    848\u001B[0m         \u001B[38;5;124m\"\u001B[39m\u001B[38;5;124msplits, got \u001B[39m\u001B[38;5;132;01m{}\u001B[39;00m\u001B[38;5;124m\"\u001B[39m\u001B[38;5;241m.\u001B[39mformat(n_splits, \u001B[38;5;28mlen\u001B[39m(out) \u001B[38;5;241m/\u001B[39m\u001B[38;5;241m/\u001B[39m n_candidates)\n\u001B[0;32m    849\u001B[0m     )\n\u001B[1;32m--> 851\u001B[0m \u001B[43m_warn_or_raise_about_fit_failures\u001B[49m\u001B[43m(\u001B[49m\u001B[43mout\u001B[49m\u001B[43m,\u001B[49m\u001B[43m \u001B[49m\u001B[38;5;28;43mself\u001B[39;49m\u001B[38;5;241;43m.\u001B[39;49m\u001B[43merror_score\u001B[49m\u001B[43m)\u001B[49m\n\u001B[0;32m    853\u001B[0m \u001B[38;5;66;03m# For callable self.scoring, the return type is only know after\u001B[39;00m\n\u001B[0;32m    854\u001B[0m \u001B[38;5;66;03m# calling. If the return type is a dictionary, the error scores\u001B[39;00m\n\u001B[0;32m    855\u001B[0m \u001B[38;5;66;03m# can now be inserted with the correct key. The type checking\u001B[39;00m\n\u001B[0;32m    856\u001B[0m \u001B[38;5;66;03m# of out will be done in `_insert_error_scores`.\u001B[39;00m\n\u001B[0;32m    857\u001B[0m \u001B[38;5;28;01mif\u001B[39;00m \u001B[38;5;28mcallable\u001B[39m(\u001B[38;5;28mself\u001B[39m\u001B[38;5;241m.\u001B[39mscoring):\n",
      "File \u001B[1;32m~\\.conda\\envs\\newConda\\lib\\site-packages\\sklearn\\model_selection\\_validation.py:367\u001B[0m, in \u001B[0;36m_warn_or_raise_about_fit_failures\u001B[1;34m(results, error_score)\u001B[0m\n\u001B[0;32m    360\u001B[0m \u001B[38;5;28;01mif\u001B[39;00m num_failed_fits \u001B[38;5;241m==\u001B[39m num_fits:\n\u001B[0;32m    361\u001B[0m     all_fits_failed_message \u001B[38;5;241m=\u001B[39m (\n\u001B[0;32m    362\u001B[0m         \u001B[38;5;124mf\u001B[39m\u001B[38;5;124m\"\u001B[39m\u001B[38;5;130;01m\\n\u001B[39;00m\u001B[38;5;124mAll the \u001B[39m\u001B[38;5;132;01m{\u001B[39;00mnum_fits\u001B[38;5;132;01m}\u001B[39;00m\u001B[38;5;124m fits failed.\u001B[39m\u001B[38;5;130;01m\\n\u001B[39;00m\u001B[38;5;124m\"\u001B[39m\n\u001B[0;32m    363\u001B[0m         \u001B[38;5;124m\"\u001B[39m\u001B[38;5;124mIt is very likely that your model is misconfigured.\u001B[39m\u001B[38;5;130;01m\\n\u001B[39;00m\u001B[38;5;124m\"\u001B[39m\n\u001B[0;32m    364\u001B[0m         \u001B[38;5;124m\"\u001B[39m\u001B[38;5;124mYou can try to debug the error by setting error_score=\u001B[39m\u001B[38;5;124m'\u001B[39m\u001B[38;5;124mraise\u001B[39m\u001B[38;5;124m'\u001B[39m\u001B[38;5;124m.\u001B[39m\u001B[38;5;130;01m\\n\u001B[39;00m\u001B[38;5;130;01m\\n\u001B[39;00m\u001B[38;5;124m\"\u001B[39m\n\u001B[0;32m    365\u001B[0m         \u001B[38;5;124mf\u001B[39m\u001B[38;5;124m\"\u001B[39m\u001B[38;5;124mBelow are more details about the failures:\u001B[39m\u001B[38;5;130;01m\\n\u001B[39;00m\u001B[38;5;132;01m{\u001B[39;00mfit_errors_summary\u001B[38;5;132;01m}\u001B[39;00m\u001B[38;5;124m\"\u001B[39m\n\u001B[0;32m    366\u001B[0m     )\n\u001B[1;32m--> 367\u001B[0m     \u001B[38;5;28;01mraise\u001B[39;00m \u001B[38;5;167;01mValueError\u001B[39;00m(all_fits_failed_message)\n\u001B[0;32m    369\u001B[0m \u001B[38;5;28;01melse\u001B[39;00m:\n\u001B[0;32m    370\u001B[0m     some_fits_failed_message \u001B[38;5;241m=\u001B[39m (\n\u001B[0;32m    371\u001B[0m         \u001B[38;5;124mf\u001B[39m\u001B[38;5;124m\"\u001B[39m\u001B[38;5;130;01m\\n\u001B[39;00m\u001B[38;5;132;01m{\u001B[39;00mnum_failed_fits\u001B[38;5;132;01m}\u001B[39;00m\u001B[38;5;124m fits failed out of a total of \u001B[39m\u001B[38;5;132;01m{\u001B[39;00mnum_fits\u001B[38;5;132;01m}\u001B[39;00m\u001B[38;5;124m.\u001B[39m\u001B[38;5;130;01m\\n\u001B[39;00m\u001B[38;5;124m\"\u001B[39m\n\u001B[0;32m    372\u001B[0m         \u001B[38;5;124m\"\u001B[39m\u001B[38;5;124mThe score on these train-test partitions for these parameters\u001B[39m\u001B[38;5;124m\"\u001B[39m\n\u001B[1;32m   (...)\u001B[0m\n\u001B[0;32m    376\u001B[0m         \u001B[38;5;124mf\u001B[39m\u001B[38;5;124m\"\u001B[39m\u001B[38;5;124mBelow are more details about the failures:\u001B[39m\u001B[38;5;130;01m\\n\u001B[39;00m\u001B[38;5;132;01m{\u001B[39;00mfit_errors_summary\u001B[38;5;132;01m}\u001B[39;00m\u001B[38;5;124m\"\u001B[39m\n\u001B[0;32m    377\u001B[0m     )\n",
      "\u001B[1;31mValueError\u001B[0m: \nAll the 30 fits failed.\nIt is very likely that your model is misconfigured.\nYou can try to debug the error by setting error_score='raise'.\n\nBelow are more details about the failures:\n--------------------------------------------------------------------------------\n6 fits failed with the following error:\nTraceback (most recent call last):\n  File \"C:\\Users\\atago\\.conda\\envs\\newConda\\lib\\site-packages\\sklearn\\model_selection\\_validation.py\", line 686, in _fit_and_score\n    estimator.fit(X_train, y_train, **fit_params)\n  File \"C:\\Users\\atago\\.conda\\envs\\newConda\\lib\\site-packages\\sklearn\\pipeline.py\", line 405, in fit\n    self._final_estimator.fit(Xt, y, **fit_params_last_step)\n  File \"C:\\Users\\atago\\.conda\\envs\\newConda\\lib\\site-packages\\sklearn\\linear_model\\_logistic.py\", line 1196, in fit\n    X, y = self._validate_data(\n  File \"C:\\Users\\atago\\.conda\\envs\\newConda\\lib\\site-packages\\sklearn\\base.py\", line 584, in _validate_data\n    X, y = check_X_y(X, y, **check_params)\n  File \"C:\\Users\\atago\\.conda\\envs\\newConda\\lib\\site-packages\\sklearn\\utils\\validation.py\", line 1124, in check_X_y\n    check_consistent_length(X, y)\n  File \"C:\\Users\\atago\\.conda\\envs\\newConda\\lib\\site-packages\\sklearn\\utils\\validation.py\", line 397, in check_consistent_length\n    raise ValueError(\nValueError: Found input variables with inconsistent numbers of samples: [1, 519440]\n\n--------------------------------------------------------------------------------\n6 fits failed with the following error:\nTraceback (most recent call last):\n  File \"C:\\Users\\atago\\.conda\\envs\\newConda\\lib\\site-packages\\sklearn\\model_selection\\_validation.py\", line 686, in _fit_and_score\n    estimator.fit(X_train, y_train, **fit_params)\n  File \"C:\\Users\\atago\\.conda\\envs\\newConda\\lib\\site-packages\\sklearn\\pipeline.py\", line 405, in fit\n    self._final_estimator.fit(Xt, y, **fit_params_last_step)\n  File \"C:\\Users\\atago\\.conda\\envs\\newConda\\lib\\site-packages\\sklearn\\linear_model\\_logistic.py\", line 1196, in fit\n    X, y = self._validate_data(\n  File \"C:\\Users\\atago\\.conda\\envs\\newConda\\lib\\site-packages\\sklearn\\base.py\", line 584, in _validate_data\n    X, y = check_X_y(X, y, **check_params)\n  File \"C:\\Users\\atago\\.conda\\envs\\newConda\\lib\\site-packages\\sklearn\\utils\\validation.py\", line 1124, in check_X_y\n    check_consistent_length(X, y)\n  File \"C:\\Users\\atago\\.conda\\envs\\newConda\\lib\\site-packages\\sklearn\\utils\\validation.py\", line 397, in check_consistent_length\n    raise ValueError(\nValueError: Found input variables with inconsistent numbers of samples: [1, 1038878]\n\n--------------------------------------------------------------------------------\n6 fits failed with the following error:\nTraceback (most recent call last):\n  File \"C:\\Users\\atago\\.conda\\envs\\newConda\\lib\\site-packages\\sklearn\\model_selection\\_validation.py\", line 686, in _fit_and_score\n    estimator.fit(X_train, y_train, **fit_params)\n  File \"C:\\Users\\atago\\.conda\\envs\\newConda\\lib\\site-packages\\sklearn\\pipeline.py\", line 405, in fit\n    self._final_estimator.fit(Xt, y, **fit_params_last_step)\n  File \"C:\\Users\\atago\\.conda\\envs\\newConda\\lib\\site-packages\\sklearn\\linear_model\\_logistic.py\", line 1196, in fit\n    X, y = self._validate_data(\n  File \"C:\\Users\\atago\\.conda\\envs\\newConda\\lib\\site-packages\\sklearn\\base.py\", line 584, in _validate_data\n    X, y = check_X_y(X, y, **check_params)\n  File \"C:\\Users\\atago\\.conda\\envs\\newConda\\lib\\site-packages\\sklearn\\utils\\validation.py\", line 1124, in check_X_y\n    check_consistent_length(X, y)\n  File \"C:\\Users\\atago\\.conda\\envs\\newConda\\lib\\site-packages\\sklearn\\utils\\validation.py\", line 397, in check_consistent_length\n    raise ValueError(\nValueError: Found input variables with inconsistent numbers of samples: [1, 1558316]\n\n--------------------------------------------------------------------------------\n6 fits failed with the following error:\nTraceback (most recent call last):\n  File \"C:\\Users\\atago\\.conda\\envs\\newConda\\lib\\site-packages\\sklearn\\model_selection\\_validation.py\", line 686, in _fit_and_score\n    estimator.fit(X_train, y_train, **fit_params)\n  File \"C:\\Users\\atago\\.conda\\envs\\newConda\\lib\\site-packages\\sklearn\\pipeline.py\", line 405, in fit\n    self._final_estimator.fit(Xt, y, **fit_params_last_step)\n  File \"C:\\Users\\atago\\.conda\\envs\\newConda\\lib\\site-packages\\sklearn\\linear_model\\_logistic.py\", line 1196, in fit\n    X, y = self._validate_data(\n  File \"C:\\Users\\atago\\.conda\\envs\\newConda\\lib\\site-packages\\sklearn\\base.py\", line 584, in _validate_data\n    X, y = check_X_y(X, y, **check_params)\n  File \"C:\\Users\\atago\\.conda\\envs\\newConda\\lib\\site-packages\\sklearn\\utils\\validation.py\", line 1124, in check_X_y\n    check_consistent_length(X, y)\n  File \"C:\\Users\\atago\\.conda\\envs\\newConda\\lib\\site-packages\\sklearn\\utils\\validation.py\", line 397, in check_consistent_length\n    raise ValueError(\nValueError: Found input variables with inconsistent numbers of samples: [1, 2077754]\n\n--------------------------------------------------------------------------------\n6 fits failed with the following error:\nTraceback (most recent call last):\n  File \"C:\\Users\\atago\\.conda\\envs\\newConda\\lib\\site-packages\\sklearn\\model_selection\\_validation.py\", line 686, in _fit_and_score\n    estimator.fit(X_train, y_train, **fit_params)\n  File \"C:\\Users\\atago\\.conda\\envs\\newConda\\lib\\site-packages\\sklearn\\pipeline.py\", line 405, in fit\n    self._final_estimator.fit(Xt, y, **fit_params_last_step)\n  File \"C:\\Users\\atago\\.conda\\envs\\newConda\\lib\\site-packages\\sklearn\\linear_model\\_logistic.py\", line 1196, in fit\n    X, y = self._validate_data(\n  File \"C:\\Users\\atago\\.conda\\envs\\newConda\\lib\\site-packages\\sklearn\\base.py\", line 584, in _validate_data\n    X, y = check_X_y(X, y, **check_params)\n  File \"C:\\Users\\atago\\.conda\\envs\\newConda\\lib\\site-packages\\sklearn\\utils\\validation.py\", line 1124, in check_X_y\n    check_consistent_length(X, y)\n  File \"C:\\Users\\atago\\.conda\\envs\\newConda\\lib\\site-packages\\sklearn\\utils\\validation.py\", line 397, in check_consistent_length\n    raise ValueError(\nValueError: Found input variables with inconsistent numbers of samples: [1, 2597192]\n"
     ]
    }
   ],
   "source": [
    "# Definicja parametrów do sprawdzenia\n",
    "parameters = {\n",
    "    'tfidf__max_features': [1000, 5000],  # Liczba najważniejszych cech\n",
    "    'model__C': [0.1, 1, 10],  # Parametr regularyzacji\n",
    "}\n",
    "\n",
    "# Tworzenie pipeline'u z TfidfVectorizer i LogisticRegression\n",
    "gridsearch_pipeline = Pipeline([\n",
    "    ('tfidf', TfidfVectorizer()),\n",
    "    ('model', LogisticRegression())\n",
    "])\n",
    "\n",
    "# Utworzenie obiektu GridSearchCV z kroswalidacją uwzględniającą chronologię\n",
    "grid_search = GridSearchCV(\n",
    "    gridsearch_pipeline,\n",
    "    parameters,\n",
    "    cv=TimeSeriesSplit(n_splits=5)\n",
    ")\n",
    "\n",
    "# Dopasowanie modelu GridSearchCV do danych treningowych\n",
    "grid_search.fit(X_train, y_train)\n",
    "\n",
    "# Najlepsze znalezione parametry\n",
    "best_params = grid_search.best_params_\n",
    "print(\"Najlepsze parametry:\", best_params)\n",
    "\n",
    "# Ocena najlepszego modelu na danych testowych\n",
    "accuracy = grid_search.score(X_test, y_test)\n",
    "print(\"Dokładność na danych testowych:\", accuracy)\n",
    "\n",
    "# Utworzenie obiektu GridSearchCV\n",
    "grid_search = GridSearchCV(estimator=test_pipe, param_grid=parameters, cv=5)\n",
    "\n",
    "# Dopasowanie modelu grid search do danych\n",
    "grid_search.fit(X_train['text'], y_train['bitcoin_trend'])\n",
    "\n",
    "# Najlepsze parametry i wynik\n",
    "print(\"Najlepsze parametry: \", grid_search.best_params_)\n",
    "print(\"Najlepszy wynik: \", grid_search.best_score_)"
   ],
   "metadata": {
    "collapsed": false,
    "ExecuteTime": {
     "end_time": "2023-05-25T10:35:29.552368900Z",
     "start_time": "2023-05-25T10:35:14.111052Z"
    }
   }
  },
  {
   "cell_type": "code",
   "execution_count": null,
   "outputs": [],
   "source": [
    "# Parametry do przetestowania w grid search\n",
    "parameters = {\n",
    "    'tfidf_vectorizer__ngram_range': [(1, 1), (1, 2), (2, 2)],\n",
    "    'tfidf_vectorizer__min_df': [0.1, 0.2, 0.3],\n",
    "    'tfidf_vectorizer__max_df': [0.5, 0.75, 1.0],\n",
    "    'model__C': [0.1, 1, 10]\n",
    "}"
   ],
   "metadata": {
    "collapsed": false
   }
  },
  {
   "cell_type": "markdown",
   "source": [
    "Klasyfikator 3: LSTM"
   ],
   "metadata": {
    "collapsed": false
   }
  },
  {
   "cell_type": "code",
   "execution_count": null,
   "outputs": [],
   "source": [],
   "metadata": {
    "collapsed": false
   }
  }
 ],
 "metadata": {
  "kernelspec": {
   "display_name": "Python 3",
   "language": "python",
   "name": "python3"
  },
  "language_info": {
   "codemirror_mode": {
    "name": "ipython",
    "version": 2
   },
   "file_extension": ".py",
   "mimetype": "text/x-python",
   "name": "python",
   "nbconvert_exporter": "python",
   "pygments_lexer": "ipython2",
   "version": "2.7.6"
  }
 },
 "nbformat": 4,
 "nbformat_minor": 0
}
