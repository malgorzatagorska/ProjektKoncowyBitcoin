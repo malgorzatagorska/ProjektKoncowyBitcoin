{
 "cells": [
  {
   "cell_type": "code",
   "execution_count": 17,
   "metadata": {
    "collapsed": true,
    "ExecuteTime": {
     "end_time": "2023-05-20T19:36:54.208059200Z",
     "start_time": "2023-05-20T19:36:54.153329100Z"
    }
   },
   "outputs": [],
   "source": [
    "import pandas as pd"
   ]
  },
  {
   "cell_type": "code",
   "execution_count": 18,
   "outputs": [],
   "source": [
    "twitter_path = 'C:\\\\Users\\\\wcwik02\\\\Desktop\\\\SDA\\\\PROJEKT_KOŃCOWY\\\\datasets\\\\tweets.csv'\n",
    "twitter_columns = ['retweets', 'likes', 'replies', 'fullname', 'timestamp', 'user', 'text']\n",
    "data = pd.read_csv('C:\\\\Users\\\\wcwik02\\\\Desktop\\\\SDA\\\\PROJEKT_KOŃCOWY\\\\datasets\\\\tweets.csv', chunksize=100000)"
   ],
   "metadata": {
    "collapsed": false,
    "ExecuteTime": {
     "end_time": "2023-05-20T19:36:54.277674100Z",
     "start_time": "2023-05-20T19:36:54.163755300Z"
    }
   }
  },
  {
   "cell_type": "code",
   "execution_count": 19,
   "outputs": [
    {
     "data": {
      "text/plain": "<pandas.io.parsers.readers.TextFileReader at 0x242c9fc3dc0>"
     },
     "execution_count": 19,
     "metadata": {},
     "output_type": "execute_result"
    }
   ],
   "source": [
    "data"
   ],
   "metadata": {
    "collapsed": false,
    "ExecuteTime": {
     "end_time": "2023-05-20T19:36:54.297335400Z",
     "start_time": "2023-05-20T19:36:54.176735700Z"
    }
   }
  },
  {
   "cell_type": "markdown",
   "source": [],
   "metadata": {
    "collapsed": false
   }
  },
  {
   "cell_type": "code",
   "execution_count": 22,
   "outputs": [
    {
     "name": "stdout",
     "output_type": "stream",
     "text": [
      "16890422\n"
     ]
    }
   ],
   "source": [
    "usecols = ['timestamp','replies','likes', 'retweets', 'text']\n",
    "dtype_mapping = {\n",
    "    'timestamp': str,\n",
    "    'replies': 'float32',\n",
    "    'likes': 'float32',\n",
    "    'retweets': 'float32',\n",
    "    'text': str\n",
    "}\n",
    "data = pd.read_csv('C:\\\\Users\\\\wcwik02\\\\Desktop\\\\SDA\\\\PROJEKT_KOŃCOWY\\\\datasets\\\\tweets.csv', sep=';',usecols=usecols, dtype=dtype_mapping,chunksize=100000,engine='python')\n",
    "\n",
    "t_len = 0\n",
    "for chunk in data:\n",
    "    t_len += len(chunk)\n",
    "print(t_len)"
   ],
   "metadata": {
    "collapsed": false,
    "ExecuteTime": {
     "end_time": "2023-05-20T19:43:57.376289900Z",
     "start_time": "2023-05-20T19:40:17.470936900Z"
    }
   }
  },
  {
   "cell_type": "code",
   "execution_count": 23,
   "outputs": [],
   "source": [
    "data = pd.read_csv('C:\\\\Users\\\\wcwik02\\\\Desktop\\\\SDA\\\\PROJEKT_KOŃCOWY\\\\datasets\\\\tweets.csv', sep=';',usecols=usecols, dtype=dtype_mapping,chunksize=100000,engine='python')\n",
    "df = pd.concat(data)"
   ],
   "metadata": {
    "collapsed": false,
    "ExecuteTime": {
     "end_time": "2023-05-20T19:56:27.399051400Z",
     "start_time": "2023-05-20T19:48:04.334727300Z"
    }
   }
  },
  {
   "cell_type": "code",
   "execution_count": null,
   "outputs": [],
   "source": [
    "#data = pd.read_csv('C:\\\\Users\\\\Agata Gera\\\\Desktop\\\\projekt\\\\tweets.csv', sep=';',usecols=usecols, dtype=dtype_mapping,chunksize=100000,engine='python')"
   ],
   "metadata": {
    "collapsed": false,
    "ExecuteTime": {
     "start_time": "2023-05-20T19:36:54.353276600Z"
    }
   }
  },
  {
   "cell_type": "code",
   "execution_count": 24,
   "outputs": [
    {
     "name": "stdout",
     "output_type": "stream",
     "text": [
      "                  timestamp  replies  likes  retweets  \\\n",
      "0 2019-05-27 11:49:14+00:00      0.0    0.0       0.0   \n",
      "1 2019-05-27 11:49:18+00:00      0.0    0.0       0.0   \n",
      "2 2019-05-27 11:49:06+00:00      0.0    2.0       1.0   \n",
      "3 2019-05-27 11:49:22+00:00      0.0    0.0       0.0   \n",
      "4 2019-05-27 11:49:23+00:00      0.0    0.0       0.0   \n",
      "\n",
      "                                                text        Date  \n",
      "0  È appena uscito un nuovo video! LES CRYPTOMONN...  2019-05-27  \n",
      "1  Cardano: Digitize Currencies; EOS https://t.co...  2019-05-27  \n",
      "2  Another Test tweet that wasn't caught in the s...  2019-05-27  \n",
      "3  Current Crypto Prices! \\n\\nBTC: $8721.99 USD\\n...  2019-05-27  \n",
      "4  Spiv (Nosar Baz): BITCOIN Is An Asset &amp; NO...  2019-05-27  \n"
     ]
    }
   ],
   "source": [
    "df['timestamp'] = pd.to_datetime(df['timestamp'])\n",
    "df['Date'] = df['timestamp'].dt.strftime('%Y-%m-%d')\n",
    "print(df.head())"
   ],
   "metadata": {
    "collapsed": false,
    "ExecuteTime": {
     "end_time": "2023-05-20T20:02:19.421282800Z",
     "start_time": "2023-05-20T19:59:49.531883Z"
    }
   }
  },
  {
   "cell_type": "code",
   "execution_count": 25,
   "outputs": [],
   "source": [
    "df.drop(['timestamp'], axis=1, inplace=True)"
   ],
   "metadata": {
    "collapsed": false,
    "ExecuteTime": {
     "end_time": "2023-05-20T20:08:16.360109100Z",
     "start_time": "2023-05-20T20:05:26.045734400Z"
    }
   }
  },
  {
   "cell_type": "code",
   "execution_count": 26,
   "outputs": [
    {
     "name": "stdout",
     "output_type": "stream",
     "text": [
      "   replies  likes  retweets  \\\n",
      "0      0.0    0.0       0.0   \n",
      "1      0.0    0.0       0.0   \n",
      "2      0.0    2.0       1.0   \n",
      "3      0.0    0.0       0.0   \n",
      "4      0.0    0.0       0.0   \n",
      "\n",
      "                                                text        Date  \n",
      "0  È appena uscito un nuovo video! LES CRYPTOMONN...  2019-05-27  \n",
      "1  Cardano: Digitize Currencies; EOS https://t.co...  2019-05-27  \n",
      "2  Another Test tweet that wasn't caught in the s...  2019-05-27  \n",
      "3  Current Crypto Prices! \\n\\nBTC: $8721.99 USD\\n...  2019-05-27  \n",
      "4  Spiv (Nosar Baz): BITCOIN Is An Asset &amp; NO...  2019-05-27  \n"
     ]
    }
   ],
   "source": [
    "print(df.head())"
   ],
   "metadata": {
    "collapsed": false,
    "ExecuteTime": {
     "end_time": "2023-05-20T20:09:22.042516100Z",
     "start_time": "2023-05-20T20:09:21.675214300Z"
    }
   }
  },
  {
   "cell_type": "code",
   "execution_count": 27,
   "outputs": [],
   "source": [
    "df_2 = pd.read_csv('C:\\\\Users\\\\wcwik02\\\\Desktop\\\\SDA\\\\PROJEKT_KOŃCOWY\\\\datasets\\\\BTC-USD.csv', sep =',', encoding='utf-8')"
   ],
   "metadata": {
    "collapsed": false,
    "ExecuteTime": {
     "end_time": "2023-05-20T20:10:00.058038Z",
     "start_time": "2023-05-20T20:09:59.822636200Z"
    }
   }
  },
  {
   "cell_type": "code",
   "execution_count": 28,
   "outputs": [
    {
     "name": "stdout",
     "output_type": "stream",
     "text": [
      "         Date        Open        High         Low       Close   Adj Close  \\\n",
      "0  2014-09-17  465.864014  468.174011  452.421997  457.334015  457.334015   \n",
      "1  2014-09-18  456.859985  456.859985  413.104004  424.440002  424.440002   \n",
      "2  2014-09-19  424.102997  427.834991  384.532013  394.795990  394.795990   \n",
      "3  2014-09-20  394.673004  423.295990  389.882996  408.903992  408.903992   \n",
      "4  2014-09-21  408.084991  412.425995  393.181000  398.821014  398.821014   \n",
      "\n",
      "     Volume  \n",
      "0  21056800  \n",
      "1  34483200  \n",
      "2  37919700  \n",
      "3  36863600  \n",
      "4  26580100  \n"
     ]
    }
   ],
   "source": [
    "print(df_2.head())"
   ],
   "metadata": {
    "collapsed": false,
    "ExecuteTime": {
     "end_time": "2023-05-20T20:10:02.993431800Z",
     "start_time": "2023-05-20T20:10:02.971410700Z"
    }
   }
  },
  {
   "cell_type": "code",
   "execution_count": 69,
   "outputs": [
    {
     "name": "stdout",
     "output_type": "stream",
     "text": [
      "Index(['replies', 'likes', 'retweets', 'text', 'Date'], dtype='object')\n",
      "Index(['Date', 'Open', 'High', 'Low', 'Close', 'bitcoin_price',\n",
      "       'bitcoin_volume', 'bitcoin_trend'],\n",
      "      dtype='object')\n"
     ]
    }
   ],
   "source": [
    "print(df.columns)\n",
    "print(df_2.columns)"
   ],
   "metadata": {
    "collapsed": false,
    "ExecuteTime": {
     "end_time": "2023-05-20T21:06:52.295825200Z",
     "start_time": "2023-05-20T21:06:52.136112600Z"
    }
   }
  },
  {
   "cell_type": "markdown",
   "source": [],
   "metadata": {
    "collapsed": false
   }
  },
  {
   "cell_type": "code",
   "execution_count": 30,
   "outputs": [],
   "source": [
    "df_2.rename(columns={'Adj Close': 'bitcoin_price'}, inplace=True)\n",
    "df_2.rename(columns={'Volume': 'bitcoin_volume'}, inplace=True)"
   ],
   "metadata": {
    "collapsed": false,
    "ExecuteTime": {
     "end_time": "2023-05-20T20:10:22.978589100Z",
     "start_time": "2023-05-20T20:10:22.949039600Z"
    }
   }
  },
  {
   "cell_type": "code",
   "execution_count": 70,
   "outputs": [
    {
     "name": "stdout",
     "output_type": "stream",
     "text": [
      "Index(['Date', 'bitcoin_price', 'bitcoin_volume', 'bitcoin_trend'], dtype='object')\n"
     ]
    }
   ],
   "source": [
    "df_2 = df_2.drop(['Open', 'High', 'Low', 'Close'], axis=1)\n",
    "print(df_2.columns)"
   ],
   "metadata": {
    "collapsed": false,
    "ExecuteTime": {
     "end_time": "2023-05-20T21:08:23.740274700Z",
     "start_time": "2023-05-20T21:08:23.692673900Z"
    }
   }
  },
  {
   "cell_type": "code",
   "execution_count": 31,
   "outputs": [],
   "source": [
    "def get_trend(df):\n",
    "    df['bitcoin_trend'] = df['bitcoin_price'].shift(-1) - df['bitcoin_price']\n",
    "    df['bitcoin_trend'] = df['bitcoin_trend'].apply(lambda x: 1 if x > 0 else (-1 if x < 0 else 0))\n",
    "    return df"
   ],
   "metadata": {
    "collapsed": false,
    "ExecuteTime": {
     "end_time": "2023-05-20T20:10:26.716287400Z",
     "start_time": "2023-05-20T20:10:26.655791500Z"
    }
   }
  },
  {
   "cell_type": "code",
   "execution_count": 32,
   "outputs": [
    {
     "data": {
      "text/plain": "            Date         Open         High          Low        Close  \\\n0     2014-09-17   465.864014   468.174011   452.421997   457.334015   \n1     2014-09-18   456.859985   456.859985   413.104004   424.440002   \n2     2014-09-19   424.102997   427.834991   384.532013   394.795990   \n3     2014-09-20   394.673004   423.295990   389.882996   408.903992   \n4     2014-09-21   408.084991   412.425995   393.181000   398.821014   \n...          ...          ...          ...          ...          ...   \n1709  2019-05-23  7677.269043  7943.791504  7533.196777  7881.846680   \n1710  2019-05-24  7881.695313  8140.719727  7824.448730  7987.371582   \n1711  2019-05-25  7991.885254  8117.925781  7965.976074  8052.543945   \n1712  2019-05-26  8055.206055  8687.520508  7924.670410  8673.215820   \n1713  2019-05-27  8674.072266  8907.174805  8668.705078  8805.778320   \n\n      bitcoin_price  bitcoin_volume  bitcoin_trend  \n0        457.334015        21056800             -1  \n1        424.440002        34483200             -1  \n2        394.795990        37919700              1  \n3        408.903992        36863600             -1  \n4        398.821014        26580100              1  \n...             ...             ...            ...  \n1709    7881.846680     24457107820              1  \n1710    7987.371582     25919126991              1  \n1711    8052.543945     22256813107              1  \n1712    8673.215820     26677970091              1  \n1713    8805.778320     27949839564              0  \n\n[1714 rows x 8 columns]",
      "text/html": "<div>\n<style scoped>\n    .dataframe tbody tr th:only-of-type {\n        vertical-align: middle;\n    }\n\n    .dataframe tbody tr th {\n        vertical-align: top;\n    }\n\n    .dataframe thead th {\n        text-align: right;\n    }\n</style>\n<table border=\"1\" class=\"dataframe\">\n  <thead>\n    <tr style=\"text-align: right;\">\n      <th></th>\n      <th>Date</th>\n      <th>Open</th>\n      <th>High</th>\n      <th>Low</th>\n      <th>Close</th>\n      <th>bitcoin_price</th>\n      <th>bitcoin_volume</th>\n      <th>bitcoin_trend</th>\n    </tr>\n  </thead>\n  <tbody>\n    <tr>\n      <th>0</th>\n      <td>2014-09-17</td>\n      <td>465.864014</td>\n      <td>468.174011</td>\n      <td>452.421997</td>\n      <td>457.334015</td>\n      <td>457.334015</td>\n      <td>21056800</td>\n      <td>-1</td>\n    </tr>\n    <tr>\n      <th>1</th>\n      <td>2014-09-18</td>\n      <td>456.859985</td>\n      <td>456.859985</td>\n      <td>413.104004</td>\n      <td>424.440002</td>\n      <td>424.440002</td>\n      <td>34483200</td>\n      <td>-1</td>\n    </tr>\n    <tr>\n      <th>2</th>\n      <td>2014-09-19</td>\n      <td>424.102997</td>\n      <td>427.834991</td>\n      <td>384.532013</td>\n      <td>394.795990</td>\n      <td>394.795990</td>\n      <td>37919700</td>\n      <td>1</td>\n    </tr>\n    <tr>\n      <th>3</th>\n      <td>2014-09-20</td>\n      <td>394.673004</td>\n      <td>423.295990</td>\n      <td>389.882996</td>\n      <td>408.903992</td>\n      <td>408.903992</td>\n      <td>36863600</td>\n      <td>-1</td>\n    </tr>\n    <tr>\n      <th>4</th>\n      <td>2014-09-21</td>\n      <td>408.084991</td>\n      <td>412.425995</td>\n      <td>393.181000</td>\n      <td>398.821014</td>\n      <td>398.821014</td>\n      <td>26580100</td>\n      <td>1</td>\n    </tr>\n    <tr>\n      <th>...</th>\n      <td>...</td>\n      <td>...</td>\n      <td>...</td>\n      <td>...</td>\n      <td>...</td>\n      <td>...</td>\n      <td>...</td>\n      <td>...</td>\n    </tr>\n    <tr>\n      <th>1709</th>\n      <td>2019-05-23</td>\n      <td>7677.269043</td>\n      <td>7943.791504</td>\n      <td>7533.196777</td>\n      <td>7881.846680</td>\n      <td>7881.846680</td>\n      <td>24457107820</td>\n      <td>1</td>\n    </tr>\n    <tr>\n      <th>1710</th>\n      <td>2019-05-24</td>\n      <td>7881.695313</td>\n      <td>8140.719727</td>\n      <td>7824.448730</td>\n      <td>7987.371582</td>\n      <td>7987.371582</td>\n      <td>25919126991</td>\n      <td>1</td>\n    </tr>\n    <tr>\n      <th>1711</th>\n      <td>2019-05-25</td>\n      <td>7991.885254</td>\n      <td>8117.925781</td>\n      <td>7965.976074</td>\n      <td>8052.543945</td>\n      <td>8052.543945</td>\n      <td>22256813107</td>\n      <td>1</td>\n    </tr>\n    <tr>\n      <th>1712</th>\n      <td>2019-05-26</td>\n      <td>8055.206055</td>\n      <td>8687.520508</td>\n      <td>7924.670410</td>\n      <td>8673.215820</td>\n      <td>8673.215820</td>\n      <td>26677970091</td>\n      <td>1</td>\n    </tr>\n    <tr>\n      <th>1713</th>\n      <td>2019-05-27</td>\n      <td>8674.072266</td>\n      <td>8907.174805</td>\n      <td>8668.705078</td>\n      <td>8805.778320</td>\n      <td>8805.778320</td>\n      <td>27949839564</td>\n      <td>0</td>\n    </tr>\n  </tbody>\n</table>\n<p>1714 rows × 8 columns</p>\n</div>"
     },
     "execution_count": 32,
     "metadata": {},
     "output_type": "execute_result"
    }
   ],
   "source": [
    "get_trend(df_2)"
   ],
   "metadata": {
    "collapsed": false,
    "ExecuteTime": {
     "end_time": "2023-05-20T20:10:31.799523400Z",
     "start_time": "2023-05-20T20:10:31.608763200Z"
    }
   }
  },
  {
   "cell_type": "code",
   "execution_count": 33,
   "outputs": [
    {
     "name": "stdout",
     "output_type": "stream",
     "text": [
      "[-1  1  0]\n"
     ]
    }
   ],
   "source": [
    "print(df_2['bitcoin_trend'].unique())"
   ],
   "metadata": {
    "collapsed": false,
    "ExecuteTime": {
     "end_time": "2023-05-20T20:10:40.455815100Z",
     "start_time": "2023-05-20T20:10:40.389282800Z"
    }
   }
  },
  {
   "cell_type": "code",
   "execution_count": 71,
   "outputs": [],
   "source": [
    "data = df.merge(df_2, on = 'Date', how = 'inner')"
   ],
   "metadata": {
    "collapsed": false,
    "ExecuteTime": {
     "end_time": "2023-05-20T21:11:46.169044100Z",
     "start_time": "2023-05-20T21:10:40.674893800Z"
    }
   }
  },
  {
   "cell_type": "code",
   "execution_count": 72,
   "outputs": [
    {
     "name": "stdout",
     "output_type": "stream",
     "text": [
      "   replies  likes  retweets  \\\n",
      "0      0.0    0.0       0.0   \n",
      "1      0.0    0.0       0.0   \n",
      "2      0.0    2.0       1.0   \n",
      "3      0.0    0.0       0.0   \n",
      "4      0.0    0.0       0.0   \n",
      "\n",
      "                                                text        Date  \\\n",
      "0  È appena uscito un nuovo video! LES CRYPTOMONN...  2019-05-27   \n",
      "1  Cardano: Digitize Currencies; EOS https://t.co...  2019-05-27   \n",
      "2  Another Test tweet that wasn't caught in the s...  2019-05-27   \n",
      "3  Current Crypto Prices! \\n\\nBTC: $8721.99 USD\\n...  2019-05-27   \n",
      "4  Spiv (Nosar Baz): BITCOIN Is An Asset &amp; NO...  2019-05-27   \n",
      "\n",
      "   bitcoin_price  bitcoin_volume  bitcoin_trend  \n",
      "0     8805.77832     27949839564              0  \n",
      "1     8805.77832     27949839564              0  \n",
      "2     8805.77832     27949839564              0  \n",
      "3     8805.77832     27949839564              0  \n",
      "4     8805.77832     27949839564              0  \n"
     ]
    }
   ],
   "source": [
    "print(data.head())"
   ],
   "metadata": {
    "collapsed": false,
    "ExecuteTime": {
     "end_time": "2023-05-20T21:12:27.790391600Z",
     "start_time": "2023-05-20T21:12:27.734979Z"
    }
   }
  },
  {
   "cell_type": "code",
   "execution_count": 73,
   "outputs": [
    {
     "name": "stdout",
     "output_type": "stream",
     "text": [
      "Liczba wartości zerowych w kolumnie 'bitcoin_trend': 78299\n"
     ]
    }
   ],
   "source": [
    "zero_count = data['bitcoin_trend'].eq(0).sum()\n",
    "print(\"Liczba wartości zerowych w kolumnie 'bitcoin_trend':\", zero_count)"
   ],
   "metadata": {
    "collapsed": false,
    "ExecuteTime": {
     "end_time": "2023-05-20T21:13:01.211663800Z",
     "start_time": "2023-05-20T21:13:01.109736500Z"
    }
   }
  },
  {
   "cell_type": "code",
   "execution_count": 74,
   "outputs": [
    {
     "data": {
      "text/plain": "(4385812, 8)"
     },
     "execution_count": 74,
     "metadata": {},
     "output_type": "execute_result"
    }
   ],
   "source": [
    "data.shape"
   ],
   "metadata": {
    "collapsed": false,
    "ExecuteTime": {
     "end_time": "2023-05-20T21:13:01.234267200Z",
     "start_time": "2023-05-20T21:13:01.215926900Z"
    }
   }
  },
  {
   "cell_type": "code",
   "execution_count": 75,
   "outputs": [],
   "source": [
    "data = data[data['bitcoin_trend'] != 0]"
   ],
   "metadata": {
    "collapsed": false,
    "ExecuteTime": {
     "end_time": "2023-05-20T21:13:05.928747500Z",
     "start_time": "2023-05-20T21:13:01.241238800Z"
    }
   }
  },
  {
   "cell_type": "code",
   "execution_count": 76,
   "outputs": [
    {
     "name": "stdout",
     "output_type": "stream",
     "text": [
      "Liczba wartości zerowych w kolumnie 'bitcoin_trend': 0\n"
     ]
    }
   ],
   "source": [
    "zero_count = data['bitcoin_trend'].eq(0).sum()\n",
    "print(\"Liczba wartości zerowych w kolumnie 'bitcoin_trend':\", zero_count)"
   ],
   "metadata": {
    "collapsed": false,
    "ExecuteTime": {
     "end_time": "2023-05-20T21:13:06.050484700Z",
     "start_time": "2023-05-20T21:13:05.965908600Z"
    }
   }
  },
  {
   "cell_type": "code",
   "execution_count": 77,
   "outputs": [],
   "source": [
    "# Handle missing values\n",
    "data['text'].fillna('', inplace=True)  # Replace NaN values with empty string"
   ],
   "metadata": {
    "collapsed": false,
    "ExecuteTime": {
     "end_time": "2023-05-20T21:13:06.532956900Z",
     "start_time": "2023-05-20T21:13:06.408440900Z"
    }
   }
  },
  {
   "cell_type": "code",
   "execution_count": 78,
   "outputs": [
    {
     "name": "stdout",
     "output_type": "stream",
     "text": [
      "Znaleziono powtarzające się wartości w kolumnie 'text':\n",
      "         replies  likes  retweets  \\\n",
      "78045        0.0    0.0       0.0   \n",
      "78046        0.0    0.0       0.0   \n",
      "78165        0.0    0.0       0.0   \n",
      "78182        0.0    0.0       0.0   \n",
      "78239        0.0    0.0       0.0   \n",
      "...          ...    ...       ...   \n",
      "4385699      0.0    0.0       0.0   \n",
      "4385728      0.0    0.0       0.0   \n",
      "4385745      0.0    0.0       2.0   \n",
      "4385763      0.0    0.0       0.0   \n",
      "4385795      0.0    0.0       1.0   \n",
      "\n",
      "                                                      text        Date  \\\n",
      "78045                              https://t.co/3VWPmKiib7  2019-05-21   \n",
      "78046                              https://t.co/3VWPmKiib7  2019-05-21   \n",
      "78165                              https://t.co/QlKNifWCh2  2019-05-21   \n",
      "78182    #QuarkChain #QKC #Blockchain #BTC #ETH #blockc...  2019-05-21   \n",
      "78239    #QKC #Blockchain #BTC #ETH #blockchaintechnolo...  2019-05-21   \n",
      "...                                                    ...         ...   \n",
      "4385699  Black bitcoin - $0.00\\n#Items4Sale\\nList ur bi...  2017-08-21   \n",
      "4385728  Gana $45,00 Usd Por Afiliar, Quieres ganarte d...  2017-08-21   \n",
      "4385745  Sign up for Luno and get ZAR 10.00 worth of Bi...  2017-08-21   \n",
      "4385763  Gana $45,00 Usd Por Afiliar, Quieres ganarte d...  2017-08-21   \n",
      "4385795        Current price of Bitcoin is $3995.00 @Chain  2017-08-21   \n",
      "\n",
      "         bitcoin_price  bitcoin_volume  bitcoin_trend  \n",
      "78045      7963.327637     25127245056             -1  \n",
      "78046      7963.327637     25127245056             -1  \n",
      "78165      7963.327637     25127245056             -1  \n",
      "78182      7963.327637     25127245056             -1  \n",
      "78239      7963.327637     25127245056             -1  \n",
      "...                ...             ...            ...  \n",
      "4385699    4001.739990      2800890112              1  \n",
      "4385728    4001.739990      2800890112              1  \n",
      "4385745    4001.739990      2800890112              1  \n",
      "4385763    4001.739990      2800890112              1  \n",
      "4385795    4001.739990      2800890112              1  \n",
      "\n",
      "[374899 rows x 8 columns]\n"
     ]
    }
   ],
   "source": [
    "# Sprawdzanie, czy występują powtarzające się wartości w kolumnie \"text\"\n",
    "duplicates = data['text'].duplicated()\n",
    "\n",
    "# Wyświetlanie wyników\n",
    "if duplicates.any():\n",
    "    print(\"Znaleziono powtarzające się wartości w kolumnie 'text':\")\n",
    "    print(data[duplicates])\n",
    "else:\n",
    "    print(\"Nie znaleziono powtarzających się wartości w kolumnie 'text'.\")"
   ],
   "metadata": {
    "collapsed": false,
    "ExecuteTime": {
     "end_time": "2023-05-20T21:13:09.076845300Z",
     "start_time": "2023-05-20T21:13:08.928968600Z"
    }
   }
  },
  {
   "cell_type": "code",
   "execution_count": 79,
   "outputs": [
    {
     "name": "stdout",
     "output_type": "stream",
     "text": [
      "Liczba duplikatów w kolumnie 'text': 374899\n"
     ]
    }
   ],
   "source": [
    "num_duplicates = duplicates.sum()\n",
    "\n",
    "print(f\"Liczba duplikatów w kolumnie 'text': {num_duplicates}\")"
   ],
   "metadata": {
    "collapsed": false,
    "ExecuteTime": {
     "end_time": "2023-05-20T21:13:09.148116Z",
     "start_time": "2023-05-20T21:13:09.079138Z"
    }
   }
  },
  {
   "cell_type": "code",
   "execution_count": 81,
   "outputs": [
    {
     "name": "stdout",
     "output_type": "stream",
     "text": [
      "Maksymalna liczba duplikatów dla jednej wartości w kolumnie 'text': 4433\n"
     ]
    }
   ],
   "source": [
    "max_duplicates = data['text'].value_counts().max()\n",
    "print(\"Maksymalna liczba duplikatów dla jednej wartości w kolumnie 'text':\", max_duplicates)"
   ],
   "metadata": {
    "collapsed": false,
    "ExecuteTime": {
     "end_time": "2023-05-20T21:14:11.117834Z",
     "start_time": "2023-05-20T21:14:01.786026600Z"
    }
   }
  },
  {
   "cell_type": "code",
   "execution_count": 82,
   "outputs": [
    {
     "name": "stdout",
     "output_type": "stream",
     "text": [
      "Top 20 wartości z kolumny 'text' pod kątem ilości duplikatów:\n",
      "#QKC #Blockchain #BTC #ETH #blockchaintechnology #sharding                                                                                                                                                                                                                                                  4433\n",
      "#Blockchain #BTC #ETH #blockchaintechnology #sharding                                                                                                                                                                                                                                                       3740\n",
      "#blockchain #cryptocurrency #bitcoin #ethereum #ICO #P2PS #P2PSF #startup                                                                                                                                                                                                                                   1842\n",
      "START BITCOIN MINING       http://keita2016.jp                                                                                                                                                                                                                                                              1573\n",
      "#ooobtc #obx #crypto #bitcoin #ethereum #blockchain #btc #toqqn                                                                                                                                                                                                                                             1461\n",
      "START BITCOIN MINING       http://bowwellebay.blog.fc2.com                                                                                                                                                                                                                                                  1366\n",
      "START BITCOIN MINING       http://bowwell2016.blog.fc2.com                                                                                                                                                                                                                                                  1361\n",
      "#QuarkChain #QKC #Blockchain #BTC #ETH #blockchaintechnology #sharding                                                                                                                                                                                                                                      1269\n",
      "Get Free Bitcoin http://keita2016.jp                                                                                                                                                                                                                                                                        1140\n",
      "Get Free Bitcoin https://qoinpro.com/55e9e71f51eafc907bb6d9da24d898e6 …                                                                                                                                                                                                                                     1139\n",
      "Get Free Bitcoin http://bowwell2016.blog.fc2.com                                                                                                                                                                                                                                                            1132\n",
      "Get Free Bitcoin http://bowwellebay.blog.fc2.com                                                                                                                                                                                                                                                            1126\n",
      "@Quark_Chain #QKC #Blockchain #BTC #ETH #blockchaintechnology #sharding                                                                                                                                                                                                                                      817\n",
      "#QKC and any one of them (#Blockchain #BTC #ETH #blockchaintechnology #sharding                                                                                                                                                                                                                              750\n",
      "                                                                                                                                                                                                                                                                                                             721\n",
      "Airdrop XTD get 250,000 and 125,000 for referral \\n\\n#airdrop #bounty #BTC #xrp #freetoken #Crypto #ETH #NEO6 #Blockchain #ripple #trx #tron #trx #binance #freetoken #airdrops #SCTokenhttps://docs.google.com/forms/d/e/1FAIpQLSc_WtUfzdzpYU0hD9Nua2REsR_43Oz8FGwsidZsPhlDoOtmTw/viewform?usp=pp_url …     671\n",
      "Bitcoin                                                                                                                                                                                                                                                                                                      658\n",
      "Ifb                                                                                                                                                                                                                                                                                                          651\n",
      "#QKC #Blockchain #BTC #ETH                                                                                                                                                                                                                                                                                   637\n",
      " VÍDEO: ¿Cómo funcionan las criptomonedas? (Como Bitcoin) http://ow.ly/ddJl30jucXU                                                                                                                                                                                                                           628\n",
      "Name: text, dtype: int64\n"
     ]
    }
   ],
   "source": [
    "top_duplicates = data['text'].value_counts().head(20)\n",
    "print(\"Top 20 wartości z kolumny 'text' pod kątem ilości duplikatów:\")\n",
    "print(top_duplicates)"
   ],
   "metadata": {
    "collapsed": false,
    "ExecuteTime": {
     "end_time": "2023-05-20T21:16:50.023973Z",
     "start_time": "2023-05-20T21:16:40.505110900Z"
    }
   }
  },
  {
   "cell_type": "code",
   "execution_count": 90,
   "outputs": [
    {
     "name": "stdout",
     "output_type": "stream",
     "text": [
      "Top 20 wartości z kolumny 'text' pod kątem ilości duplikatów z informacją o dacie i cenie bitcoina:\n",
      "                                                    text  count        Date  \\\n",
      "0      #QKC #Blockchain #BTC #ETH #blockchaintechnolo...   4433  2019-05-21   \n",
      "1      #QKC #Blockchain #BTC #ETH #blockchaintechnolo...   4433  2019-05-21   \n",
      "2      #QKC #Blockchain #BTC #ETH #blockchaintechnolo...   4433  2019-05-21   \n",
      "3      #QKC #Blockchain #BTC #ETH #blockchaintechnolo...   4433  2019-05-21   \n",
      "4      #QKC #Blockchain #BTC #ETH #blockchaintechnolo...   4433  2019-05-21   \n",
      "...                                                  ...    ...         ...   \n",
      "27110   VÍDEO: ¿Cómo funcionan las criptomonedas? (Co...    628  2018-06-05   \n",
      "27111   VÍDEO: ¿Cómo funcionan las criptomonedas? (Co...    628  2018-06-05   \n",
      "27112   VÍDEO: ¿Cómo funcionan las criptomonedas? (Co...    628  2018-06-05   \n",
      "27113   VÍDEO: ¿Cómo funcionan las criptomonedas? (Co...    628  2018-06-03   \n",
      "27114   VÍDEO: ¿Cómo funcionan las criptomonedas? (Co...    628  2018-06-03   \n",
      "\n",
      "       bitcoin_price  \n",
      "0        7963.327637  \n",
      "1        7963.327637  \n",
      "2        7963.327637  \n",
      "3        7963.327637  \n",
      "4        7963.327637  \n",
      "...              ...  \n",
      "27110    7633.759766  \n",
      "27111    7633.759766  \n",
      "27112    7633.759766  \n",
      "27113    7720.250000  \n",
      "27114    7720.250000  \n",
      "\n",
      "[27115 rows x 4 columns]\n"
     ]
    }
   ],
   "source": [
    "# Wypisanie TOP duplikatów z informacją o dacie i cenie Bitcoina\n",
    "top_duplicates = data['text'].value_counts().head(20)\n",
    "top_duplicates = top_duplicates.reset_index()  # Przekształcenie Serii na DataFrame\n",
    "top_duplicates = top_duplicates.rename(columns={'index': 'text', 'text': 'count'})  # Zmiana nazw kolumn\n",
    "if 'text' in data.columns and 'Date' in data.columns and 'bitcoin_price' in data.columns:\n",
    "    merged_data = top_duplicates.merge(data[['text', 'Date', 'bitcoin_price']], on='text', how='left')\n",
    "    merged_data_unique = merged_data.drop_duplicates(subset='text')\n",
    "    print(\"Top 20 wartości z kolumny 'text' pod kątem ilości duplikatów z informacją o dacie i cenie bitcoina:\")\n",
    "    print(merged_data)\n",
    "else:\n",
    "    print(\"Brak wymaganych kolumn w DataFrame data.\")"
   ],
   "metadata": {
    "collapsed": false,
    "ExecuteTime": {
     "end_time": "2023-05-20T21:46:12.892918100Z",
     "start_time": "2023-05-20T21:45:33.644247100Z"
    }
   }
  },
  {
   "cell_type": "code",
   "execution_count": 80,
   "outputs": [
    {
     "ename": "PermissionError",
     "evalue": "[Errno 13] Permission denied: 'duplikaty.csv'",
     "output_type": "error",
     "traceback": [
      "\u001B[1;31m---------------------------------------------------------------------------\u001B[0m",
      "\u001B[1;31mPermissionError\u001B[0m                           Traceback (most recent call last)",
      "Cell \u001B[1;32mIn[80], line 2\u001B[0m\n\u001B[0;32m      1\u001B[0m \u001B[38;5;66;03m# Zapisywanie duplikatów do pliku CSV\u001B[39;00m\n\u001B[1;32m----> 2\u001B[0m \u001B[43mdata\u001B[49m\u001B[43m[\u001B[49m\u001B[43mduplicates\u001B[49m\u001B[43m]\u001B[49m\u001B[38;5;241;43m.\u001B[39;49m\u001B[43mto_csv\u001B[49m\u001B[43m(\u001B[49m\u001B[38;5;124;43m'\u001B[39;49m\u001B[38;5;124;43mduplikaty.csv\u001B[39;49m\u001B[38;5;124;43m'\u001B[39;49m\u001B[43m)\u001B[49m\n",
      "File \u001B[1;32m~\\AppData\\Local\\anaconda3\\lib\\site-packages\\pandas\\util\\_decorators.py:211\u001B[0m, in \u001B[0;36mdeprecate_kwarg.<locals>._deprecate_kwarg.<locals>.wrapper\u001B[1;34m(*args, **kwargs)\u001B[0m\n\u001B[0;32m    209\u001B[0m     \u001B[38;5;28;01melse\u001B[39;00m:\n\u001B[0;32m    210\u001B[0m         kwargs[new_arg_name] \u001B[38;5;241m=\u001B[39m new_arg_value\n\u001B[1;32m--> 211\u001B[0m \u001B[38;5;28;01mreturn\u001B[39;00m func(\u001B[38;5;241m*\u001B[39margs, \u001B[38;5;241m*\u001B[39m\u001B[38;5;241m*\u001B[39mkwargs)\n",
      "File \u001B[1;32m~\\AppData\\Local\\anaconda3\\lib\\site-packages\\pandas\\core\\generic.py:3720\u001B[0m, in \u001B[0;36mNDFrame.to_csv\u001B[1;34m(self, path_or_buf, sep, na_rep, float_format, columns, header, index, index_label, mode, encoding, compression, quoting, quotechar, lineterminator, chunksize, date_format, doublequote, escapechar, decimal, errors, storage_options)\u001B[0m\n\u001B[0;32m   3709\u001B[0m df \u001B[38;5;241m=\u001B[39m \u001B[38;5;28mself\u001B[39m \u001B[38;5;28;01mif\u001B[39;00m \u001B[38;5;28misinstance\u001B[39m(\u001B[38;5;28mself\u001B[39m, ABCDataFrame) \u001B[38;5;28;01melse\u001B[39;00m \u001B[38;5;28mself\u001B[39m\u001B[38;5;241m.\u001B[39mto_frame()\n\u001B[0;32m   3711\u001B[0m formatter \u001B[38;5;241m=\u001B[39m DataFrameFormatter(\n\u001B[0;32m   3712\u001B[0m     frame\u001B[38;5;241m=\u001B[39mdf,\n\u001B[0;32m   3713\u001B[0m     header\u001B[38;5;241m=\u001B[39mheader,\n\u001B[1;32m   (...)\u001B[0m\n\u001B[0;32m   3717\u001B[0m     decimal\u001B[38;5;241m=\u001B[39mdecimal,\n\u001B[0;32m   3718\u001B[0m )\n\u001B[1;32m-> 3720\u001B[0m \u001B[38;5;28;01mreturn\u001B[39;00m \u001B[43mDataFrameRenderer\u001B[49m\u001B[43m(\u001B[49m\u001B[43mformatter\u001B[49m\u001B[43m)\u001B[49m\u001B[38;5;241;43m.\u001B[39;49m\u001B[43mto_csv\u001B[49m\u001B[43m(\u001B[49m\n\u001B[0;32m   3721\u001B[0m \u001B[43m    \u001B[49m\u001B[43mpath_or_buf\u001B[49m\u001B[43m,\u001B[49m\n\u001B[0;32m   3722\u001B[0m \u001B[43m    \u001B[49m\u001B[43mlineterminator\u001B[49m\u001B[38;5;241;43m=\u001B[39;49m\u001B[43mlineterminator\u001B[49m\u001B[43m,\u001B[49m\n\u001B[0;32m   3723\u001B[0m \u001B[43m    \u001B[49m\u001B[43msep\u001B[49m\u001B[38;5;241;43m=\u001B[39;49m\u001B[43msep\u001B[49m\u001B[43m,\u001B[49m\n\u001B[0;32m   3724\u001B[0m \u001B[43m    \u001B[49m\u001B[43mencoding\u001B[49m\u001B[38;5;241;43m=\u001B[39;49m\u001B[43mencoding\u001B[49m\u001B[43m,\u001B[49m\n\u001B[0;32m   3725\u001B[0m \u001B[43m    \u001B[49m\u001B[43merrors\u001B[49m\u001B[38;5;241;43m=\u001B[39;49m\u001B[43merrors\u001B[49m\u001B[43m,\u001B[49m\n\u001B[0;32m   3726\u001B[0m \u001B[43m    \u001B[49m\u001B[43mcompression\u001B[49m\u001B[38;5;241;43m=\u001B[39;49m\u001B[43mcompression\u001B[49m\u001B[43m,\u001B[49m\n\u001B[0;32m   3727\u001B[0m \u001B[43m    \u001B[49m\u001B[43mquoting\u001B[49m\u001B[38;5;241;43m=\u001B[39;49m\u001B[43mquoting\u001B[49m\u001B[43m,\u001B[49m\n\u001B[0;32m   3728\u001B[0m \u001B[43m    \u001B[49m\u001B[43mcolumns\u001B[49m\u001B[38;5;241;43m=\u001B[39;49m\u001B[43mcolumns\u001B[49m\u001B[43m,\u001B[49m\n\u001B[0;32m   3729\u001B[0m \u001B[43m    \u001B[49m\u001B[43mindex_label\u001B[49m\u001B[38;5;241;43m=\u001B[39;49m\u001B[43mindex_label\u001B[49m\u001B[43m,\u001B[49m\n\u001B[0;32m   3730\u001B[0m \u001B[43m    \u001B[49m\u001B[43mmode\u001B[49m\u001B[38;5;241;43m=\u001B[39;49m\u001B[43mmode\u001B[49m\u001B[43m,\u001B[49m\n\u001B[0;32m   3731\u001B[0m \u001B[43m    \u001B[49m\u001B[43mchunksize\u001B[49m\u001B[38;5;241;43m=\u001B[39;49m\u001B[43mchunksize\u001B[49m\u001B[43m,\u001B[49m\n\u001B[0;32m   3732\u001B[0m \u001B[43m    \u001B[49m\u001B[43mquotechar\u001B[49m\u001B[38;5;241;43m=\u001B[39;49m\u001B[43mquotechar\u001B[49m\u001B[43m,\u001B[49m\n\u001B[0;32m   3733\u001B[0m \u001B[43m    \u001B[49m\u001B[43mdate_format\u001B[49m\u001B[38;5;241;43m=\u001B[39;49m\u001B[43mdate_format\u001B[49m\u001B[43m,\u001B[49m\n\u001B[0;32m   3734\u001B[0m \u001B[43m    \u001B[49m\u001B[43mdoublequote\u001B[49m\u001B[38;5;241;43m=\u001B[39;49m\u001B[43mdoublequote\u001B[49m\u001B[43m,\u001B[49m\n\u001B[0;32m   3735\u001B[0m \u001B[43m    \u001B[49m\u001B[43mescapechar\u001B[49m\u001B[38;5;241;43m=\u001B[39;49m\u001B[43mescapechar\u001B[49m\u001B[43m,\u001B[49m\n\u001B[0;32m   3736\u001B[0m \u001B[43m    \u001B[49m\u001B[43mstorage_options\u001B[49m\u001B[38;5;241;43m=\u001B[39;49m\u001B[43mstorage_options\u001B[49m\u001B[43m,\u001B[49m\n\u001B[0;32m   3737\u001B[0m \u001B[43m\u001B[49m\u001B[43m)\u001B[49m\n",
      "File \u001B[1;32m~\\AppData\\Local\\anaconda3\\lib\\site-packages\\pandas\\util\\_decorators.py:211\u001B[0m, in \u001B[0;36mdeprecate_kwarg.<locals>._deprecate_kwarg.<locals>.wrapper\u001B[1;34m(*args, **kwargs)\u001B[0m\n\u001B[0;32m    209\u001B[0m     \u001B[38;5;28;01melse\u001B[39;00m:\n\u001B[0;32m    210\u001B[0m         kwargs[new_arg_name] \u001B[38;5;241m=\u001B[39m new_arg_value\n\u001B[1;32m--> 211\u001B[0m \u001B[38;5;28;01mreturn\u001B[39;00m func(\u001B[38;5;241m*\u001B[39margs, \u001B[38;5;241m*\u001B[39m\u001B[38;5;241m*\u001B[39mkwargs)\n",
      "File \u001B[1;32m~\\AppData\\Local\\anaconda3\\lib\\site-packages\\pandas\\io\\formats\\format.py:1189\u001B[0m, in \u001B[0;36mDataFrameRenderer.to_csv\u001B[1;34m(self, path_or_buf, encoding, sep, columns, index_label, mode, compression, quoting, quotechar, lineterminator, chunksize, date_format, doublequote, escapechar, errors, storage_options)\u001B[0m\n\u001B[0;32m   1168\u001B[0m     created_buffer \u001B[38;5;241m=\u001B[39m \u001B[38;5;28;01mFalse\u001B[39;00m\n\u001B[0;32m   1170\u001B[0m csv_formatter \u001B[38;5;241m=\u001B[39m CSVFormatter(\n\u001B[0;32m   1171\u001B[0m     path_or_buf\u001B[38;5;241m=\u001B[39mpath_or_buf,\n\u001B[0;32m   1172\u001B[0m     lineterminator\u001B[38;5;241m=\u001B[39mlineterminator,\n\u001B[1;32m   (...)\u001B[0m\n\u001B[0;32m   1187\u001B[0m     formatter\u001B[38;5;241m=\u001B[39m\u001B[38;5;28mself\u001B[39m\u001B[38;5;241m.\u001B[39mfmt,\n\u001B[0;32m   1188\u001B[0m )\n\u001B[1;32m-> 1189\u001B[0m \u001B[43mcsv_formatter\u001B[49m\u001B[38;5;241;43m.\u001B[39;49m\u001B[43msave\u001B[49m\u001B[43m(\u001B[49m\u001B[43m)\u001B[49m\n\u001B[0;32m   1191\u001B[0m \u001B[38;5;28;01mif\u001B[39;00m created_buffer:\n\u001B[0;32m   1192\u001B[0m     \u001B[38;5;28;01massert\u001B[39;00m \u001B[38;5;28misinstance\u001B[39m(path_or_buf, StringIO)\n",
      "File \u001B[1;32m~\\AppData\\Local\\anaconda3\\lib\\site-packages\\pandas\\io\\formats\\csvs.py:241\u001B[0m, in \u001B[0;36mCSVFormatter.save\u001B[1;34m(self)\u001B[0m\n\u001B[0;32m    237\u001B[0m \u001B[38;5;124;03m\"\"\"\u001B[39;00m\n\u001B[0;32m    238\u001B[0m \u001B[38;5;124;03mCreate the writer & save.\u001B[39;00m\n\u001B[0;32m    239\u001B[0m \u001B[38;5;124;03m\"\"\"\u001B[39;00m\n\u001B[0;32m    240\u001B[0m \u001B[38;5;66;03m# apply compression and byte/text conversion\u001B[39;00m\n\u001B[1;32m--> 241\u001B[0m \u001B[38;5;28;01mwith\u001B[39;00m \u001B[43mget_handle\u001B[49m\u001B[43m(\u001B[49m\n\u001B[0;32m    242\u001B[0m \u001B[43m    \u001B[49m\u001B[38;5;28;43mself\u001B[39;49m\u001B[38;5;241;43m.\u001B[39;49m\u001B[43mfilepath_or_buffer\u001B[49m\u001B[43m,\u001B[49m\n\u001B[0;32m    243\u001B[0m \u001B[43m    \u001B[49m\u001B[38;5;28;43mself\u001B[39;49m\u001B[38;5;241;43m.\u001B[39;49m\u001B[43mmode\u001B[49m\u001B[43m,\u001B[49m\n\u001B[0;32m    244\u001B[0m \u001B[43m    \u001B[49m\u001B[43mencoding\u001B[49m\u001B[38;5;241;43m=\u001B[39;49m\u001B[38;5;28;43mself\u001B[39;49m\u001B[38;5;241;43m.\u001B[39;49m\u001B[43mencoding\u001B[49m\u001B[43m,\u001B[49m\n\u001B[0;32m    245\u001B[0m \u001B[43m    \u001B[49m\u001B[43merrors\u001B[49m\u001B[38;5;241;43m=\u001B[39;49m\u001B[38;5;28;43mself\u001B[39;49m\u001B[38;5;241;43m.\u001B[39;49m\u001B[43merrors\u001B[49m\u001B[43m,\u001B[49m\n\u001B[0;32m    246\u001B[0m \u001B[43m    \u001B[49m\u001B[43mcompression\u001B[49m\u001B[38;5;241;43m=\u001B[39;49m\u001B[38;5;28;43mself\u001B[39;49m\u001B[38;5;241;43m.\u001B[39;49m\u001B[43mcompression\u001B[49m\u001B[43m,\u001B[49m\n\u001B[0;32m    247\u001B[0m \u001B[43m    \u001B[49m\u001B[43mstorage_options\u001B[49m\u001B[38;5;241;43m=\u001B[39;49m\u001B[38;5;28;43mself\u001B[39;49m\u001B[38;5;241;43m.\u001B[39;49m\u001B[43mstorage_options\u001B[49m\u001B[43m,\u001B[49m\n\u001B[0;32m    248\u001B[0m \u001B[43m\u001B[49m\u001B[43m)\u001B[49m \u001B[38;5;28;01mas\u001B[39;00m handles:\n\u001B[0;32m    249\u001B[0m \n\u001B[0;32m    250\u001B[0m     \u001B[38;5;66;03m# Note: self.encoding is irrelevant here\u001B[39;00m\n\u001B[0;32m    251\u001B[0m     \u001B[38;5;28mself\u001B[39m\u001B[38;5;241m.\u001B[39mwriter \u001B[38;5;241m=\u001B[39m csvlib\u001B[38;5;241m.\u001B[39mwriter(\n\u001B[0;32m    252\u001B[0m         handles\u001B[38;5;241m.\u001B[39mhandle,\n\u001B[0;32m    253\u001B[0m         lineterminator\u001B[38;5;241m=\u001B[39m\u001B[38;5;28mself\u001B[39m\u001B[38;5;241m.\u001B[39mlineterminator,\n\u001B[1;32m   (...)\u001B[0m\n\u001B[0;32m    258\u001B[0m         quotechar\u001B[38;5;241m=\u001B[39m\u001B[38;5;28mself\u001B[39m\u001B[38;5;241m.\u001B[39mquotechar,\n\u001B[0;32m    259\u001B[0m     )\n\u001B[0;32m    261\u001B[0m     \u001B[38;5;28mself\u001B[39m\u001B[38;5;241m.\u001B[39m_save()\n",
      "File \u001B[1;32m~\\AppData\\Local\\anaconda3\\lib\\site-packages\\pandas\\io\\common.py:856\u001B[0m, in \u001B[0;36mget_handle\u001B[1;34m(path_or_buf, mode, encoding, compression, memory_map, is_text, errors, storage_options)\u001B[0m\n\u001B[0;32m    851\u001B[0m \u001B[38;5;28;01melif\u001B[39;00m \u001B[38;5;28misinstance\u001B[39m(handle, \u001B[38;5;28mstr\u001B[39m):\n\u001B[0;32m    852\u001B[0m     \u001B[38;5;66;03m# Check whether the filename is to be opened in binary mode.\u001B[39;00m\n\u001B[0;32m    853\u001B[0m     \u001B[38;5;66;03m# Binary mode does not support 'encoding' and 'newline'.\u001B[39;00m\n\u001B[0;32m    854\u001B[0m     \u001B[38;5;28;01mif\u001B[39;00m ioargs\u001B[38;5;241m.\u001B[39mencoding \u001B[38;5;129;01mand\u001B[39;00m \u001B[38;5;124m\"\u001B[39m\u001B[38;5;124mb\u001B[39m\u001B[38;5;124m\"\u001B[39m \u001B[38;5;129;01mnot\u001B[39;00m \u001B[38;5;129;01min\u001B[39;00m ioargs\u001B[38;5;241m.\u001B[39mmode:\n\u001B[0;32m    855\u001B[0m         \u001B[38;5;66;03m# Encoding\u001B[39;00m\n\u001B[1;32m--> 856\u001B[0m         handle \u001B[38;5;241m=\u001B[39m \u001B[38;5;28;43mopen\u001B[39;49m\u001B[43m(\u001B[49m\n\u001B[0;32m    857\u001B[0m \u001B[43m            \u001B[49m\u001B[43mhandle\u001B[49m\u001B[43m,\u001B[49m\n\u001B[0;32m    858\u001B[0m \u001B[43m            \u001B[49m\u001B[43mioargs\u001B[49m\u001B[38;5;241;43m.\u001B[39;49m\u001B[43mmode\u001B[49m\u001B[43m,\u001B[49m\n\u001B[0;32m    859\u001B[0m \u001B[43m            \u001B[49m\u001B[43mencoding\u001B[49m\u001B[38;5;241;43m=\u001B[39;49m\u001B[43mioargs\u001B[49m\u001B[38;5;241;43m.\u001B[39;49m\u001B[43mencoding\u001B[49m\u001B[43m,\u001B[49m\n\u001B[0;32m    860\u001B[0m \u001B[43m            \u001B[49m\u001B[43merrors\u001B[49m\u001B[38;5;241;43m=\u001B[39;49m\u001B[43merrors\u001B[49m\u001B[43m,\u001B[49m\n\u001B[0;32m    861\u001B[0m \u001B[43m            \u001B[49m\u001B[43mnewline\u001B[49m\u001B[38;5;241;43m=\u001B[39;49m\u001B[38;5;124;43m\"\u001B[39;49m\u001B[38;5;124;43m\"\u001B[39;49m\u001B[43m,\u001B[49m\n\u001B[0;32m    862\u001B[0m \u001B[43m        \u001B[49m\u001B[43m)\u001B[49m\n\u001B[0;32m    863\u001B[0m     \u001B[38;5;28;01melse\u001B[39;00m:\n\u001B[0;32m    864\u001B[0m         \u001B[38;5;66;03m# Binary mode\u001B[39;00m\n\u001B[0;32m    865\u001B[0m         handle \u001B[38;5;241m=\u001B[39m \u001B[38;5;28mopen\u001B[39m(handle, ioargs\u001B[38;5;241m.\u001B[39mmode)\n",
      "\u001B[1;31mPermissionError\u001B[0m: [Errno 13] Permission denied: 'duplikaty.csv'"
     ]
    }
   ],
   "source": [
    "# Zapisywanie duplikatów do pliku CSV\n",
    "#data[duplicates].to_csv('duplikaty.csv')"
   ],
   "metadata": {
    "collapsed": false,
    "ExecuteTime": {
     "end_time": "2023-05-20T21:13:09.527791Z",
     "start_time": "2023-05-20T21:13:09.106044100Z"
    }
   }
  },
  {
   "cell_type": "code",
   "execution_count": 83,
   "outputs": [],
   "source": [
    "#top_duplicates.to_csv('top_duplikaty.csv')"
   ],
   "metadata": {
    "collapsed": false,
    "ExecuteTime": {
     "end_time": "2023-05-20T21:18:08.138604300Z",
     "start_time": "2023-05-20T21:18:08.095998100Z"
    }
   }
  },
  {
   "cell_type": "code",
   "execution_count": 91,
   "outputs": [],
   "source": [
    "#merged_data.to_csv('top20_duplikaty.csv')"
   ],
   "metadata": {
    "collapsed": false,
    "ExecuteTime": {
     "end_time": "2023-05-20T21:47:02.498151200Z",
     "start_time": "2023-05-20T21:47:02.315535900Z"
    }
   }
  },
  {
   "cell_type": "code",
   "execution_count": 92,
   "outputs": [],
   "source": [
    "X = data['text']\n",
    "y = data['bitcoin_trend']"
   ],
   "metadata": {
    "collapsed": false,
    "ExecuteTime": {
     "end_time": "2023-05-20T21:51:10.570687700Z",
     "start_time": "2023-05-20T21:50:39.680394400Z"
    }
   }
  },
  {
   "cell_type": "code",
   "execution_count": 93,
   "outputs": [],
   "source": [
    "import numpy as np\n",
    "from sklearn.feature_extraction.text import TfidfVectorizer\n",
    "from sklearn.linear_model import LogisticRegression\n",
    "from sklearn.metrics import accuracy_score, precision_score, recall_score, f1_score"
   ],
   "metadata": {
    "collapsed": false,
    "ExecuteTime": {
     "end_time": "2023-05-20T21:52:51.777606200Z",
     "start_time": "2023-05-20T21:52:51.683878400Z"
    }
   }
  },
  {
   "cell_type": "code",
   "execution_count": 94,
   "outputs": [
    {
     "name": "stdout",
     "output_type": "stream",
     "text": [
      "Data dzieląca 80% i 20% danych: 2019-05-15\n"
     ]
    }
   ],
   "source": [
    "# Posortuj dane według daty w rosnącej kolejności.\n",
    "data = data.sort_values('Date')\n",
    "# Oblicz indeks, który odpowiada 80% danych, które mają trafić do zbioru treningowego.\n",
    "split_index = int(len(data) * 0.8)\n",
    "\n",
    "split_date = data.iloc[split_index]['Date']\n",
    "print(\"Data dzieląca 80% i 20% danych:\", split_date)"
   ],
   "metadata": {
    "collapsed": false,
    "ExecuteTime": {
     "end_time": "2023-05-20T21:53:07.846867300Z",
     "start_time": "2023-05-20T21:52:51.707784100Z"
    }
   }
  },
  {
   "cell_type": "code",
   "execution_count": 95,
   "outputs": [
    {
     "name": "stdout",
     "output_type": "stream",
     "text": [
      "Rozkład klas:  1    2318131\n",
      "-1    1989382\n",
      "Name: bitcoin_trend, dtype: int64\n"
     ]
    }
   ],
   "source": [
    "rozklad_klas = data['bitcoin_trend'].value_counts()\n",
    "print(f'Rozkład klas: {rozklad_klas}')"
   ],
   "metadata": {
    "collapsed": false,
    "ExecuteTime": {
     "end_time": "2023-05-20T21:53:08.179440100Z",
     "start_time": "2023-05-20T21:53:07.861421200Z"
    }
   }
  },
  {
   "cell_type": "code",
   "execution_count": 96,
   "outputs": [],
   "source": [
    "train_data = data[data['Date'] < split_date]\n",
    "test_data = data[data['Date'] >= split_date]\n",
    "\n",
    "# Podziel dane treningowe na cechy (X_train) i etykiety (y_train)\n",
    "X_train = train_data['text']\n",
    "y_train = train_data['bitcoin_trend']\n",
    "\n",
    "# Podziel dane testowe na cechy (X_test) i etykiety (y_test)\n",
    "X_test = test_data['text']\n",
    "y_test = test_data['bitcoin_trend']"
   ],
   "metadata": {
    "collapsed": false,
    "ExecuteTime": {
     "end_time": "2023-05-20T21:53:14.297021900Z",
     "start_time": "2023-05-20T21:53:07.949753500Z"
    }
   }
  },
  {
   "cell_type": "code",
   "execution_count": 97,
   "outputs": [
    {
     "name": "stdout",
     "output_type": "stream",
     "text": [
      "3145420    2014年9月18日 00:00:09\\nbtc_jpy\\n直近[last]:49790円\\...\n",
      "3145580    $460.77 at 09:15 UTC [24h Range: $456.00 - $47...\n",
      "3145581    In the last 10 mins, there were arb opps spann...\n",
      "3145582    2014年9月17日 16:00:08\\nbtc_jpy\\n直近[last]:51000円\\...\n",
      "3145583    Harga #Bitcoin Per Tanggal 17-09-2014 01:00:05...\n",
      "Name: text, dtype: object\n"
     ]
    }
   ],
   "source": [
    "print(X_train.head())"
   ],
   "metadata": {
    "collapsed": false,
    "ExecuteTime": {
     "end_time": "2023-05-20T21:53:14.386104400Z",
     "start_time": "2023-05-20T21:53:14.311765200Z"
    }
   }
  },
  {
   "cell_type": "code",
   "execution_count": null,
   "outputs": [],
   "source": [
    "vectorizer = TfidfVectorizer()\n",
    "X_train = vectorizer.fit_transform(X_train)\n",
    "X_test = vectorizer.transform(X_test)"
   ],
   "metadata": {
    "collapsed": false
   }
  },
  {
   "cell_type": "code",
   "execution_count": 100,
   "outputs": [
    {
     "name": "stdout",
     "output_type": "stream",
     "text": [
      "(3405044, 2873353)\n"
     ]
    }
   ],
   "source": [
    "print(X_train.shape)"
   ],
   "metadata": {
    "collapsed": false,
    "ExecuteTime": {
     "end_time": "2023-05-20T21:59:48.326923900Z",
     "start_time": "2023-05-20T21:59:48.254678400Z"
    }
   }
  },
  {
   "cell_type": "code",
   "execution_count": 101,
   "outputs": [
    {
     "name": "stdout",
     "output_type": "stream",
     "text": [
      "Rozkład wartości dla zbioru treningowego:\n",
      " 1    1885978\n",
      "-1    1519066\n",
      "Name: bitcoin_trend, dtype: int64\n",
      "Rozkład wartości dla zbioru testowego:\n",
      "-1    470316\n",
      " 1    432153\n",
      "Name: bitcoin_trend, dtype: int64\n"
     ]
    }
   ],
   "source": [
    "# Rozkład wartości dla zbioru treningowego\n",
    "y_train_data_distribution = y_train.value_counts()\n",
    "print(\"Rozkład wartości dla zbioru treningowego:\")\n",
    "print(y_train_data_distribution)\n",
    "\n",
    "y_test_data_distribution = y_test.value_counts()\n",
    "print(\"Rozkład wartości dla zbioru testowego:\")\n",
    "print(y_test_data_distribution)"
   ],
   "metadata": {
    "collapsed": false,
    "ExecuteTime": {
     "end_time": "2023-05-20T21:59:48.473020700Z",
     "start_time": "2023-05-20T21:59:48.436451500Z"
    }
   }
  },
  {
   "cell_type": "code",
   "execution_count": null,
   "outputs": [],
   "source": [
    "model = LogisticRegression()\n",
    "model.fit(X_train, y_train)"
   ],
   "metadata": {
    "collapsed": false,
    "is_executing": true,
    "ExecuteTime": {
     "start_time": "2023-05-20T21:59:48.473020700Z"
    }
   }
  },
  {
   "cell_type": "code",
   "execution_count": null,
   "outputs": [],
   "source": [
    "y_pred = model.predict(X_test)\n",
    "# Evaluate the model\n",
    "accuracy = accuracy_score(y_test, y_pred)\n",
    "precision = precision_score(y_test, y_pred)\n",
    "f1 = f1_score(y_test, y_pred)\n",
    "print(\"Accuracy: {:.2f}\".format(accuracy))\n",
    "print(\"Precision: {:.2f}\".format(precision))\n",
    "print(\"F1: {:.2f}\".format(f1))"
   ],
   "metadata": {
    "collapsed": false,
    "is_executing": true
   }
  }
 ],
 "metadata": {
  "kernelspec": {
   "display_name": "Python 3",
   "language": "python",
   "name": "python3"
  },
  "language_info": {
   "codemirror_mode": {
    "name": "ipython",
    "version": 2
   },
   "file_extension": ".py",
   "mimetype": "text/x-python",
   "name": "python",
   "nbconvert_exporter": "python",
   "pygments_lexer": "ipython2",
   "version": "2.7.6"
  }
 },
 "nbformat": 4,
 "nbformat_minor": 0
}
