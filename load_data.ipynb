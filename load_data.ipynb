{
 "cells": [
  {
   "cell_type": "code",
   "execution_count": 1,
   "metadata": {
    "collapsed": true,
    "ExecuteTime": {
     "end_time": "2023-05-20T08:58:39.950405300Z",
     "start_time": "2023-05-20T08:58:38.582342100Z"
    }
   },
   "outputs": [],
   "source": [
    "import pandas as pd"
   ]
  },
  {
   "cell_type": "code",
   "execution_count": 2,
   "outputs": [],
   "source": [
    "data = pd.read_csv('C:\\\\Users\\\\Agata Gera\\\\Desktop\\\\projekt\\\\tweets.csv', chunksize=100000 )"
   ],
   "metadata": {
    "collapsed": false,
    "ExecuteTime": {
     "end_time": "2023-05-20T08:58:40.008407700Z",
     "start_time": "2023-05-20T08:58:39.953402700Z"
    }
   }
  },
  {
   "cell_type": "code",
   "execution_count": 3,
   "outputs": [
    {
     "data": {
      "text/plain": "<pandas.io.parsers.readers.TextFileReader at 0x1a25b5c9480>"
     },
     "execution_count": 3,
     "metadata": {},
     "output_type": "execute_result"
    }
   ],
   "source": [
    "data"
   ],
   "metadata": {
    "collapsed": false,
    "ExecuteTime": {
     "end_time": "2023-05-20T09:01:23.813722700Z",
     "start_time": "2023-05-20T09:01:23.759728600Z"
    }
   }
  },
  {
   "cell_type": "markdown",
   "source": [],
   "metadata": {
    "collapsed": false
   }
  },
  {
   "cell_type": "code",
   "execution_count": 4,
   "outputs": [
    {
     "name": "stdout",
     "output_type": "stream",
     "text": [
      "16890422\n"
     ]
    }
   ],
   "source": [
    "usecols = ['timestamp','replies','likes','text']\n",
    "dtype_mapping = {\n",
    "    'timestamp': str,\n",
    "    'replies': 'float32',\n",
    "    'likes': 'float32',\n",
    "    'text': str\n",
    "}\n",
    "data = pd.read_csv('C:\\\\Users\\\\Agata Gera\\\\Desktop\\\\projekt\\\\tweets.csv', sep=';',usecols=usecols, dtype=dtype_mapping,chunksize=100000,engine='python')\n",
    "\n",
    "t_len = 0\n",
    "for chunk in data:\n",
    "    t_len += len(chunk)\n",
    "print(t_len)"
   ],
   "metadata": {
    "collapsed": false,
    "ExecuteTime": {
     "end_time": "2023-05-20T09:06:49.960546400Z",
     "start_time": "2023-05-20T09:01:25.953003100Z"
    }
   }
  },
  {
   "cell_type": "code",
   "execution_count": 6,
   "outputs": [],
   "source": [
    "usecols = ['timestamp','replies','likes','text']\n",
    "dtype_mapping = {\n",
    "    'timestamp': str,\n",
    "    'replies': 'float32',\n",
    "    'likes': 'float32',\n",
    "    'text': str\n",
    "}\n",
    "data = pd.read_csv('C:\\\\Users\\\\Agata Gera\\\\Desktop\\\\projekt\\\\tweets.csv', sep=';',usecols=usecols, dtype=dtype_mapping,chunksize=100000,engine='python')\n",
    "df = pd.concat(data)"
   ],
   "metadata": {
    "collapsed": false,
    "ExecuteTime": {
     "end_time": "2023-05-20T09:19:53.238415300Z",
     "start_time": "2023-05-20T09:09:08.105184700Z"
    }
   }
  },
  {
   "cell_type": "code",
   "execution_count": null,
   "outputs": [],
   "source": [
    "#data = pd.read_csv('C:\\\\Users\\\\Agata Gera\\\\Desktop\\\\projekt\\\\tweets.csv', sep=';',usecols=usecols, dtype=dtype_mapping,chunksize=100000,engine='python')"
   ],
   "metadata": {
    "collapsed": false
   }
  },
  {
   "cell_type": "code",
   "execution_count": 7,
   "outputs": [
    {
     "name": "stdout",
     "output_type": "stream",
     "text": [
      "                  timestamp  replies  likes  \\\n",
      "0 2019-05-27 11:49:14+00:00      0.0    0.0   \n",
      "1 2019-05-27 11:49:18+00:00      0.0    0.0   \n",
      "2 2019-05-27 11:49:06+00:00      0.0    2.0   \n",
      "3 2019-05-27 11:49:22+00:00      0.0    0.0   \n",
      "4 2019-05-27 11:49:23+00:00      0.0    0.0   \n",
      "\n",
      "                                                text        Date  \n",
      "0  È appena uscito un nuovo video! LES CRYPTOMONN...  2019-05-27  \n",
      "1  Cardano: Digitize Currencies; EOS https://t.co...  2019-05-27  \n",
      "2  Another Test tweet that wasn't caught in the s...  2019-05-27  \n",
      "3  Current Crypto Prices! \\n\\nBTC: $8721.99 USD\\n...  2019-05-27  \n",
      "4  Spiv (Nosar Baz): BITCOIN Is An Asset &amp; NO...  2019-05-27  \n"
     ]
    }
   ],
   "source": [
    "df['timestamp'] = pd.to_datetime(df['timestamp'])\n",
    "df['Date'] = df['timestamp'].dt.strftime('%Y-%m-%d')\n",
    "print(df.head())"
   ],
   "metadata": {
    "collapsed": false,
    "ExecuteTime": {
     "end_time": "2023-05-20T09:30:41.657566500Z",
     "start_time": "2023-05-20T09:24:46.414328Z"
    }
   }
  },
  {
   "cell_type": "code",
   "execution_count": null,
   "outputs": [],
   "source": [
    "df.drop(['timestamp'], axis=1, inplace=True)\n"
   ],
   "metadata": {
    "collapsed": false,
    "is_executing": true,
    "ExecuteTime": {
     "start_time": "2023-05-20T09:30:41.671563Z"
    }
   }
  },
  {
   "cell_type": "code",
   "execution_count": null,
   "outputs": [],
   "source": [
    "print(df.head())"
   ],
   "metadata": {
    "collapsed": false,
    "is_executing": true
   }
  },
  {
   "cell_type": "code",
   "execution_count": null,
   "outputs": [],
   "source": [
    "df_2 = pd.read_csv('C:\\\\Users\\\\Agata Gera\\\\Desktop\\\\projekt\\\\BTC-USD.csv', sep =',', encoding='utf-8')"
   ],
   "metadata": {
    "collapsed": false,
    "is_executing": true
   }
  },
  {
   "cell_type": "code",
   "execution_count": null,
   "outputs": [],
   "source": [
    "print(df_2.head())"
   ],
   "metadata": {
    "collapsed": false,
    "is_executing": true
   }
  },
  {
   "cell_type": "code",
   "execution_count": null,
   "outputs": [],
   "source": [
    "print(df.columns)\n",
    "print(df_2.columns)"
   ],
   "metadata": {
    "collapsed": false,
    "is_executing": true
   }
  },
  {
   "cell_type": "code",
   "execution_count": null,
   "outputs": [],
   "source": [
    "merged_df = df.merge(df_2, on='Date', how='inner')"
   ],
   "metadata": {
    "collapsed": false,
    "is_executing": true
   }
  },
  {
   "cell_type": "code",
   "execution_count": null,
   "outputs": [],
   "source": [
    "print(merged_df.head())"
   ],
   "metadata": {
    "collapsed": false
   }
  },
  {
   "cell_type": "code",
   "execution_count": 50,
   "outputs": [],
   "source": [
    "print(merged_df.head())"
   ],
   "metadata": {
    "collapsed": false
   }
  },
  {
   "cell_type": "code",
   "execution_count": 50,
   "outputs": [],
   "source": [],
   "metadata": {
    "collapsed": false
   }
  },
  {
   "cell_type": "code",
   "execution_count": null,
   "outputs": [],
   "source": [],
   "metadata": {
    "collapsed": false
   }
  }
 ],
 "metadata": {
  "kernelspec": {
   "display_name": "Python 3",
   "language": "python",
   "name": "python3"
  },
  "language_info": {
   "codemirror_mode": {
    "name": "ipython",
    "version": 2
   },
   "file_extension": ".py",
   "mimetype": "text/x-python",
   "name": "python",
   "nbconvert_exporter": "python",
   "pygments_lexer": "ipython2",
   "version": "2.7.6"
  }
 },
 "nbformat": 4,
 "nbformat_minor": 0
}
