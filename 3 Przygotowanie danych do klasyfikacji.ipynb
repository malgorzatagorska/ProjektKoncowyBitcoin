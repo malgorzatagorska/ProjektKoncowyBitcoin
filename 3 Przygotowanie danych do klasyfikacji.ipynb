{
 "cells": [
  {
   "cell_type": "markdown",
   "source": [
    "3 Przygotowanie danych do klasyfikacji"
   ],
   "metadata": {
    "collapsed": false
   }
  },
  {
   "cell_type": "code",
   "execution_count": 79,
   "outputs": [
    {
     "name": "stderr",
     "output_type": "stream",
     "text": [
      "[nltk_data] Downloading package stopwords to\n",
      "[nltk_data]     C:\\Users\\atago\\AppData\\Roaming\\nltk_data...\n",
      "[nltk_data]   Package stopwords is already up-to-date!\n"
     ]
    }
   ],
   "source": [
    "import pandas as pd\n",
    "import string\n",
    "from sklearn.base import BaseEstimator, TransformerMixin\n",
    "import nltk\n",
    "nltk.download('stopwords')\n",
    "from nltk import PorterStemmer\n",
    "from sklearn.pipeline import Pipeline\n",
    "from sklearn.feature_extraction.text import TfidfVectorizer\n",
    "from random import randint"
   ],
   "metadata": {
    "collapsed": false,
    "ExecuteTime": {
     "end_time": "2023-05-23T12:32:08.623249100Z",
     "start_time": "2023-05-23T12:32:08.590460400Z"
    }
   }
  },
  {
   "cell_type": "markdown",
   "source": [
    "3.1. Wczytanie danych z pliku"
   ],
   "metadata": {
    "collapsed": false
   }
  },
  {
   "cell_type": "code",
   "execution_count": 3,
   "outputs": [],
   "source": [
    "data_file_name = 'data_after_preparation.csv'\n",
    "data = pd.read_csv(data_file_name)"
   ],
   "metadata": {
    "collapsed": false,
    "ExecuteTime": {
     "end_time": "2023-05-23T11:44:06.069138300Z",
     "start_time": "2023-05-23T11:43:44.971739600Z"
    }
   }
  },
  {
   "cell_type": "markdown",
   "source": [
    "3.2. Podział danych na uczące i testowe po określonej dacie"
   ],
   "metadata": {
    "collapsed": false
   }
  },
  {
   "cell_type": "code",
   "execution_count": 4,
   "metadata": {
    "collapsed": true,
    "ExecuteTime": {
     "end_time": "2023-05-23T11:44:09.052879800Z",
     "start_time": "2023-05-23T11:44:09.008904400Z"
    }
   },
   "outputs": [],
   "source": [
    "X = data['text']\n",
    "y = data['bitcoin_trend']"
   ]
  },
  {
   "cell_type": "code",
   "execution_count": 5,
   "outputs": [
    {
     "name": "stdout",
     "output_type": "stream",
     "text": [
      "Data dzieląca 80% i 20% danych: 2019-05-15\n"
     ]
    }
   ],
   "source": [
    "data = data.sort_values('Date')\n",
    "split_index = int(len(data) * 0.8)\n",
    "\n",
    "split_date = data.iloc[split_index]['Date']\n",
    "print(\"Data dzieląca 80% i 20% danych:\", split_date)"
   ],
   "metadata": {
    "collapsed": false,
    "ExecuteTime": {
     "end_time": "2023-05-23T11:44:18.728221700Z",
     "start_time": "2023-05-23T11:44:13.009217500Z"
    }
   }
  },
  {
   "cell_type": "code",
   "execution_count": 6,
   "outputs": [],
   "source": [
    "train_data = data[data['Date'] < split_date]\n",
    "test_data = data[data['Date'] >= split_date]\n",
    "\n",
    "# Podziel dane treningowe na cechy (X_train) i etykiety (y_train)\n",
    "X_train = train_data['text']\n",
    "y_train = train_data['bitcoin_trend']\n",
    "\n",
    "# Podziel dane testowe na cechy (X_test) i etykiety (y_test)\n",
    "X_test = test_data['text']\n",
    "y_test = test_data['bitcoin_trend']"
   ],
   "metadata": {
    "collapsed": false,
    "ExecuteTime": {
     "end_time": "2023-05-23T11:44:31.498976800Z",
     "start_time": "2023-05-23T11:44:30.004023400Z"
    }
   }
  },
  {
   "cell_type": "code",
   "execution_count": 14,
   "outputs": [],
   "source": [
    "# Zamiana X na DataFrame\n",
    "X_train = pd.DataFrame(X_train, columns=['text'])\n",
    "X_test = pd.DataFrame(X_test, columns=['text'])"
   ],
   "metadata": {
    "collapsed": false,
    "ExecuteTime": {
     "end_time": "2023-05-23T11:48:09.906392500Z",
     "start_time": "2023-05-23T11:48:09.556326500Z"
    }
   }
  },
  {
   "cell_type": "code",
   "execution_count": 15,
   "outputs": [
    {
     "name": "stdout",
     "output_type": "stream",
     "text": [
      "Type of X_train: <class 'pandas.core.frame.DataFrame'>\n",
      "Type of y_train: <class 'pandas.core.series.Series'>\n",
      "Type of X_test: <class 'pandas.core.frame.DataFrame'>\n",
      "Type of y_test: <class 'pandas.core.series.Series'>\n"
     ]
    }
   ],
   "source": [
    "print(f'Type of X_train: {type(X_train)}')\n",
    "print(f'Type of y_train: {type(y_train)}')\n",
    "print(f'Type of X_test: {type(X_test)}')\n",
    "print(f'Type of y_test: {type(y_test)}')"
   ],
   "metadata": {
    "collapsed": false,
    "ExecuteTime": {
     "end_time": "2023-05-23T11:48:26.839568400Z",
     "start_time": "2023-05-23T11:48:26.756342700Z"
    }
   }
  },
  {
   "cell_type": "markdown",
   "source": [
    "3.3. Klasy do przetwarzania danych tekstowych"
   ],
   "metadata": {
    "collapsed": false
   }
  },
  {
   "cell_type": "markdown",
   "source": [
    "Usuwanie znaków interpunkcyjnych"
   ],
   "metadata": {
    "collapsed": false
   }
  },
  {
   "cell_type": "code",
   "execution_count": 22,
   "outputs": [],
   "source": [
    "def remove_punctuation(text):\n",
    "    cleaned = ''.join([word for word in text if word not in string.punctuation])\n",
    "    return cleaned\n",
    "\n",
    "class RemovePunctuationTransformer(BaseEstimator, TransformerMixin):\n",
    "    def __init__(self, text_column):\n",
    "        self.text_column = text_column\n",
    "\n",
    "    def fit(self, X, y=None):\n",
    "        return self\n",
    "\n",
    "    def transform(self, X, y=None):\n",
    "        X_ = X.copy()\n",
    "        X_[self.text_column] = X_[self.text_column].apply(lambda x: remove_punctuation(x))\n",
    "        return X_"
   ],
   "metadata": {
    "collapsed": false,
    "ExecuteTime": {
     "end_time": "2023-05-23T11:56:17.289690200Z",
     "start_time": "2023-05-23T11:56:17.256406700Z"
    }
   }
  },
  {
   "cell_type": "markdown",
   "source": [
    "Tokenizacja"
   ],
   "metadata": {
    "collapsed": false
   }
  },
  {
   "cell_type": "code",
   "execution_count": 23,
   "outputs": [],
   "source": [
    "def tokenizer(text):\n",
    "    lower_text = text.lower()\n",
    "    tokenized_text = nltk.word_tokenize(lower_text)\n",
    "    return tokenized_text\n",
    "\n",
    "class TokenizeTransformer(BaseEstimator, TransformerMixin):\n",
    "    def __init__(self, text_column):\n",
    "        self.text_column = text_column\n",
    "\n",
    "    def fit(self, X, y=None):\n",
    "        return self\n",
    "\n",
    "    def transform(self, X, y=None):\n",
    "        X_ = X.copy()\n",
    "        X_[self.text_column] = X_[self.text_column].apply(lambda x: tokenizer(x))\n",
    "        return X_\n"
   ],
   "metadata": {
    "collapsed": false,
    "ExecuteTime": {
     "end_time": "2023-05-23T11:56:18.938867200Z",
     "start_time": "2023-05-23T11:56:18.893939300Z"
    }
   }
  },
  {
   "cell_type": "markdown",
   "source": [
    "Stopwords"
   ],
   "metadata": {
    "collapsed": false
   }
  },
  {
   "cell_type": "code",
   "execution_count": 26,
   "outputs": [
    {
     "name": "stdout",
     "output_type": "stream",
     "text": [
      "Stopwords: ['i', 'me', 'my', 'myself', 'we', 'our', 'ours', 'ourselves', 'you', \"you're\", \"you've\", \"you'll\", \"you'd\", 'your', 'yours', 'yourself', 'yourselves', 'he', 'him', 'his', 'himself', 'she', \"she's\", 'her', 'hers', 'herself', 'it', \"it's\", 'its', 'itself', 'they', 'them', 'their', 'theirs', 'themselves', 'what', 'which', 'who', 'whom', 'this', 'that', \"that'll\", 'these', 'those', 'am', 'is', 'are', 'was', 'were', 'be', 'been', 'being', 'have', 'has', 'had', 'having', 'do', 'does', 'did', 'doing', 'a', 'an', 'the', 'and', 'but', 'if', 'or', 'because', 'as', 'until', 'while', 'of', 'at', 'by', 'for', 'with', 'about', 'against', 'between', 'into', 'through', 'during', 'before', 'after', 'above', 'below', 'to', 'from', 'up', 'down', 'in', 'out', 'on', 'off', 'over', 'under', 'again', 'further', 'then', 'once', 'here', 'there', 'when', 'where', 'why', 'how', 'all', 'any', 'both', 'each', 'few', 'more', 'most', 'other', 'some', 'such', 'no', 'nor', 'not', 'only', 'own', 'same', 'so', 'than', 'too', 'very', 's', 't', 'can', 'will', 'just', 'don', \"don't\", 'should', \"should've\", 'now', 'd', 'll', 'm', 'o', 're', 've', 'y', 'ain', 'aren', \"aren't\", 'couldn', \"couldn't\", 'didn', \"didn't\", 'doesn', \"doesn't\", 'hadn', \"hadn't\", 'hasn', \"hasn't\", 'haven', \"haven't\", 'isn', \"isn't\", 'ma', 'mightn', \"mightn't\", 'mustn', \"mustn't\", 'needn', \"needn't\", 'shan', \"shan't\", 'shouldn', \"shouldn't\", 'wasn', \"wasn't\", 'weren', \"weren't\", 'won', \"won't\", 'wouldn', \"wouldn't\"]\n"
     ]
    }
   ],
   "source": [
    "stopwords = nltk.corpus.stopwords.words('english')\n",
    "print(f'Stopwords: {stopwords}')\n",
    "\n",
    "def remove_stopwords(text):\n",
    "    without_stopwords = [word for word in text if word not in stopwords]\n",
    "    return without_stopwords\n",
    "\n",
    "\n",
    "class RemoveStopwordsTransformer(BaseEstimator, TransformerMixin):\n",
    "    def __init__(self, text_column):\n",
    "        self.text_column = text_column\n",
    "\n",
    "    def fit(self, X, y=None):\n",
    "        return self\n",
    "\n",
    "    def transform(self, X, y=None):\n",
    "        X_ = X.copy()\n",
    "        X_[self.text_column] = X_[self.text_column].apply(lambda x: remove_stopwords(x))\n",
    "        return X_"
   ],
   "metadata": {
    "collapsed": false,
    "ExecuteTime": {
     "end_time": "2023-05-23T11:57:13.972812600Z",
     "start_time": "2023-05-23T11:57:13.917381Z"
    }
   }
  },
  {
   "cell_type": "markdown",
   "source": [
    "Usuwanie krótkich tokenów"
   ],
   "metadata": {
    "collapsed": false
   }
  },
  {
   "cell_type": "code",
   "execution_count": 27,
   "outputs": [],
   "source": [
    "def remove_short_tokens(text):\n",
    "    without_shorts = [word for word in text if len(word) > 2]\n",
    "    return without_shorts\n",
    "\n",
    "\n",
    "class RemoveShortTokensTransformer(BaseEstimator, TransformerMixin):\n",
    "    def __init__(self, text_column):\n",
    "        self.text_column = text_column\n",
    "\n",
    "    def fit(self, X, y=None):\n",
    "        return self\n",
    "\n",
    "    def transform(self, X, y=None):\n",
    "        X_ = X.copy()\n",
    "        X_[self.text_column] = X_[self.text_column].apply(lambda x: remove_short_tokens(x))\n",
    "        return X_"
   ],
   "metadata": {
    "collapsed": false,
    "ExecuteTime": {
     "end_time": "2023-05-23T11:57:43.355487400Z",
     "start_time": "2023-05-23T11:57:43.323204900Z"
    }
   }
  },
  {
   "cell_type": "markdown",
   "source": [
    "Stemmer"
   ],
   "metadata": {
    "collapsed": false
   }
  },
  {
   "cell_type": "code",
   "execution_count": 31,
   "outputs": [],
   "source": [
    "def stemming(text):\n",
    "    stemmer = PorterStemmer()\n",
    "    stemmed_words = [stemmer.stem(word) for word in text]\n",
    "    return stemmed_words\n",
    "\n",
    "\n",
    "class StemTransformer(BaseEstimator, TransformerMixin):\n",
    "    def __init__(self, text_column):\n",
    "        self.text_column = text_column\n",
    "\n",
    "    def fit(self, X, y=None):\n",
    "        return self\n",
    "\n",
    "    def transform(self, X, y=None):\n",
    "        X_ = X.copy()\n",
    "        X_[self.text_column] = X_[self.text_column].apply(lambda x: stemming(x))\n",
    "        return X_"
   ],
   "metadata": {
    "collapsed": false,
    "ExecuteTime": {
     "end_time": "2023-05-23T11:59:03.272098600Z",
     "start_time": "2023-05-23T11:59:03.223185300Z"
    }
   }
  },
  {
   "cell_type": "markdown",
   "source": [
    "3.4. Pipeline do przetwarzania danych tekstowych (bez klasyfikacji)"
   ],
   "metadata": {
    "collapsed": false
   }
  },
  {
   "cell_type": "code",
   "execution_count": 80,
   "outputs": [
    {
     "name": "stdout",
     "output_type": "stream",
     "text": [
      "3181762   #MarketAlert (Last 24h):\n",
      "Top 100 price change: -1.1% (avg)\n",
      "59 of the top 100 coins declining\n",
      "bitcoin: +1.1% $BTC https://twitter.com/CoinWatcherBot/status/916868321974390784 … $…\n"
     ]
    }
   ],
   "source": [
    "#testowy tekst\n",
    "i = randint(0, len(data['text']))\n",
    "print(i, '\\n', data['text'][i])"
   ],
   "metadata": {
    "collapsed": false,
    "ExecuteTime": {
     "end_time": "2023-05-23T12:33:07.289644200Z",
     "start_time": "2023-05-23T12:33:01.189900900Z"
    }
   }
  },
  {
   "cell_type": "code",
   "execution_count": 84,
   "outputs": [],
   "source": [
    "text_prep_pipeline = Pipeline(steps=[\n",
    "    ('remove_punctuation', RemovePunctuationTransformer(text_column='text')),\n",
    "    ('tokenizer', TokenizeTransformer(text_column='text')),\n",
    "    ('remove_stop_words', RemoveStopwordsTransformer(text_column='text')),\n",
    "    ('remove_short_tokens', RemoveShortTokensTransformer(text_column='text')),\n",
    "    ('stemmer', StemTransformer(text_column='text')),\n",
    "    ('tfidf_vectorizer', TfidfVectorizer()),\n",
    "    ('tfidf_vectorizer', TfidfVectorizer(min_df=0.1, max_df=0.8, ngram_range=(1,2))),\n",
    "])"
   ],
   "metadata": {
    "collapsed": false,
    "ExecuteTime": {
     "end_time": "2023-05-23T12:34:45.306218700Z",
     "start_time": "2023-05-23T12:34:45.273954300Z"
    }
   }
  },
  {
   "cell_type": "code",
   "execution_count": 89,
   "outputs": [],
   "source": [
    "X_train = text_prep_pipeline.fit_transform(X_train)"
   ],
   "metadata": {
    "collapsed": false,
    "ExecuteTime": {
     "end_time": "2023-05-23T12:39:06.523219400Z",
     "start_time": "2023-05-23T12:37:36.272922100Z"
    }
   }
  },
  {
   "cell_type": "code",
   "execution_count": 90,
   "outputs": [
    {
     "data": {
      "text/plain": "'MarketAlert Last 24h\\nTop 100 price change 11 avg\\n59 of the top 100 coins declining\\nbitcoin 11 BTC httpstwittercomCoinWatcherBotstatus916868321974390784\\xa0… …'"
     },
     "execution_count": 90,
     "metadata": {},
     "output_type": "execute_result"
    }
   ],
   "source": [
    "X_train.at[3181762,'text']"
   ],
   "metadata": {
    "collapsed": false,
    "ExecuteTime": {
     "end_time": "2023-05-23T12:39:12.422259900Z",
     "start_time": "2023-05-23T12:39:12.372905600Z"
    }
   }
  },
  {
   "cell_type": "code",
   "execution_count": 78,
   "outputs": [
    {
     "data": {
      "text/plain": "'And...immutable in code.\\n\\nYou prefer the \"code\" of natural supply. This is code of arbitrary, but limited supply.\\n\\nCurrency is a game. Bitcoin plays the rules.'"
     },
     "execution_count": 78,
     "metadata": {},
     "output_type": "execute_result"
    }
   ],
   "source": [
    "X_train.at[1204853,'text']"
   ],
   "metadata": {
    "collapsed": false,
    "ExecuteTime": {
     "end_time": "2023-05-23T12:30:07.039836500Z",
     "start_time": "2023-05-23T12:30:06.989875400Z"
    }
   }
  },
  {
   "cell_type": "code",
   "execution_count": 63,
   "outputs": [
    {
     "data": {
      "text/plain": "Index([2796052, 2795651, 2795650, 2795649, 2795648, 2795647, 2795646, 2795652,\n       2795645, 2795643,\n       ...\n       1204847, 1204848, 1204849, 1204850, 1204851, 1204852, 1204853, 1204854,\n       1204845, 1139618],\n      dtype='int64', length=3121628)"
     },
     "execution_count": 63,
     "metadata": {},
     "output_type": "execute_result"
    }
   ],
   "source": [
    "X_train.index"
   ],
   "metadata": {
    "collapsed": false,
    "ExecuteTime": {
     "end_time": "2023-05-23T12:26:41.338583600Z",
     "start_time": "2023-05-23T12:26:41.289668700Z"
    }
   }
  },
  {
   "cell_type": "markdown",
   "source": [
    "A tu zaczyna się klasyfikacja... [od tego momentu nie przeglądałam kodu - G]"
   ],
   "metadata": {
    "collapsed": false
   }
  },
  {
   "cell_type": "markdown",
   "source": [
    "Sprawdzenie jakości danych wchodzących do klasyfikatora"
   ],
   "metadata": {
    "collapsed": false
   }
  },
  {
   "cell_type": "code",
   "execution_count": 34,
   "outputs": [
    {
     "name": "stdout",
     "output_type": "stream",
     "text": [
      "Index(['Date', 'text', 'bitcoin_price', 'bitcoin_trend'], dtype='object')\n",
      "Index(['text'], dtype='object')\n",
      "Kolumna 'text' istnieje w danych\n",
      "Kolumna 'text' istnieje w X_train\n"
     ]
    }
   ],
   "source": [
    "X_train.info()\n",
    "\n",
    "print(data.columns)  # Wyświetlanie nazw kolumn w danych\n",
    "print(X_train.columns)  # Wyświetlanie nazw kolumn w X_train\n",
    "\n",
    "# Sprawdzenie, czy kolumna 'text' istnieje w danych\n",
    "if 'text' in data.columns:\n",
    "    print(\"Kolumna 'text' istnieje w danych\")\n",
    "else:\n",
    "    print(\"Kolumna 'text' nie istnieje w danych\")\n",
    "\n",
    "# Sprawdzenie, czy kolumna 'text' istnieje w X_train\n",
    "if 'text' in X_train.columns:\n",
    "    print(\"Kolumna 'text' istnieje w X_train\")\n",
    "else:\n",
    "    print(\"Kolumna 'text' nie istnieje w X_train\")"
   ],
   "metadata": {
    "collapsed": false,
    "ExecuteTime": {
     "end_time": "2023-05-23T12:00:37.223212400Z",
     "start_time": "2023-05-23T12:00:37.173281900Z"
    }
   }
  },
  {
   "cell_type": "code",
   "execution_count": null,
   "outputs": [],
   "source": [
    "logistic_regression_pipeline.fit_transform(X_train, y_train)\n",
    "# Parametry do przetestowania w grid search\n",
    "parameters = {\n",
    "    'tfidf_vectorizer__ngram_range': [(1, 1), (1, 2), (2, 2)],\n",
    "    'tfidf_vectorizer__min_df': [1, 2, 3],\n",
    "    'tfidf_vectorizer__max_df': [0.5, 0.75, 1.0],\n",
    "    'model__C': [0.1, 1, 10]\n",
    "}\n",
    "\n",
    "# Utworzenie obiektu GridSearchCV\n",
    "grid_search = GridSearchCV(estimator=test_pipe, param_grid=parameters, cv=5)\n",
    "\n",
    "# Dopasowanie modelu grid search do danych\n",
    "grid_search.fit(X_train['text'], y_train['bitcoin_trend'])\n",
    "\n",
    "# Najlepsze parametry i wynik\n",
    "print(\"Najlepsze parametry: \", grid_search.best_params_)\n",
    "print(\"Najlepszy wynik: \", grid_search.best_score_)\n",
    "nltk.download('punkt')\n",
    "test_pipe.fit(X_train, y_train)\n",
    "test_pipe.prediction(X_test)\n",
    "y_pred = pipe_lg.predict(X_test)\n",
    "# Evaluate the model\n",
    "accuracy = accuracy_score(y_test, y_pred)\n",
    "precision = precision_score(y_test, y_pred)\n",
    "recall = recall_score(y_test, y_pred)\n",
    "f1 = f1_score(y_test, y_pred)\n",
    "print(\"Accuracy: {:.2f}\".format(accuracy))\n",
    "print(\"Precision: {:.2f}\".format(precision))\n",
    "print('Recall:{:.2f'.format(recall))\n"
   ],
   "metadata": {
    "collapsed": false
   }
  }
 ],
 "metadata": {
  "kernelspec": {
   "display_name": "Python 3",
   "language": "python",
   "name": "python3"
  },
  "language_info": {
   "codemirror_mode": {
    "name": "ipython",
    "version": 2
   },
   "file_extension": ".py",
   "mimetype": "text/x-python",
   "name": "python",
   "nbconvert_exporter": "python",
   "pygments_lexer": "ipython2",
   "version": "2.7.6"
  }
 },
 "nbformat": 4,
 "nbformat_minor": 0
}
